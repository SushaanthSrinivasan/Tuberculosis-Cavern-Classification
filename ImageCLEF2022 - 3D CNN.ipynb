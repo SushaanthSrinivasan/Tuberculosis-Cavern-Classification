{
  "cells": [
    {
      "cell_type": "markdown",
      "metadata": {
        "id": "9Naqi5IBY5T4"
      },
      "source": [
        "### 3D-CNN"
      ]
    },
    {
      "cell_type": "code",
      "execution_count": null,
      "metadata": {
        "id": "mnzPUL-1Y5UI"
      },
      "outputs": [],
      "source": [
        "import os\n",
        "os.environ['TF_FORCE_GPU_ALLOW_GROWTH'] = 'true'"
      ]
    },
    {
      "cell_type": "code",
      "execution_count": null,
      "metadata": {
        "colab": {
          "base_uri": "https://localhost:8080/"
        },
        "id": "YVv3HiG6Y5UK",
        "outputId": "3d790931-26a7-4fab-98c8-0a51dcef7587"
      },
      "outputs": [
        {
          "name": "stdout",
          "output_type": "stream",
          "text": [
            "Keras Version 2.8.0\n",
            "Tensorflow Version 2.8.0\n"
          ]
        }
      ],
      "source": [
        "import keras\n",
        "import tensorflow as tf\n",
        "\n",
        "print(\"Keras Version\", keras.__version__)\n",
        "print(\"Tensorflow Version\", tf.__version__)"
      ]
    },
    {
      "cell_type": "code",
      "execution_count": null,
      "metadata": {
        "colab": {
          "base_uri": "https://localhost:8080/"
        },
        "id": "VgmRN0VPY5UM",
        "outputId": "bf8b7783-00ef-424a-ad3e-40978c29122f"
      },
      "outputs": [
        {
          "name": "stdout",
          "output_type": "stream",
          "text": [
            "['/device:GPU:0']\n"
          ]
        }
      ],
      "source": [
        "from tensorflow.python.client import device_lib\n",
        "def get_available_gpus():\n",
        "    local_device_protos = device_lib.list_local_devices()\n",
        "    return [x.name for x in local_device_protos if x.device_type == 'GPU']\n",
        "\n",
        "print(get_available_gpus())"
      ]
    },
    {
      "cell_type": "code",
      "execution_count": null,
      "metadata": {
        "colab": {
          "base_uri": "https://localhost:8080/"
        },
        "id": "I8uQInkfY5UO",
        "outputId": "4b7f4db9-a867-4b50-f97f-18ce2d40b361"
      },
      "outputs": [
        {
          "data": {
            "text/plain": [
              "[name: \"/device:CPU:0\"\n",
              " device_type: \"CPU\"\n",
              " memory_limit: 268435456\n",
              " locality {\n",
              " }\n",
              " incarnation: 10228424781933687759\n",
              " xla_global_id: -1, name: \"/device:GPU:0\"\n",
              " device_type: \"GPU\"\n",
              " memory_limit: 14465892352\n",
              " locality {\n",
              "   bus_id: 1\n",
              "   links {\n",
              "   }\n",
              " }\n",
              " incarnation: 15741075925545537391\n",
              " physical_device_desc: \"device: 0, name: Tesla T4, pci bus id: 0000:00:04.0, compute capability: 7.5\"\n",
              " xla_global_id: 416903419]"
            ]
          },
          "execution_count": 6,
          "metadata": {},
          "output_type": "execute_result"
        }
      ],
      "source": [
        "from tensorflow.python.client import device_lib\n",
        "device_lib.list_local_devices()"
      ]
    },
    {
      "cell_type": "code",
      "execution_count": null,
      "metadata": {
        "colab": {
          "base_uri": "https://localhost:8080/"
        },
        "id": "-8v2OHDdY5UQ",
        "outputId": "1e3a4a90-c946-47ff-e75e-f2d25a946c31"
      },
      "outputs": [
        {
          "data": {
            "text/plain": [
              "True"
            ]
          },
          "execution_count": 7,
          "metadata": {},
          "output_type": "execute_result"
        }
      ],
      "source": [
        "tf.test.is_built_with_cuda()"
      ]
    },
    {
      "cell_type": "code",
      "execution_count": null,
      "metadata": {
        "colab": {
          "base_uri": "https://localhost:8080/"
        },
        "id": "XurtYRR-Y5US",
        "outputId": "6d0cb128-f831-40b8-b24a-2473dfd3af7b"
      },
      "outputs": [
        {
          "data": {
            "text/plain": [
              "[PhysicalDevice(name='/physical_device:GPU:0', device_type='GPU')]"
            ]
          },
          "execution_count": 8,
          "metadata": {},
          "output_type": "execute_result"
        }
      ],
      "source": [
        "tf.config.list_physical_devices('GPU')"
      ]
    },
    {
      "cell_type": "code",
      "execution_count": null,
      "metadata": {
        "colab": {
          "base_uri": "https://localhost:8080/"
        },
        "id": "D7ZpRx7xZxCn",
        "outputId": "3714bfc3-7a69-4c47-dcd0-998596f0889d"
      },
      "outputs": [
        {
          "name": "stdout",
          "output_type": "stream",
          "text": [
            "Mounted at /content/drive/\n"
          ]
        }
      ],
      "source": [
        "from google.colab import drive\n",
        "drive.mount('/content/drive/')"
      ]
    },
    {
      "cell_type": "code",
      "execution_count": null,
      "metadata": {
        "colab": {
          "base_uri": "https://localhost:8080/"
        },
        "id": "tSs8XjcdteBW",
        "outputId": "a9e7ac96-d247-44ec-86e2-198b8e41b5a1"
      },
      "outputs": [
        {
          "name": "stdout",
          "output_type": "stream",
          "text": [
            "Keras Version 2.8.0\n",
            "Tensorflow Version 2.8.0\n"
          ]
        }
      ],
      "source": [
        "from keras.utils import np_utils\n",
        "from keras.layers import Conv3D, MaxPool3D, Flatten, Dense\n",
        "from keras.layers import Dropout, Input, BatchNormalization\n",
        "from sklearn.metrics import confusion_matrix, accuracy_score\n",
        "from keras.losses import binary_crossentropy\n",
        "from tensorflow.keras.optimizers import Adadelta, SGD\n",
        "from matplotlib.pyplot import cm\n",
        "import matplotlib.pyplot as plt\n",
        "from keras.models import Model\n",
        "import cv2\n",
        "import time\n",
        "import os\n",
        "import numpy as np\n",
        "import keras\n",
        "import h5py\n",
        "import numpy as np\n",
        "from keras import regularizers\n",
        "import os\n",
        "import glob\n",
        "import cv2\n",
        "import random\n",
        "import matplotlib.pyplot as plt\n",
        "from sklearn.utils import shuffle\n",
        "from sklearn.model_selection import train_test_split\n",
        "from sklearn.model_selection import StratifiedKFold\n",
        "from sklearn.metrics import roc_curve, roc_auc_score\n",
        "from keras.preprocessing.image import ImageDataGenerator\n",
        "from keras.callbacks import ModelCheckpoint, CSVLogger, EarlyStopping, ReduceLROnPlateau\n",
        "from keras.models import Sequential\n",
        "from tensorflow.keras.optimizers import RMSprop\n",
        "from keras.layers import Conv2D, MaxPooling2D\n",
        "from keras.layers import Activation, Dropout, Flatten, Dense\n",
        "from sklearn.utils import shuffle\n",
        "from sklearn.model_selection import train_test_split\n",
        "from keras import optimizers\n",
        "#from keras.utils import to_categorical, plot_model\n",
        "from tensorflow.keras.utils import to_categorical, plot_model\n",
        "from keras.layers import Dense, Input, Conv2D, Flatten, MaxPooling2D, Activation\n",
        "from keras.models import Model, Sequential\n",
        "from keras.layers import Activation, Dropout, Flatten, Dense\n",
        "from keras.callbacks import ModelCheckpoint\n",
        "from tensorflow.keras.optimizers import Adam\n",
        "from keras.applications.vgg16 import VGG16\n",
        "from keras.models import load_model\n",
        "from keras.utils import np_utils\n",
        "from keras import backend as K\n",
        "from keras.models import load_model\n",
        "import keras\n",
        "import tensorflow as tf\n",
        "\n",
        "\n",
        "print(\"Keras Version\", keras.__version__)\n",
        "print(\"Tensorflow Version\", tf.__version__)\n",
        "\n",
        "\n",
        "def create_directory(directory):\n",
        "    '''\n",
        "    Creates a new folder in the specified directory if the folder doesn't exist.\n",
        "    INPUT\n",
        "        directory: Folder to be created, called as \"folder/\".\n",
        "    OUTPUT\n",
        "        New folder in the current directory.\n",
        "    '''\n",
        "    if not os.path.exists(directory):\n",
        "        os.makedirs(directory)\n",
        "\n",
        "\n",
        "base_path = os.path.abspath(\"/content/drive/MyDrive/Colab Notebooks/NII-Mask-TB Task/3d-resnet\")\n",
        "dataset_basepath = \"/content/drive/MyDrive/Colab Notebooks/NII-Mask-TB Task\"\n",
        "dataset_path = os.path.join(dataset_basepath, \"3D-image-classification-tutorial-master\")\n",
        "\n",
        "model_path = os.path.join(base_path, \"models\")\n",
        "log_path = os.path.join(base_path, \"logs\")\n",
        "\n",
        "experiment_name = \"exp_siz_calcification\"\n",
        "\n",
        "create_directory(log_path)\n",
        "create_directory(log_path+\"/\"+experiment_name)"
      ]
    },
    {
      "cell_type": "code",
      "execution_count": null,
      "metadata": {
        "colab": {
          "base_uri": "https://localhost:8080/"
        },
        "id": "G4VLrAcoiKmV",
        "outputId": "42b71a7a-cf40-4ee5-fba8-e2f03cc84137"
      },
      "outputs": [
        {
          "name": "stdout",
          "output_type": "stream",
          "text": [
            "Raw data:  (60, 128, 128, 64) (60, 2)\n",
            "After splitting:  (48, 128, 128, 64) (48, 2) (12, 128, 128, 64) (12, 2)\n",
            "Count:  26 22\n",
            "After expanding:  (48, 128, 128, 64, 1) (12, 128, 128, 64, 1)\n"
          ]
        }
      ],
      "source": [
        "from sklearn.model_selection import train_test_split\n",
        "\n",
        "raw = np.load('{}/x_train_siz_norm_60-files.npy'.format(base_path))\n",
        "labels = np.load('{}/y_train_clef_calcification.npy'.format(base_path))\n",
        "\n",
        "print(\"Raw data: \", raw.shape, labels.shape)\n",
        "\n",
        "X_train, X_test, y_train, y_test = train_test_split(raw, labels, test_size=0.2, random_state=1)\n",
        "print(\"After splitting: \", X_train.shape, y_train.shape, X_test.shape, y_test.shape)\n",
        "\n",
        "y = np.array([np.argmax(x) for x in y_train])\n",
        "print(\"Count: \", np.count_nonzero(y == 1), np.count_nonzero(y == 0))\n",
        "\n",
        "def expand_dims(val):\n",
        "    val_exp = np.expand_dims(val, axis=4)\n",
        "    return val_exp\n",
        "\n",
        "X_train = expand_dims(X_train)\n",
        "X_test = expand_dims(X_test)\n",
        "print(\"After expanding: \", X_train.shape, X_test.shape)"
      ]
    },
    {
      "cell_type": "code",
      "execution_count": null,
      "metadata": {
        "colab": {
          "base_uri": "https://localhost:8080/",
          "height": 1000
        },
        "id": "R-O8vQnPtp4s",
        "outputId": "ca5b5eed-d947-4b25-8cce-053b94b84f80"
      },
      "outputs": [
        {
          "name": "stdout",
          "output_type": "stream",
          "text": [
            "Model: \"model\"\n",
            "_________________________________________________________________\n",
            " Layer (type)                Output Shape              Param #   \n",
            "=================================================================\n",
            " input_1 (InputLayer)        [(None, 128, 128, 64, 1)  0         \n",
            "                             ]                                   \n",
            "                                                                 \n",
            " conv3d (Conv3D)             (None, 126, 126, 62, 64)  1792      \n",
            "                                                                 \n",
            " max_pooling3d (MaxPooling3D  (None, 63, 63, 31, 64)   0         \n",
            " )                                                               \n",
            "                                                                 \n",
            " batch_normalization (BatchN  (None, 63, 63, 31, 64)   256       \n",
            " ormalization)                                                   \n",
            "                                                                 \n",
            " conv3d_2 (Conv3D)           (None, 61, 61, 29, 64)    110656    \n",
            "                                                                 \n",
            " max_pooling3d_2 (MaxPooling  (None, 30, 30, 14, 64)   0         \n",
            " 3D)                                                             \n",
            "                                                                 \n",
            " batch_normalization_2 (Batc  (None, 30, 30, 14, 64)   256       \n",
            " hNormalization)                                                 \n",
            "                                                                 \n",
            " conv3d_3 (Conv3D)           (None, 28, 28, 12, 128)   221312    \n",
            "                                                                 \n",
            " max_pooling3d_3 (MaxPooling  (None, 14, 14, 6, 128)   0         \n",
            " 3D)                                                             \n",
            "                                                                 \n",
            " batch_normalization_3 (Batc  (None, 14, 14, 6, 128)   512       \n",
            " hNormalization)                                                 \n",
            "                                                                 \n",
            " conv3d_4 (Conv3D)           (None, 12, 12, 4, 256)    884992    \n",
            "                                                                 \n",
            " max_pooling3d_4 (MaxPooling  (None, 6, 6, 2, 256)     0         \n",
            " 3D)                                                             \n",
            "                                                                 \n",
            " batch_normalization_4 (Batc  (None, 6, 6, 2, 256)     1024      \n",
            " hNormalization)                                                 \n",
            "                                                                 \n",
            " flatten (Flatten)           (None, 18432)             0         \n",
            "                                                                 \n",
            " dense (Dense)               (None, 512)               9437696   \n",
            "                                                                 \n",
            " dropout (Dropout)           (None, 512)               0         \n",
            "                                                                 \n",
            " dropout_1 (Dropout)         (None, 512)               0         \n",
            "                                                                 \n",
            " dense_2 (Dense)             (None, 2)                 1026      \n",
            "                                                                 \n",
            "=================================================================\n",
            "Total params: 10,659,522\n",
            "Trainable params: 10,658,498\n",
            "Non-trainable params: 1,024\n",
            "_________________________________________________________________\n"
          ]
        },
        {
          "name": "stderr",
          "output_type": "stream",
          "text": [
            "/usr/local/lib/python3.7/dist-packages/keras/optimizer_v2/gradient_descent.py:102: UserWarning: The `lr` argument is deprecated, use `learning_rate` instead.\n",
            "  super(SGD, self).__init__(name, **kwargs)\n"
          ]
        },
        {
          "data": {
            "image/png": "[encoded data removed]",
            "text/plain": [
              "<IPython.core.display.Image object>"
            ]
          },
          "execution_count": 13,
          "metadata": {},
          "output_type": "execute_result"
        }
      ],
      "source": [
        "weights_path = \"{}/{}.h5\".format(log_path+\"/\"+experiment_name, \"best_model\")\n",
        "checkpointer = ModelCheckpoint(filepath=weights_path, verbose=1, monitor='val_loss', save_best_only=True)\n",
        "reduce_lr = ReduceLROnPlateau(monitor='val_loss', factor=0.1, patience=5, verbose=1, min_lr=1e-8, mode='auto')\n",
        "early_stopping = EarlyStopping(monitor='val_loss', min_delta=0, verbose=1, patience=8, mode='auto', restore_best_weights=True)\n",
        "csv_logger = CSVLogger('{}/training.csv'.format(log_path+\"/\"+experiment_name))\n",
        "\n",
        "from sklearn.utils import class_weight\n",
        "\n",
        "def network_3d():\n",
        "\n",
        "    input_layer = Input((128, 128, 64, 1))\n",
        "\n",
        "    conv_layer1 = Conv3D(filters=64, kernel_size=(3, 3, 3), activation='relu')(input_layer)\n",
        "    pooling_layer1 = MaxPool3D(pool_size=(2, 2, 2))(conv_layer1)\n",
        "\n",
        "    pooling_layer1 = BatchNormalization()(pooling_layer1)\n",
        "    conv_layer2 = Conv3D(filters=64, kernel_size=(3, 3, 3), activation='relu')(pooling_layer1)\n",
        "    pooling_layer2 = MaxPool3D(pool_size=(2, 2, 2))(conv_layer2)\n",
        "    pooling_layer2 = BatchNormalization()(pooling_layer2)\n",
        "    conv_layer3 = Conv3D(filters=64, kernel_size=(3, 3, 3), activation='relu')(pooling_layer1)\n",
        "    pooling_layer3 = MaxPool3D(pool_size=(2, 2, 2))(conv_layer3)\n",
        "    pooling_layer3 = BatchNormalization()(pooling_layer3)\n",
        "    conv_layer4 = Conv3D(filters=128, kernel_size=(3, 3, 3), activation='relu')(pooling_layer3)\n",
        "    pooling_layer4 = MaxPool3D(pool_size=(2, 2, 2))(conv_layer4)\n",
        "    pooling_layer4 = BatchNormalization()(pooling_layer4)\n",
        "    conv_layer5 = Conv3D(filters=256, kernel_size=(3, 3, 3), activation='relu')(pooling_layer4)\n",
        "    pooling_layer5 = MaxPool3D(pool_size=(2, 2, 2))(conv_layer5)\n",
        "\n",
        "    pooling_layer9 = BatchNormalization()(pooling_layer5)\n",
        "    flatten_layer = Flatten()(pooling_layer9)\n",
        "\n",
        "    dense_layer3 = Dense(units=512, activation='relu')(flatten_layer)\n",
        "    dense_layer3 = Dropout(0.4)(dense_layer3)\n",
        "\n",
        "    dense_layer4 = Dense(units=256, activation='relu')(dense_layer3)\n",
        "    dense_layer4 = Dropout(0.4)(dense_layer3)\n",
        "\n",
        "    output_layer = Dense(units=2, activation='softmax')(dense_layer4)\n",
        "\n",
        "    model = Model(inputs=input_layer, outputs=output_layer)\n",
        "\n",
        "    model.compile(loss='mae', optimizer=SGD(lr=1e-06, momentum=0.99, decay=0.0, nesterov=False), metrics=['acc'])\n",
        "\n",
        "    return model\n",
        "\n",
        "model = None\n",
        "model = network_3d()\n",
        "model.summary()\n",
        "tf.keras.utils.plot_model(model, to_file='/tbt_classification.png', show_shapes=True, show_layer_names=True)"
      ]
    },
    {
      "cell_type": "code",
      "execution_count": null,
      "metadata": {
        "id": "Q6kCLuRNgyTn"
      },
      "outputs": [],
      "source": [
        "from keras.utils import np_utils"
      ]
    },
    {
      "cell_type": "code",
      "execution_count": null,
      "metadata": {
        "colab": {
          "base_uri": "https://localhost:8080/"
        },
        "id": "bI2F2Zw5-e2D",
        "outputId": "e6a51774-2aad-4c6a-db17-24142f1d360b"
      },
      "outputs": [
        {
          "name": "stdout",
          "output_type": "stream",
          "text": [
            "StratifiedKFold(n_splits=10, random_state=1, shuffle=True)\n",
            "(48, 128, 128, 64, 1) (48,)\n",
            "Fold - 0 (43, 128, 128, 64, 1) (43,) (5, 128, 128, 64, 1) (5,)\n"
          ]
        },
        {
          "name": "stderr",
          "output_type": "stream",
          "text": [
            "/usr/local/lib/python3.7/dist-packages/keras/optimizer_v2/gradient_descent.py:102: UserWarning: The `lr` argument is deprecated, use `learning_rate` instead.\n",
            "  super(SGD, self).__init__(name, **kwargs)\n"
          ]
        },
        {
          "name": "stdout",
          "output_type": "stream",
          "text": [
            "Epoch 1/100\n",
            "22/22 [==============================] - 22s 457ms/step - loss: 0.4715 - acc: 0.5581 - val_loss: 0.4794 - val_acc: 0.6000\n",
            "Epoch 2/100\n",
            "22/22 [==============================] - 9s 396ms/step - loss: 0.5613 - acc: 0.4419 - val_loss: 0.4596 - val_acc: 0.6000\n",
            "Epoch 3/100\n",
            "22/22 [==============================] - 9s 398ms/step - loss: 0.4270 - acc: 0.5814 - val_loss: 0.4438 - val_acc: 0.6000\n",
            "Epoch 4/100\n",
            "22/22 [==============================] - 9s 400ms/step - loss: 0.3918 - acc: 0.6279 - val_loss: 0.4320 - val_acc: 0.6000\n",
            "Epoch 5/100\n",
            "22/22 [==============================] - 9s 401ms/step - loss: 0.3680 - acc: 0.6744 - val_loss: 0.4236 - val_acc: 0.6000\n",
            "Epoch 6/100\n",
            "22/22 [==============================] - 9s 401ms/step - loss: 0.3270 - acc: 0.6512 - val_loss: 0.4178 - val_acc: 0.6000\n",
            "Epoch 7/100\n",
            "22/22 [==============================] - 9s 408ms/step - loss: 0.3813 - acc: 0.6047 - val_loss: 0.4135 - val_acc: 0.6000\n",
            "Epoch 8/100\n",
            "22/22 [==============================] - 9s 402ms/step - loss: 0.2836 - acc: 0.7674 - val_loss: 0.4105 - val_acc: 0.6000\n",
            "Epoch 9/100\n",
            "22/22 [==============================] - 9s 400ms/step - loss: 0.2443 - acc: 0.7907 - val_loss: 0.4086 - val_acc: 0.6000\n",
            "Epoch 10/100\n",
            "22/22 [==============================] - 9s 401ms/step - loss: 0.2034 - acc: 0.8605 - val_loss: 0.4076 - val_acc: 0.6000\n",
            "Epoch 11/100\n",
            "22/22 [==============================] - 9s 401ms/step - loss: 0.2959 - acc: 0.7442 - val_loss: 0.4068 - val_acc: 0.6000\n",
            "Epoch 12/100\n",
            "22/22 [==============================] - 9s 401ms/step - loss: 0.2064 - acc: 0.7907 - val_loss: 0.4062 - val_acc: 0.6000\n",
            "Epoch 13/100\n",
            "22/22 [==============================] - 9s 400ms/step - loss: 0.1537 - acc: 0.9070 - val_loss: 0.4055 - val_acc: 0.6000\n",
            "Epoch 14/100\n",
            "22/22 [==============================] - 9s 401ms/step - loss: 0.2165 - acc: 0.8372 - val_loss: 0.4051 - val_acc: 0.6000\n",
            "Epoch 15/100\n",
            "22/22 [==============================] - 9s 414ms/step - loss: 0.1402 - acc: 0.9302 - val_loss: 0.4053 - val_acc: 0.6000\n",
            "Epoch 16/100\n",
            "22/22 [==============================] - 9s 401ms/step - loss: 0.1416 - acc: 0.9302 - val_loss: 0.4056 - val_acc: 0.6000\n",
            "Epoch 17/100\n",
            "22/22 [==============================] - 9s 399ms/step - loss: 0.0895 - acc: 0.9767 - val_loss: 0.4057 - val_acc: 0.6000\n",
            "Epoch 18/100\n",
            "22/22 [==============================] - 9s 401ms/step - loss: 0.1222 - acc: 0.9070 - val_loss: 0.4056 - val_acc: 0.6000\n",
            "Epoch 19/100\n",
            "22/22 [==============================] - 9s 400ms/step - loss: 0.1084 - acc: 0.9302 - val_loss: 0.4050 - val_acc: 0.6000\n",
            "Epoch 20/100\n",
            "22/22 [==============================] - 9s 401ms/step - loss: 0.0620 - acc: 1.0000 - val_loss: 0.4046 - val_acc: 0.6000\n",
            "Epoch 21/100\n",
            "22/22 [==============================] - 9s 399ms/step - loss: 0.0941 - acc: 0.9302 - val_loss: 0.4039 - val_acc: 0.6000\n",
            "Epoch 22/100\n",
            "22/22 [==============================] - 9s 401ms/step - loss: 0.0876 - acc: 0.9767 - val_loss: 0.4038 - val_acc: 0.6000\n",
            "Epoch 23/100\n",
            "22/22 [==============================] - 9s 400ms/step - loss: 0.1071 - acc: 0.9302 - val_loss: 0.4053 - val_acc: 0.6000\n",
            "Epoch 24/100\n",
            "22/22 [==============================] - 9s 401ms/step - loss: 0.0603 - acc: 0.9767 - val_loss: 0.4098 - val_acc: 0.6000\n",
            "Epoch 25/100\n",
            "22/22 [==============================] - 9s 400ms/step - loss: 0.0376 - acc: 1.0000 - val_loss: 0.4168 - val_acc: 0.6000\n",
            "Epoch 26/100\n",
            "22/22 [==============================] - 9s 400ms/step - loss: 0.0420 - acc: 1.0000 - val_loss: 0.4183 - val_acc: 0.6000\n",
            "Epoch 27/100\n",
            "22/22 [==============================] - 9s 399ms/step - loss: 0.0471 - acc: 0.9767 - val_loss: 0.4117 - val_acc: 0.6000\n",
            "Epoch 28/100\n",
            "22/22 [==============================] - 9s 400ms/step - loss: 0.0695 - acc: 0.9535 - val_loss: 0.4120 - val_acc: 0.6000\n",
            "Epoch 29/100\n",
            "22/22 [==============================] - 9s 400ms/step - loss: 0.0613 - acc: 0.9535 - val_loss: 0.4116 - val_acc: 0.6000\n",
            "Epoch 30/100\n",
            "22/22 [==============================] - 9s 401ms/step - loss: 0.0607 - acc: 0.9767 - val_loss: 0.4086 - val_acc: 0.6000\n",
            "Epoch 31/100\n",
            "22/22 [==============================] - 9s 399ms/step - loss: 0.0627 - acc: 0.9535 - val_loss: 0.4124 - val_acc: 0.6000\n",
            "Epoch 32/100\n",
            "22/22 [==============================] - 9s 401ms/step - loss: 0.0388 - acc: 1.0000 - val_loss: 0.4151 - val_acc: 0.6000\n",
            "Epoch 33/100\n",
            "22/22 [==============================] - 9s 399ms/step - loss: 0.0250 - acc: 0.9767 - val_loss: 0.4161 - val_acc: 0.6000\n",
            "Epoch 34/100\n",
            "22/22 [==============================] - 9s 401ms/step - loss: 0.0402 - acc: 0.9767 - val_loss: 0.4219 - val_acc: 0.6000\n",
            "Epoch 35/100\n",
            "22/22 [==============================] - 9s 399ms/step - loss: 0.0347 - acc: 0.9767 - val_loss: 0.4119 - val_acc: 0.6000\n",
            "Epoch 36/100\n",
            "22/22 [==============================] - 9s 400ms/step - loss: 0.0274 - acc: 1.0000 - val_loss: 0.3944 - val_acc: 0.6000\n",
            "Epoch 37/100\n",
            "22/22 [==============================] - 9s 399ms/step - loss: 0.0446 - acc: 0.9767 - val_loss: 0.3951 - val_acc: 0.8000\n",
            "Epoch 38/100\n",
            "22/22 [==============================] - 9s 400ms/step - loss: 0.0539 - acc: 0.9535 - val_loss: 0.4123 - val_acc: 0.6000\n",
            "Epoch 39/100\n",
            "22/22 [==============================] - 9s 399ms/step - loss: 0.0176 - acc: 1.0000 - val_loss: 0.4298 - val_acc: 0.6000\n",
            "Epoch 40/100\n",
            "22/22 [==============================] - 9s 401ms/step - loss: 0.0188 - acc: 1.0000 - val_loss: 0.4616 - val_acc: 0.6000\n",
            "Epoch 41/100\n",
            "22/22 [==============================] - 9s 399ms/step - loss: 0.0372 - acc: 0.9767 - val_loss: 0.4676 - val_acc: 0.6000\n",
            "Epoch 42/100\n",
            "22/22 [==============================] - 9s 401ms/step - loss: 0.0088 - acc: 1.0000 - val_loss: 0.4437 - val_acc: 0.6000\n",
            "Epoch 43/100\n",
            "22/22 [==============================] - 9s 399ms/step - loss: 0.0214 - acc: 1.0000 - val_loss: 0.4409 - val_acc: 0.6000\n",
            "Epoch 44/100\n",
            "22/22 [==============================] - 9s 401ms/step - loss: 0.0079 - acc: 1.0000 - val_loss: 0.4582 - val_acc: 0.6000\n",
            "Epoch 45/100\n",
            "22/22 [==============================] - 9s 400ms/step - loss: 0.0512 - acc: 0.9767 - val_loss: 0.4741 - val_acc: 0.6000\n",
            "Epoch 46/100\n",
            "22/22 [==============================] - 9s 401ms/step - loss: 0.0109 - acc: 1.0000 - val_loss: 0.4799 - val_acc: 0.6000\n",
            "Epoch 47/100\n",
            "22/22 [==============================] - 9s 399ms/step - loss: 0.0249 - acc: 1.0000 - val_loss: 0.4703 - val_acc: 0.6000\n",
            "Epoch 48/100\n",
            "22/22 [==============================] - 9s 400ms/step - loss: 0.0107 - acc: 1.0000 - val_loss: 0.4524 - val_acc: 0.6000\n",
            "Epoch 49/100\n",
            "22/22 [==============================] - 9s 399ms/step - loss: 0.0067 - acc: 1.0000 - val_loss: 0.4439 - val_acc: 0.6000\n",
            "Epoch 50/100\n",
            "22/22 [==============================] - 9s 399ms/step - loss: 0.0034 - acc: 1.0000 - val_loss: 0.4419 - val_acc: 0.6000\n",
            "Epoch 51/100\n",
            "22/22 [==============================] - 9s 399ms/step - loss: 0.0084 - acc: 1.0000 - val_loss: 0.4409 - val_acc: 0.6000\n",
            "Epoch 52/100\n",
            "22/22 [==============================] - 9s 401ms/step - loss: 0.0279 - acc: 0.9767 - val_loss: 0.4356 - val_acc: 0.6000\n",
            "Epoch 53/100\n",
            "22/22 [==============================] - 9s 399ms/step - loss: 0.0083 - acc: 1.0000 - val_loss: 0.4256 - val_acc: 0.6000\n",
            "Epoch 54/100\n",
            "22/22 [==============================] - 9s 401ms/step - loss: 0.0093 - acc: 1.0000 - val_loss: 0.4181 - val_acc: 0.6000\n",
            "Epoch 55/100\n",
            "22/22 [==============================] - 9s 399ms/step - loss: 0.0078 - acc: 1.0000 - val_loss: 0.4134 - val_acc: 0.6000\n",
            "Epoch 56/100\n",
            "22/22 [==============================] - 9s 400ms/step - loss: 0.0073 - acc: 1.0000 - val_loss: 0.4220 - val_acc: 0.6000\n",
            "Epoch 57/100\n",
            "22/22 [==============================] - 9s 399ms/step - loss: 0.0043 - acc: 1.0000 - val_loss: 0.4261 - val_acc: 0.6000\n",
            "Epoch 58/100\n",
            "22/22 [==============================] - 9s 401ms/step - loss: 0.0115 - acc: 1.0000 - val_loss: 0.4263 - val_acc: 0.6000\n",
            "Epoch 59/100\n",
            "22/22 [==============================] - 9s 399ms/step - loss: 0.0106 - acc: 1.0000 - val_loss: 0.4331 - val_acc: 0.6000\n",
            "Epoch 60/100\n",
            "22/22 [==============================] - 9s 401ms/step - loss: 0.0145 - acc: 1.0000 - val_loss: 0.4381 - val_acc: 0.6000\n",
            "Epoch 61/100\n",
            "22/22 [==============================] - 9s 400ms/step - loss: 0.0109 - acc: 1.0000 - val_loss: 0.4482 - val_acc: 0.6000\n",
            "Epoch 62/100\n",
            "22/22 [==============================] - 9s 414ms/step - loss: 0.0141 - acc: 1.0000 - val_loss: 0.4542 - val_acc: 0.6000\n",
            "Epoch 63/100\n",
            "22/22 [==============================] - 9s 400ms/step - loss: 0.0107 - acc: 1.0000 - val_loss: 0.4676 - val_acc: 0.6000\n",
            "Epoch 64/100\n",
            "22/22 [==============================] - 9s 401ms/step - loss: 0.0069 - acc: 1.0000 - val_loss: 0.4729 - val_acc: 0.6000\n",
            "Epoch 65/100\n",
            "22/22 [==============================] - 9s 400ms/step - loss: 0.0121 - acc: 1.0000 - val_loss: 0.4761 - val_acc: 0.6000\n",
            "Epoch 66/100\n",
            "22/22 [==============================] - 9s 401ms/step - loss: 0.0099 - acc: 1.0000 - val_loss: 0.4889 - val_acc: 0.4000\n",
            "Epoch 67/100\n",
            "22/22 [==============================] - 9s 400ms/step - loss: 0.0027 - acc: 1.0000 - val_loss: 0.4948 - val_acc: 0.4000\n",
            "Epoch 68/100\n",
            "22/22 [==============================] - 9s 401ms/step - loss: 0.0073 - acc: 1.0000 - val_loss: 0.4976 - val_acc: 0.4000\n",
            "Epoch 69/100\n",
            "22/22 [==============================] - 9s 400ms/step - loss: 0.0055 - acc: 1.0000 - val_loss: 0.4943 - val_acc: 0.4000\n",
            "Epoch 70/100\n",
            "22/22 [==============================] - 9s 400ms/step - loss: 0.0070 - acc: 1.0000 - val_loss: 0.4931 - val_acc: 0.4000\n",
            "Epoch 71/100\n",
            "22/22 [==============================] - 9s 399ms/step - loss: 0.0039 - acc: 1.0000 - val_loss: 0.4842 - val_acc: 0.4000\n",
            "Epoch 72/100\n",
            "22/22 [==============================] - 9s 400ms/step - loss: 0.0069 - acc: 1.0000 - val_loss: 0.4694 - val_acc: 0.6000\n",
            "Epoch 73/100\n",
            "22/22 [==============================] - 9s 400ms/step - loss: 0.0031 - acc: 1.0000 - val_loss: 0.4576 - val_acc: 0.6000\n",
            "Epoch 74/100\n",
            "22/22 [==============================] - 9s 400ms/step - loss: 0.0040 - acc: 1.0000 - val_loss: 0.4489 - val_acc: 0.6000\n",
            "Epoch 75/100\n",
            "22/22 [==============================] - 9s 398ms/step - loss: 0.0067 - acc: 1.0000 - val_loss: 0.4417 - val_acc: 0.6000\n",
            "Epoch 76/100\n",
            "22/22 [==============================] - 9s 400ms/step - loss: 0.0033 - acc: 1.0000 - val_loss: 0.4397 - val_acc: 0.6000\n",
            "Epoch 77/100\n",
            "22/22 [==============================] - 9s 399ms/step - loss: 0.0097 - acc: 1.0000 - val_loss: 0.4424 - val_acc: 0.6000\n",
            "Epoch 78/100\n",
            "22/22 [==============================] - 9s 400ms/step - loss: 0.0044 - acc: 1.0000 - val_loss: 0.4518 - val_acc: 0.6000\n",
            "Epoch 79/100\n",
            "22/22 [==============================] - 9s 398ms/step - loss: 0.0079 - acc: 1.0000 - val_loss: 0.4617 - val_acc: 0.6000\n",
            "Epoch 80/100\n",
            "22/22 [==============================] - 9s 400ms/step - loss: 0.0038 - acc: 1.0000 - val_loss: 0.4684 - val_acc: 0.4000\n",
            "Epoch 81/100\n",
            "22/22 [==============================] - 9s 400ms/step - loss: 0.0043 - acc: 1.0000 - val_loss: 0.4702 - val_acc: 0.4000\n",
            "Epoch 82/100\n",
            "22/22 [==============================] - 9s 399ms/step - loss: 0.0036 - acc: 1.0000 - val_loss: 0.4665 - val_acc: 0.4000\n",
            "Epoch 83/100\n",
            "22/22 [==============================] - 9s 400ms/step - loss: 0.0054 - acc: 1.0000 - val_loss: 0.4607 - val_acc: 0.6000\n",
            "Epoch 84/100\n",
            "22/22 [==============================] - 9s 414ms/step - loss: 0.0047 - acc: 1.0000 - val_loss: 0.4529 - val_acc: 0.6000\n",
            "Epoch 85/100\n",
            "22/22 [==============================] - 9s 399ms/step - loss: 0.0214 - acc: 1.0000 - val_loss: 0.4475 - val_acc: 0.6000\n",
            "Epoch 86/100\n",
            "22/22 [==============================] - 9s 400ms/step - loss: 0.0069 - acc: 1.0000 - val_loss: 0.4491 - val_acc: 0.6000\n",
            "Epoch 87/100\n",
            "22/22 [==============================] - 9s 399ms/step - loss: 0.0058 - acc: 1.0000 - val_loss: 0.4512 - val_acc: 0.6000\n",
            "Epoch 88/100\n",
            "22/22 [==============================] - 9s 400ms/step - loss: 0.0019 - acc: 1.0000 - val_loss: 0.4538 - val_acc: 0.6000\n",
            "Epoch 89/100\n",
            "22/22 [==============================] - 9s 400ms/step - loss: 0.0046 - acc: 1.0000 - val_loss: 0.4563 - val_acc: 0.6000\n",
            "Epoch 90/100\n",
            "22/22 [==============================] - 9s 400ms/step - loss: 0.0054 - acc: 1.0000 - val_loss: 0.4633 - val_acc: 0.6000\n",
            "Epoch 91/100\n",
            "22/22 [==============================] - 9s 400ms/step - loss: 0.0066 - acc: 1.0000 - val_loss: 0.4651 - val_acc: 0.6000\n",
            "Epoch 92/100\n",
            "22/22 [==============================] - 9s 402ms/step - loss: 0.0049 - acc: 1.0000 - val_loss: 0.4614 - val_acc: 0.6000\n",
            "Epoch 93/100\n",
            "22/22 [==============================] - 9s 400ms/step - loss: 0.0081 - acc: 1.0000 - val_loss: 0.4577 - val_acc: 0.6000\n",
            "Epoch 94/100\n",
            "22/22 [==============================] - 9s 401ms/step - loss: 0.0084 - acc: 1.0000 - val_loss: 0.4559 - val_acc: 0.6000\n",
            "Epoch 95/100\n",
            "22/22 [==============================] - 9s 400ms/step - loss: 0.0103 - acc: 1.0000 - val_loss: 0.4551 - val_acc: 0.6000\n",
            "Epoch 96/100\n",
            "22/22 [==============================] - 9s 401ms/step - loss: 0.0098 - acc: 1.0000 - val_loss: 0.4480 - val_acc: 0.6000\n",
            "Epoch 97/100\n",
            "22/22 [==============================] - 9s 400ms/step - loss: 0.0032 - acc: 1.0000 - val_loss: 0.4450 - val_acc: 0.6000\n",
            "Epoch 98/100\n",
            "22/22 [==============================] - 9s 414ms/step - loss: 0.0090 - acc: 1.0000 - val_loss: 0.4370 - val_acc: 0.6000\n",
            "Epoch 99/100\n",
            "22/22 [==============================] - 9s 399ms/step - loss: 0.0024 - acc: 1.0000 - val_loss: 0.4323 - val_acc: 0.6000\n",
            "Epoch 100/100\n",
            "22/22 [==============================] - 9s 401ms/step - loss: 0.0030 - acc: 1.0000 - val_loss: 0.4302 - val_acc: 0.6000\n",
            "Fold 0 accuracy : 60.0\n",
            "Fold - 1 (43, 128, 128, 64, 1) (43,) (5, 128, 128, 64, 1) (5,)\n"
          ]
        },
        {
          "name": "stderr",
          "output_type": "stream",
          "text": [
            "/usr/local/lib/python3.7/dist-packages/keras/optimizer_v2/gradient_descent.py:102: UserWarning: The `lr` argument is deprecated, use `learning_rate` instead.\n",
            "  super(SGD, self).__init__(name, **kwargs)\n"
          ]
        },
        {
          "name": "stdout",
          "output_type": "stream",
          "text": [
            "Epoch 1/100\n",
            "22/22 [==============================] - 10s 410ms/step - loss: 0.4912 - acc: 0.5116 - val_loss: 0.5036 - val_acc: 0.4000\n",
            "Epoch 2/100\n",
            "22/22 [==============================] - 9s 401ms/step - loss: 0.5798 - acc: 0.4186 - val_loss: 0.5041 - val_acc: 0.4000\n",
            "Epoch 3/100\n",
            "22/22 [==============================] - 9s 399ms/step - loss: 0.4567 - acc: 0.5349 - val_loss: 0.5032 - val_acc: 0.4000\n",
            "Epoch 4/100\n",
            "22/22 [==============================] - 9s 401ms/step - loss: 0.4638 - acc: 0.5116 - val_loss: 0.5008 - val_acc: 0.4000\n",
            "Epoch 5/100\n",
            "22/22 [==============================] - 9s 399ms/step - loss: 0.3723 - acc: 0.6744 - val_loss: 0.4975 - val_acc: 0.6000\n",
            "Epoch 6/100\n",
            "22/22 [==============================] - 9s 400ms/step - loss: 0.4553 - acc: 0.5116 - val_loss: 0.4932 - val_acc: 0.6000\n",
            "Epoch 7/100\n",
            "22/22 [==============================] - 9s 400ms/step - loss: 0.3163 - acc: 0.6977 - val_loss: 0.4883 - val_acc: 0.6000\n",
            "Epoch 8/100\n",
            "22/22 [==============================] - 9s 402ms/step - loss: 0.3392 - acc: 0.6512 - val_loss: 0.4831 - val_acc: 0.6000\n",
            "Epoch 9/100\n",
            "22/22 [==============================] - 9s 400ms/step - loss: 0.2912 - acc: 0.6977 - val_loss: 0.4783 - val_acc: 0.6000\n",
            "Epoch 10/100\n",
            "22/22 [==============================] - 9s 401ms/step - loss: 0.1986 - acc: 0.8605 - val_loss: 0.4738 - val_acc: 0.6000\n",
            "Epoch 11/100\n",
            "22/22 [==============================] - 9s 400ms/step - loss: 0.2154 - acc: 0.8140 - val_loss: 0.4700 - val_acc: 0.6000\n",
            "Epoch 12/100\n",
            "22/22 [==============================] - 9s 401ms/step - loss: 0.2632 - acc: 0.7674 - val_loss: 0.4676 - val_acc: 0.6000\n",
            "Epoch 13/100\n",
            "22/22 [==============================] - 9s 399ms/step - loss: 0.2292 - acc: 0.8140 - val_loss: 0.4648 - val_acc: 0.6000\n",
            "Epoch 14/100\n",
            "22/22 [==============================] - 9s 402ms/step - loss: 0.2089 - acc: 0.8140 - val_loss: 0.4597 - val_acc: 0.6000\n",
            "Epoch 15/100\n",
            "22/22 [==============================] - 9s 399ms/step - loss: 0.2022 - acc: 0.8140 - val_loss: 0.4537 - val_acc: 0.6000\n",
            "Epoch 16/100\n",
            "22/22 [==============================] - 9s 401ms/step - loss: 0.1294 - acc: 0.8837 - val_loss: 0.4489 - val_acc: 0.6000\n",
            "Epoch 17/100\n",
            "22/22 [==============================] - 9s 400ms/step - loss: 0.1470 - acc: 0.9070 - val_loss: 0.4452 - val_acc: 0.6000\n",
            "Epoch 18/100\n",
            "22/22 [==============================] - 9s 401ms/step - loss: 0.0786 - acc: 0.9535 - val_loss: 0.4449 - val_acc: 0.6000\n",
            "Epoch 19/100\n",
            "22/22 [==============================] - 9s 399ms/step - loss: 0.1043 - acc: 0.9070 - val_loss: 0.4402 - val_acc: 0.6000\n",
            "Epoch 20/100\n",
            "22/22 [==============================] - 9s 402ms/step - loss: 0.1022 - acc: 0.9535 - val_loss: 0.4347 - val_acc: 0.6000\n",
            "Epoch 21/100\n",
            "22/22 [==============================] - 9s 399ms/step - loss: 0.0992 - acc: 0.9302 - val_loss: 0.4286 - val_acc: 0.6000\n",
            "Epoch 22/100\n",
            "22/22 [==============================] - 9s 401ms/step - loss: 0.0731 - acc: 1.0000 - val_loss: 0.4241 - val_acc: 0.6000\n",
            "Epoch 23/100\n",
            "22/22 [==============================] - 9s 399ms/step - loss: 0.0670 - acc: 0.9767 - val_loss: 0.4232 - val_acc: 0.6000\n",
            "Epoch 24/100\n",
            "22/22 [==============================] - 9s 401ms/step - loss: 0.0577 - acc: 0.9767 - val_loss: 0.4196 - val_acc: 0.6000\n",
            "Epoch 25/100\n",
            "22/22 [==============================] - 9s 400ms/step - loss: 0.0688 - acc: 0.9767 - val_loss: 0.4258 - val_acc: 0.6000\n",
            "Epoch 26/100\n",
            "22/22 [==============================] - 9s 401ms/step - loss: 0.0579 - acc: 1.0000 - val_loss: 0.4316 - val_acc: 0.8000\n",
            "Epoch 27/100\n",
            "22/22 [==============================] - 9s 399ms/step - loss: 0.0389 - acc: 1.0000 - val_loss: 0.4202 - val_acc: 0.8000\n",
            "Epoch 28/100\n",
            "22/22 [==============================] - 9s 402ms/step - loss: 0.0784 - acc: 0.9535 - val_loss: 0.4256 - val_acc: 0.6000\n",
            "Epoch 29/100\n",
            "22/22 [==============================] - 9s 399ms/step - loss: 0.0425 - acc: 1.0000 - val_loss: 0.4346 - val_acc: 0.6000\n",
            "Epoch 30/100\n",
            "22/22 [==============================] - 9s 401ms/step - loss: 0.0226 - acc: 1.0000 - val_loss: 0.4428 - val_acc: 0.6000\n",
            "Epoch 31/100\n",
            "22/22 [==============================] - 9s 399ms/step - loss: 0.0410 - acc: 0.9767 - val_loss: 0.4424 - val_acc: 0.6000\n",
            "Epoch 32/100\n",
            "22/22 [==============================] - 9s 400ms/step - loss: 0.0405 - acc: 1.0000 - val_loss: 0.4414 - val_acc: 0.6000\n",
            "Epoch 33/100\n",
            "22/22 [==============================] - 9s 400ms/step - loss: 0.0315 - acc: 1.0000 - val_loss: 0.4430 - val_acc: 0.6000\n",
            "Epoch 34/100\n",
            "22/22 [==============================] - 9s 402ms/step - loss: 0.0343 - acc: 0.9767 - val_loss: 0.4516 - val_acc: 0.6000\n",
            "Epoch 35/100\n",
            "22/22 [==============================] - 9s 401ms/step - loss: 0.0736 - acc: 0.9302 - val_loss: 0.4421 - val_acc: 0.6000\n",
            "Epoch 36/100\n",
            "22/22 [==============================] - 9s 401ms/step - loss: 0.0435 - acc: 1.0000 - val_loss: 0.4287 - val_acc: 0.6000\n",
            "Epoch 37/100\n",
            "22/22 [==============================] - 9s 399ms/step - loss: 0.0162 - acc: 1.0000 - val_loss: 0.4192 - val_acc: 0.6000\n",
            "Epoch 38/100\n",
            "22/22 [==============================] - 9s 401ms/step - loss: 0.0093 - acc: 1.0000 - val_loss: 0.4180 - val_acc: 0.6000\n",
            "Epoch 39/100\n",
            "22/22 [==============================] - 9s 399ms/step - loss: 0.0196 - acc: 1.0000 - val_loss: 0.4175 - val_acc: 0.6000\n",
            "Epoch 40/100\n",
            "22/22 [==============================] - 9s 401ms/step - loss: 0.0360 - acc: 1.0000 - val_loss: 0.4147 - val_acc: 0.6000\n",
            "Epoch 41/100\n",
            "22/22 [==============================] - 9s 399ms/step - loss: 0.0429 - acc: 1.0000 - val_loss: 0.4298 - val_acc: 0.6000\n",
            "Epoch 42/100\n",
            "22/22 [==============================] - 9s 400ms/step - loss: 0.0394 - acc: 0.9535 - val_loss: 0.4428 - val_acc: 0.6000\n",
            "Epoch 43/100\n",
            "22/22 [==============================] - 9s 400ms/step - loss: 0.0343 - acc: 0.9767 - val_loss: 0.4496 - val_acc: 0.6000\n",
            "Epoch 44/100\n",
            "22/22 [==============================] - 9s 401ms/step - loss: 0.0270 - acc: 1.0000 - val_loss: 0.4473 - val_acc: 0.6000\n",
            "Epoch 45/100\n",
            "22/22 [==============================] - 9s 400ms/step - loss: 0.0267 - acc: 1.0000 - val_loss: 0.4471 - val_acc: 0.6000\n",
            "Epoch 46/100\n",
            "22/22 [==============================] - 9s 400ms/step - loss: 0.0287 - acc: 1.0000 - val_loss: 0.4450 - val_acc: 0.6000\n",
            "Epoch 47/100\n",
            "22/22 [==============================] - 9s 399ms/step - loss: 0.0328 - acc: 0.9767 - val_loss: 0.4351 - val_acc: 0.6000\n",
            "Epoch 48/100\n",
            "22/22 [==============================] - 9s 400ms/step - loss: 0.0349 - acc: 0.9767 - val_loss: 0.4320 - val_acc: 0.6000\n",
            "Epoch 49/100\n",
            "22/22 [==============================] - 9s 399ms/step - loss: 0.0337 - acc: 1.0000 - val_loss: 0.4435 - val_acc: 0.6000\n",
            "Epoch 50/100\n",
            "22/22 [==============================] - 9s 400ms/step - loss: 0.0110 - acc: 1.0000 - val_loss: 0.4563 - val_acc: 0.6000\n",
            "Epoch 51/100\n",
            "22/22 [==============================] - 9s 399ms/step - loss: 0.0229 - acc: 1.0000 - val_loss: 0.4628 - val_acc: 0.6000\n",
            "Epoch 52/100\n",
            "22/22 [==============================] - 9s 401ms/step - loss: 0.0244 - acc: 1.0000 - val_loss: 0.4613 - val_acc: 0.6000\n",
            "Epoch 53/100\n",
            "22/22 [==============================] - 9s 400ms/step - loss: 0.0153 - acc: 1.0000 - val_loss: 0.4587 - val_acc: 0.6000\n",
            "Epoch 54/100\n",
            "22/22 [==============================] - 9s 400ms/step - loss: 0.0205 - acc: 1.0000 - val_loss: 0.4549 - val_acc: 0.6000\n",
            "Epoch 55/100\n",
            "22/22 [==============================] - 9s 399ms/step - loss: 0.0099 - acc: 1.0000 - val_loss: 0.4469 - val_acc: 0.6000\n",
            "Epoch 56/100\n",
            "22/22 [==============================] - 9s 401ms/step - loss: 0.0140 - acc: 1.0000 - val_loss: 0.4460 - val_acc: 0.6000\n",
            "Epoch 57/100\n",
            "22/22 [==============================] - 9s 399ms/step - loss: 0.0120 - acc: 1.0000 - val_loss: 0.4456 - val_acc: 0.6000\n",
            "Epoch 58/100\n",
            "22/22 [==============================] - 9s 401ms/step - loss: 0.0181 - acc: 1.0000 - val_loss: 0.4421 - val_acc: 0.6000\n",
            "Epoch 59/100\n",
            "22/22 [==============================] - 9s 400ms/step - loss: 0.0221 - acc: 1.0000 - val_loss: 0.4398 - val_acc: 0.6000\n",
            "Epoch 60/100\n",
            "22/22 [==============================] - 9s 401ms/step - loss: 0.0462 - acc: 0.9767 - val_loss: 0.4340 - val_acc: 0.6000\n",
            "Epoch 61/100\n",
            "22/22 [==============================] - 9s 400ms/step - loss: 0.0085 - acc: 1.0000 - val_loss: 0.4348 - val_acc: 0.6000\n",
            "Epoch 62/100\n",
            "22/22 [==============================] - 9s 400ms/step - loss: 0.0089 - acc: 1.0000 - val_loss: 0.4354 - val_acc: 0.6000\n",
            "Epoch 63/100\n",
            "22/22 [==============================] - 9s 399ms/step - loss: 0.0097 - acc: 1.0000 - val_loss: 0.4341 - val_acc: 0.6000\n",
            "Epoch 64/100\n",
            "22/22 [==============================] - 9s 400ms/step - loss: 0.0042 - acc: 1.0000 - val_loss: 0.4319 - val_acc: 0.6000\n",
            "Epoch 65/100\n",
            "22/22 [==============================] - 9s 399ms/step - loss: 0.0241 - acc: 1.0000 - val_loss: 0.4229 - val_acc: 0.6000\n",
            "Epoch 66/100\n",
            "22/22 [==============================] - 9s 400ms/step - loss: 0.0086 - acc: 1.0000 - val_loss: 0.4136 - val_acc: 0.6000\n",
            "Epoch 67/100\n",
            "22/22 [==============================] - 9s 399ms/step - loss: 0.0063 - acc: 1.0000 - val_loss: 0.4073 - val_acc: 0.6000\n",
            "Epoch 68/100\n",
            "22/22 [==============================] - 9s 400ms/step - loss: 0.0108 - acc: 1.0000 - val_loss: 0.4024 - val_acc: 0.6000\n",
            "Epoch 69/100\n",
            "22/22 [==============================] - 9s 399ms/step - loss: 0.0073 - acc: 1.0000 - val_loss: 0.3995 - val_acc: 0.6000\n",
            "Epoch 70/100\n",
            "22/22 [==============================] - 9s 401ms/step - loss: 0.0205 - acc: 0.9767 - val_loss: 0.3946 - val_acc: 0.6000\n",
            "Epoch 71/100\n",
            "22/22 [==============================] - 9s 400ms/step - loss: 0.0080 - acc: 1.0000 - val_loss: 0.3951 - val_acc: 0.6000\n",
            "Epoch 72/100\n",
            "22/22 [==============================] - 9s 400ms/step - loss: 0.0198 - acc: 1.0000 - val_loss: 0.3977 - val_acc: 0.6000\n",
            "Epoch 73/100\n",
            "22/22 [==============================] - 9s 400ms/step - loss: 0.0059 - acc: 1.0000 - val_loss: 0.4028 - val_acc: 0.6000\n",
            "Epoch 74/100\n",
            "22/22 [==============================] - 9s 400ms/step - loss: 0.0069 - acc: 1.0000 - val_loss: 0.4074 - val_acc: 0.6000\n",
            "Epoch 75/100\n",
            "22/22 [==============================] - 9s 400ms/step - loss: 0.0147 - acc: 1.0000 - val_loss: 0.4110 - val_acc: 0.6000\n",
            "Epoch 76/100\n",
            "22/22 [==============================] - 9s 401ms/step - loss: 0.0187 - acc: 1.0000 - val_loss: 0.4115 - val_acc: 0.6000\n",
            "Epoch 77/100\n",
            "22/22 [==============================] - 9s 400ms/step - loss: 0.0270 - acc: 0.9767 - val_loss: 0.4143 - val_acc: 0.6000\n",
            "Epoch 78/100\n",
            "22/22 [==============================] - 9s 401ms/step - loss: 0.0095 - acc: 1.0000 - val_loss: 0.4177 - val_acc: 0.6000\n",
            "Epoch 79/100\n",
            "22/22 [==============================] - 9s 400ms/step - loss: 0.0036 - acc: 1.0000 - val_loss: 0.4225 - val_acc: 0.6000\n",
            "Epoch 80/100\n",
            "22/22 [==============================] - 9s 400ms/step - loss: 0.0070 - acc: 1.0000 - val_loss: 0.4264 - val_acc: 0.6000\n",
            "Epoch 81/100\n",
            "22/22 [==============================] - 9s 400ms/step - loss: 0.0185 - acc: 1.0000 - val_loss: 0.4274 - val_acc: 0.6000\n",
            "Epoch 82/100\n",
            "22/22 [==============================] - 9s 400ms/step - loss: 0.0086 - acc: 1.0000 - val_loss: 0.4255 - val_acc: 0.6000\n",
            "Epoch 83/100\n",
            "22/22 [==============================] - 9s 400ms/step - loss: 0.0066 - acc: 1.0000 - val_loss: 0.4268 - val_acc: 0.6000\n",
            "Epoch 84/100\n",
            "22/22 [==============================] - 9s 400ms/step - loss: 0.0072 - acc: 1.0000 - val_loss: 0.4287 - val_acc: 0.6000\n",
            "Epoch 85/100\n",
            "22/22 [==============================] - 9s 400ms/step - loss: 0.0070 - acc: 1.0000 - val_loss: 0.4288 - val_acc: 0.6000\n",
            "Epoch 86/100\n",
            "22/22 [==============================] - 9s 401ms/step - loss: 0.0066 - acc: 1.0000 - val_loss: 0.4274 - val_acc: 0.6000\n",
            "Epoch 87/100\n",
            "22/22 [==============================] - 9s 400ms/step - loss: 0.0056 - acc: 1.0000 - val_loss: 0.4269 - val_acc: 0.6000\n",
            "Epoch 88/100\n",
            "22/22 [==============================] - 9s 400ms/step - loss: 0.0098 - acc: 1.0000 - val_loss: 0.4277 - val_acc: 0.6000\n",
            "Epoch 89/100\n",
            "22/22 [==============================] - 9s 414ms/step - loss: 0.0227 - acc: 1.0000 - val_loss: 0.4315 - val_acc: 0.6000\n",
            "Epoch 90/100\n",
            "22/22 [==============================] - 9s 400ms/step - loss: 0.0038 - acc: 1.0000 - val_loss: 0.4237 - val_acc: 0.6000\n",
            "Epoch 91/100\n",
            "22/22 [==============================] - 9s 400ms/step - loss: 0.0041 - acc: 1.0000 - val_loss: 0.4198 - val_acc: 0.6000\n",
            "Epoch 92/100\n",
            "22/22 [==============================] - 9s 401ms/step - loss: 0.0045 - acc: 1.0000 - val_loss: 0.4183 - val_acc: 0.6000\n",
            "Epoch 93/100\n",
            "22/22 [==============================] - 9s 399ms/step - loss: 0.0232 - acc: 1.0000 - val_loss: 0.4189 - val_acc: 0.6000\n",
            "Epoch 94/100\n",
            "22/22 [==============================] - 9s 401ms/step - loss: 0.0065 - acc: 1.0000 - val_loss: 0.4215 - val_acc: 0.6000\n",
            "Epoch 95/100\n",
            "22/22 [==============================] - 9s 400ms/step - loss: 0.0029 - acc: 1.0000 - val_loss: 0.4238 - val_acc: 0.6000\n",
            "Epoch 96/100\n",
            "22/22 [==============================] - 9s 402ms/step - loss: 0.0087 - acc: 1.0000 - val_loss: 0.4270 - val_acc: 0.6000\n",
            "Epoch 97/100\n",
            "22/22 [==============================] - 9s 400ms/step - loss: 0.0036 - acc: 1.0000 - val_loss: 0.4308 - val_acc: 0.6000\n",
            "Epoch 98/100\n",
            "22/22 [==============================] - 9s 401ms/step - loss: 0.0095 - acc: 1.0000 - val_loss: 0.4348 - val_acc: 0.6000\n",
            "Epoch 99/100\n",
            "22/22 [==============================] - 9s 400ms/step - loss: 0.0052 - acc: 1.0000 - val_loss: 0.4389 - val_acc: 0.6000\n",
            "Epoch 100/100\n",
            "22/22 [==============================] - 9s 401ms/step - loss: 0.0133 - acc: 1.0000 - val_loss: 0.4394 - val_acc: 0.6000\n",
            "Fold 1 accuracy : 60.0\n",
            "Fold - 2 (43, 128, 128, 64, 1) (43,) (5, 128, 128, 64, 1) (5,)\n"
          ]
        },
        {
          "name": "stderr",
          "output_type": "stream",
          "text": [
            "/usr/local/lib/python3.7/dist-packages/keras/optimizer_v2/gradient_descent.py:102: UserWarning: The `lr` argument is deprecated, use `learning_rate` instead.\n",
            "  super(SGD, self).__init__(name, **kwargs)\n"
          ]
        },
        {
          "name": "stdout",
          "output_type": "stream",
          "text": [
            "Epoch 1/100\n",
            "22/22 [==============================] - 10s 409ms/step - loss: 0.5750 - acc: 0.4419 - val_loss: 0.4902 - val_acc: 0.6000\n",
            "Epoch 2/100\n",
            "22/22 [==============================] - 9s 400ms/step - loss: 0.4820 - acc: 0.5349 - val_loss: 0.4817 - val_acc: 0.6000\n",
            "Epoch 3/100\n",
            "22/22 [==============================] - 9s 400ms/step - loss: 0.5878 - acc: 0.4186 - val_loss: 0.4746 - val_acc: 0.6000\n",
            "Epoch 4/100\n",
            "22/22 [==============================] - 9s 400ms/step - loss: 0.4846 - acc: 0.5349 - val_loss: 0.4694 - val_acc: 0.6000\n",
            "Epoch 5/100\n",
            "22/22 [==============================] - 9s 399ms/step - loss: 0.4710 - acc: 0.4884 - val_loss: 0.4648 - val_acc: 0.6000\n",
            "Epoch 6/100\n",
            "22/22 [==============================] - 9s 400ms/step - loss: 0.4037 - acc: 0.6279 - val_loss: 0.4612 - val_acc: 0.6000\n",
            "Epoch 7/100\n",
            "22/22 [==============================] - 9s 400ms/step - loss: 0.4056 - acc: 0.5349 - val_loss: 0.4590 - val_acc: 0.6000\n",
            "Epoch 8/100\n",
            "22/22 [==============================] - 9s 401ms/step - loss: 0.2550 - acc: 0.8140 - val_loss: 0.4568 - val_acc: 0.6000\n",
            "Epoch 9/100\n",
            "22/22 [==============================] - 9s 399ms/step - loss: 0.3460 - acc: 0.6744 - val_loss: 0.4548 - val_acc: 0.6000\n",
            "Epoch 10/100\n",
            "22/22 [==============================] - 9s 400ms/step - loss: 0.3030 - acc: 0.7209 - val_loss: 0.4533 - val_acc: 0.6000\n",
            "Epoch 11/100\n",
            "22/22 [==============================] - 9s 399ms/step - loss: 0.2881 - acc: 0.7442 - val_loss: 0.4531 - val_acc: 0.6000\n",
            "Epoch 12/100\n",
            "22/22 [==============================] - 9s 400ms/step - loss: 0.2563 - acc: 0.7674 - val_loss: 0.4524 - val_acc: 0.6000\n",
            "Epoch 13/100\n",
            "22/22 [==============================] - 9s 399ms/step - loss: 0.2573 - acc: 0.7674 - val_loss: 0.4518 - val_acc: 0.6000\n",
            "Epoch 14/100\n",
            "22/22 [==============================] - 9s 413ms/step - loss: 0.1970 - acc: 0.8372 - val_loss: 0.4528 - val_acc: 0.6000\n",
            "Epoch 15/100\n",
            "22/22 [==============================] - 9s 399ms/step - loss: 0.1894 - acc: 0.8837 - val_loss: 0.4538 - val_acc: 0.6000\n",
            "Epoch 16/100\n",
            "22/22 [==============================] - 9s 399ms/step - loss: 0.1031 - acc: 0.9302 - val_loss: 0.4537 - val_acc: 0.6000\n",
            "Epoch 17/100\n",
            "22/22 [==============================] - 9s 398ms/step - loss: 0.1360 - acc: 0.9070 - val_loss: 0.4535 - val_acc: 0.6000\n",
            "Epoch 18/100\n",
            "22/22 [==============================] - 9s 400ms/step - loss: 0.1382 - acc: 0.9070 - val_loss: 0.4542 - val_acc: 0.6000\n",
            "Epoch 19/100\n",
            "22/22 [==============================] - 9s 398ms/step - loss: 0.1166 - acc: 0.9070 - val_loss: 0.4630 - val_acc: 0.6000\n",
            "Epoch 20/100\n",
            "22/22 [==============================] - 9s 398ms/step - loss: 0.1133 - acc: 0.9070 - val_loss: 0.4749 - val_acc: 0.6000\n",
            "Epoch 21/100\n",
            "22/22 [==============================] - 9s 399ms/step - loss: 0.1319 - acc: 0.8605 - val_loss: 0.4855 - val_acc: 0.6000\n",
            "Epoch 22/100\n",
            "22/22 [==============================] - 9s 400ms/step - loss: 0.0898 - acc: 0.9535 - val_loss: 0.4879 - val_acc: 0.6000\n",
            "Epoch 23/100\n",
            "22/22 [==============================] - 9s 398ms/step - loss: 0.0999 - acc: 0.9070 - val_loss: 0.4850 - val_acc: 0.6000\n",
            "Epoch 24/100\n",
            "22/22 [==============================] - 9s 399ms/step - loss: 0.1133 - acc: 0.9070 - val_loss: 0.4834 - val_acc: 0.6000\n",
            "Epoch 25/100\n",
            "22/22 [==============================] - 9s 399ms/step - loss: 0.1260 - acc: 0.9070 - val_loss: 0.4830 - val_acc: 0.6000\n",
            "Epoch 26/100\n",
            "22/22 [==============================] - 9s 399ms/step - loss: 0.0417 - acc: 0.9767 - val_loss: 0.4827 - val_acc: 0.6000\n",
            "Epoch 27/100\n",
            "22/22 [==============================] - 9s 398ms/step - loss: 0.0638 - acc: 0.9535 - val_loss: 0.4786 - val_acc: 0.6000\n",
            "Epoch 28/100\n",
            "22/22 [==============================] - 9s 400ms/step - loss: 0.0533 - acc: 0.9767 - val_loss: 0.4890 - val_acc: 0.4000\n",
            "Epoch 29/100\n",
            "22/22 [==============================] - 9s 398ms/step - loss: 0.0411 - acc: 0.9767 - val_loss: 0.4950 - val_acc: 0.4000\n",
            "Epoch 30/100\n",
            "22/22 [==============================] - 9s 399ms/step - loss: 0.0248 - acc: 1.0000 - val_loss: 0.5014 - val_acc: 0.6000\n",
            "Epoch 31/100\n",
            "22/22 [==============================] - 9s 398ms/step - loss: 0.0501 - acc: 0.9767 - val_loss: 0.4914 - val_acc: 0.6000\n",
            "Epoch 32/100\n",
            "22/22 [==============================] - 9s 399ms/step - loss: 0.0327 - acc: 1.0000 - val_loss: 0.4851 - val_acc: 0.6000\n",
            "Epoch 33/100\n",
            "22/22 [==============================] - 9s 399ms/step - loss: 0.0319 - acc: 1.0000 - val_loss: 0.4839 - val_acc: 0.6000\n",
            "Epoch 34/100\n",
            "22/22 [==============================] - 9s 399ms/step - loss: 0.0199 - acc: 1.0000 - val_loss: 0.4906 - val_acc: 0.6000\n",
            "Epoch 35/100\n",
            "22/22 [==============================] - 9s 399ms/step - loss: 0.0432 - acc: 0.9535 - val_loss: 0.4987 - val_acc: 0.6000\n",
            "Epoch 36/100\n",
            "22/22 [==============================] - 9s 400ms/step - loss: 0.0247 - acc: 1.0000 - val_loss: 0.5138 - val_acc: 0.6000\n",
            "Epoch 37/100\n",
            "22/22 [==============================] - 9s 398ms/step - loss: 0.0290 - acc: 1.0000 - val_loss: 0.5168 - val_acc: 0.6000\n",
            "Epoch 38/100\n",
            "22/22 [==============================] - 9s 399ms/step - loss: 0.0462 - acc: 1.0000 - val_loss: 0.5287 - val_acc: 0.6000\n",
            "Epoch 39/100\n",
            "22/22 [==============================] - 9s 398ms/step - loss: 0.0231 - acc: 1.0000 - val_loss: 0.5683 - val_acc: 0.4000\n",
            "Epoch 40/100\n",
            "22/22 [==============================] - 9s 400ms/step - loss: 0.0274 - acc: 0.9767 - val_loss: 0.5839 - val_acc: 0.4000\n",
            "Epoch 41/100\n",
            "22/22 [==============================] - 9s 398ms/step - loss: 0.0182 - acc: 1.0000 - val_loss: 0.5842 - val_acc: 0.4000\n",
            "Epoch 42/100\n",
            "22/22 [==============================] - 9s 400ms/step - loss: 0.0356 - acc: 1.0000 - val_loss: 0.5775 - val_acc: 0.4000\n",
            "Epoch 43/100\n",
            "22/22 [==============================] - 9s 399ms/step - loss: 0.0166 - acc: 1.0000 - val_loss: 0.5711 - val_acc: 0.4000\n",
            "Epoch 44/100\n",
            "22/22 [==============================] - 9s 399ms/step - loss: 0.0259 - acc: 0.9767 - val_loss: 0.5625 - val_acc: 0.4000\n",
            "Epoch 45/100\n",
            "22/22 [==============================] - 9s 398ms/step - loss: 0.0118 - acc: 1.0000 - val_loss: 0.5572 - val_acc: 0.4000\n",
            "Epoch 46/100\n",
            "22/22 [==============================] - 9s 401ms/step - loss: 0.0160 - acc: 1.0000 - val_loss: 0.5547 - val_acc: 0.4000\n",
            "Epoch 47/100\n",
            "22/22 [==============================] - 9s 398ms/step - loss: 0.0213 - acc: 1.0000 - val_loss: 0.5531 - val_acc: 0.4000\n",
            "Epoch 48/100\n",
            "22/22 [==============================] - 9s 400ms/step - loss: 0.0470 - acc: 0.9767 - val_loss: 0.5486 - val_acc: 0.4000\n",
            "Epoch 49/100\n",
            "22/22 [==============================] - 9s 397ms/step - loss: 0.0281 - acc: 1.0000 - val_loss: 0.5305 - val_acc: 0.4000\n",
            "Epoch 50/100\n",
            "22/22 [==============================] - 9s 400ms/step - loss: 0.0245 - acc: 1.0000 - val_loss: 0.5102 - val_acc: 0.6000\n",
            "Epoch 51/100\n",
            "22/22 [==============================] - 9s 398ms/step - loss: 0.0159 - acc: 1.0000 - val_loss: 0.5009 - val_acc: 0.4000\n",
            "Epoch 52/100\n",
            "22/22 [==============================] - 9s 413ms/step - loss: 0.0165 - acc: 1.0000 - val_loss: 0.5155 - val_acc: 0.4000\n",
            "Epoch 53/100\n",
            "22/22 [==============================] - 9s 397ms/step - loss: 0.0202 - acc: 1.0000 - val_loss: 0.5336 - val_acc: 0.4000\n",
            "Epoch 54/100\n",
            "22/22 [==============================] - 9s 399ms/step - loss: 0.0230 - acc: 1.0000 - val_loss: 0.5541 - val_acc: 0.4000\n",
            "Epoch 55/100\n",
            "22/22 [==============================] - 9s 398ms/step - loss: 0.0114 - acc: 1.0000 - val_loss: 0.5669 - val_acc: 0.4000\n",
            "Epoch 56/100\n",
            "22/22 [==============================] - 9s 399ms/step - loss: 0.0070 - acc: 1.0000 - val_loss: 0.5728 - val_acc: 0.4000\n",
            "Epoch 57/100\n",
            "22/22 [==============================] - 9s 398ms/step - loss: 0.0132 - acc: 1.0000 - val_loss: 0.5774 - val_acc: 0.4000\n",
            "Epoch 58/100\n",
            "22/22 [==============================] - 9s 400ms/step - loss: 0.0075 - acc: 1.0000 - val_loss: 0.5809 - val_acc: 0.6000\n",
            "Epoch 59/100\n",
            "22/22 [==============================] - 9s 397ms/step - loss: 0.0227 - acc: 0.9767 - val_loss: 0.5866 - val_acc: 0.6000\n",
            "Epoch 60/100\n",
            "22/22 [==============================] - 9s 399ms/step - loss: 0.0090 - acc: 1.0000 - val_loss: 0.5854 - val_acc: 0.6000\n",
            "Epoch 61/100\n",
            "22/22 [==============================] - 9s 398ms/step - loss: 0.0226 - acc: 0.9767 - val_loss: 0.5847 - val_acc: 0.6000\n",
            "Epoch 62/100\n",
            "22/22 [==============================] - 9s 400ms/step - loss: 0.0131 - acc: 1.0000 - val_loss: 0.5802 - val_acc: 0.6000\n",
            "Epoch 63/100\n",
            "22/22 [==============================] - 9s 397ms/step - loss: 0.0272 - acc: 0.9767 - val_loss: 0.5689 - val_acc: 0.6000\n",
            "Epoch 64/100\n",
            "22/22 [==============================] - 9s 401ms/step - loss: 0.0062 - acc: 1.0000 - val_loss: 0.5536 - val_acc: 0.4000\n",
            "Epoch 65/100\n",
            "22/22 [==============================] - 9s 398ms/step - loss: 0.0250 - acc: 1.0000 - val_loss: 0.5376 - val_acc: 0.4000\n",
            "Epoch 66/100\n",
            "22/22 [==============================] - 9s 400ms/step - loss: 0.0127 - acc: 1.0000 - val_loss: 0.5154 - val_acc: 0.4000\n",
            "Epoch 67/100\n",
            "22/22 [==============================] - 9s 398ms/step - loss: 0.0094 - acc: 1.0000 - val_loss: 0.5032 - val_acc: 0.4000\n",
            "Epoch 68/100\n",
            "22/22 [==============================] - 9s 399ms/step - loss: 0.0068 - acc: 1.0000 - val_loss: 0.4995 - val_acc: 0.4000\n",
            "Epoch 69/100\n",
            "22/22 [==============================] - 9s 398ms/step - loss: 0.0115 - acc: 1.0000 - val_loss: 0.5001 - val_acc: 0.4000\n",
            "Epoch 70/100\n",
            "22/22 [==============================] - 9s 413ms/step - loss: 0.0060 - acc: 1.0000 - val_loss: 0.5037 - val_acc: 0.4000\n",
            "Epoch 71/100\n",
            "22/22 [==============================] - 9s 398ms/step - loss: 0.0248 - acc: 1.0000 - val_loss: 0.5133 - val_acc: 0.4000\n",
            "Epoch 72/100\n",
            "22/22 [==============================] - 9s 400ms/step - loss: 0.0240 - acc: 1.0000 - val_loss: 0.5337 - val_acc: 0.6000\n",
            "Epoch 73/100\n",
            "22/22 [==============================] - 9s 398ms/step - loss: 0.0162 - acc: 1.0000 - val_loss: 0.5523 - val_acc: 0.6000\n",
            "Epoch 74/100\n",
            "22/22 [==============================] - 9s 400ms/step - loss: 0.0289 - acc: 0.9767 - val_loss: 0.5747 - val_acc: 0.2000\n",
            "Epoch 75/100\n",
            "22/22 [==============================] - 9s 399ms/step - loss: 0.0039 - acc: 1.0000 - val_loss: 0.5845 - val_acc: 0.2000\n",
            "Epoch 76/100\n",
            "22/22 [==============================] - 9s 400ms/step - loss: 0.0131 - acc: 1.0000 - val_loss: 0.5914 - val_acc: 0.2000\n",
            "Epoch 77/100\n",
            "22/22 [==============================] - 9s 397ms/step - loss: 0.0180 - acc: 1.0000 - val_loss: 0.5944 - val_acc: 0.2000\n",
            "Epoch 78/100\n",
            "22/22 [==============================] - 9s 399ms/step - loss: 0.0090 - acc: 1.0000 - val_loss: 0.5927 - val_acc: 0.2000\n",
            "Epoch 79/100\n",
            "22/22 [==============================] - 9s 398ms/step - loss: 0.0050 - acc: 1.0000 - val_loss: 0.5891 - val_acc: 0.4000\n",
            "Epoch 80/100\n",
            "22/22 [==============================] - 9s 400ms/step - loss: 0.0057 - acc: 1.0000 - val_loss: 0.5870 - val_acc: 0.4000\n",
            "Epoch 81/100\n",
            "22/22 [==============================] - 9s 398ms/step - loss: 0.0073 - acc: 1.0000 - val_loss: 0.5846 - val_acc: 0.4000\n",
            "Epoch 82/100\n",
            "22/22 [==============================] - 9s 400ms/step - loss: 0.0032 - acc: 1.0000 - val_loss: 0.5828 - val_acc: 0.4000\n",
            "Epoch 83/100\n",
            "22/22 [==============================] - 9s 398ms/step - loss: 0.0103 - acc: 1.0000 - val_loss: 0.5832 - val_acc: 0.4000\n",
            "Epoch 84/100\n",
            "22/22 [==============================] - 9s 400ms/step - loss: 0.0048 - acc: 1.0000 - val_loss: 0.5803 - val_acc: 0.4000\n",
            "Epoch 85/100\n",
            "22/22 [==============================] - 9s 399ms/step - loss: 0.0030 - acc: 1.0000 - val_loss: 0.5705 - val_acc: 0.4000\n",
            "Epoch 86/100\n",
            "22/22 [==============================] - 9s 400ms/step - loss: 0.0070 - acc: 1.0000 - val_loss: 0.5617 - val_acc: 0.4000\n",
            "Epoch 87/100\n",
            "22/22 [==============================] - 9s 398ms/step - loss: 0.0091 - acc: 1.0000 - val_loss: 0.5576 - val_acc: 0.4000\n",
            "Epoch 88/100\n",
            "22/22 [==============================] - 9s 399ms/step - loss: 0.0023 - acc: 1.0000 - val_loss: 0.5556 - val_acc: 0.4000\n",
            "Epoch 89/100\n",
            "22/22 [==============================] - 9s 399ms/step - loss: 0.0035 - acc: 1.0000 - val_loss: 0.5558 - val_acc: 0.4000\n",
            "Epoch 90/100\n",
            "22/22 [==============================] - 9s 400ms/step - loss: 0.0037 - acc: 1.0000 - val_loss: 0.5557 - val_acc: 0.4000\n",
            "Epoch 91/100\n",
            "22/22 [==============================] - 9s 398ms/step - loss: 0.0022 - acc: 1.0000 - val_loss: 0.5560 - val_acc: 0.4000\n",
            "Epoch 92/100\n",
            "22/22 [==============================] - 9s 399ms/step - loss: 0.0106 - acc: 1.0000 - val_loss: 0.5548 - val_acc: 0.4000\n",
            "Epoch 93/100\n",
            "22/22 [==============================] - 9s 398ms/step - loss: 0.0043 - acc: 1.0000 - val_loss: 0.5525 - val_acc: 0.4000\n",
            "Epoch 94/100\n",
            "22/22 [==============================] - 9s 400ms/step - loss: 0.0072 - acc: 1.0000 - val_loss: 0.5508 - val_acc: 0.4000\n",
            "Epoch 95/100\n",
            "22/22 [==============================] - 9s 398ms/step - loss: 0.0115 - acc: 1.0000 - val_loss: 0.5542 - val_acc: 0.4000\n",
            "Epoch 96/100\n",
            "22/22 [==============================] - 9s 413ms/step - loss: 0.0073 - acc: 1.0000 - val_loss: 0.5563 - val_acc: 0.4000\n",
            "Epoch 97/100\n",
            "22/22 [==============================] - 9s 398ms/step - loss: 0.0070 - acc: 1.0000 - val_loss: 0.5560 - val_acc: 0.2000\n",
            "Epoch 98/100\n",
            "22/22 [==============================] - 9s 399ms/step - loss: 0.0029 - acc: 1.0000 - val_loss: 0.5586 - val_acc: 0.2000\n",
            "Epoch 99/100\n",
            "22/22 [==============================] - 9s 399ms/step - loss: 0.0053 - acc: 1.0000 - val_loss: 0.5639 - val_acc: 0.2000\n",
            "Epoch 100/100\n",
            "22/22 [==============================] - 9s 399ms/step - loss: 0.0072 - acc: 1.0000 - val_loss: 0.5687 - val_acc: 0.2000\n",
            "Fold 2 accuracy : 20.0\n",
            "Fold - 3 (43, 128, 128, 64, 1) (43,) (5, 128, 128, 64, 1) (5,)\n"
          ]
        },
        {
          "name": "stderr",
          "output_type": "stream",
          "text": [
            "/usr/local/lib/python3.7/dist-packages/keras/optimizer_v2/gradient_descent.py:102: UserWarning: The `lr` argument is deprecated, use `learning_rate` instead.\n",
            "  super(SGD, self).__init__(name, **kwargs)\n"
          ]
        },
        {
          "name": "stdout",
          "output_type": "stream",
          "text": [
            "Epoch 1/100\n",
            "22/22 [==============================] - 10s 408ms/step - loss: 0.5449 - acc: 0.3953 - val_loss: 0.4989 - val_acc: 0.6000\n",
            "Epoch 2/100\n",
            "22/22 [==============================] - 9s 401ms/step - loss: 0.5318 - acc: 0.4651 - val_loss: 0.4968 - val_acc: 0.6000\n",
            "Epoch 3/100\n",
            "22/22 [==============================] - 9s 400ms/step - loss: 0.4959 - acc: 0.5116 - val_loss: 0.4944 - val_acc: 0.6000\n",
            "Epoch 4/100\n",
            "22/22 [==============================] - 9s 401ms/step - loss: 0.5316 - acc: 0.4651 - val_loss: 0.4933 - val_acc: 0.6000\n",
            "Epoch 5/100\n",
            "22/22 [==============================] - 9s 400ms/step - loss: 0.4573 - acc: 0.5814 - val_loss: 0.4933 - val_acc: 0.6000\n",
            "Epoch 6/100\n",
            "22/22 [==============================] - 9s 401ms/step - loss: 0.3941 - acc: 0.5581 - val_loss: 0.4934 - val_acc: 0.6000\n",
            "Epoch 7/100\n",
            "22/22 [==============================] - 9s 398ms/step - loss: 0.4749 - acc: 0.5349 - val_loss: 0.4941 - val_acc: 0.6000\n",
            "Epoch 8/100\n",
            "22/22 [==============================] - 9s 401ms/step - loss: 0.3743 - acc: 0.6047 - val_loss: 0.4957 - val_acc: 0.6000\n",
            "Epoch 9/100\n",
            "22/22 [==============================] - 9s 399ms/step - loss: 0.3528 - acc: 0.6977 - val_loss: 0.4966 - val_acc: 0.6000\n",
            "Epoch 10/100\n",
            "22/22 [==============================] - 9s 402ms/step - loss: 0.3536 - acc: 0.6512 - val_loss: 0.4980 - val_acc: 0.6000\n",
            "Epoch 11/100\n",
            "22/22 [==============================] - 9s 399ms/step - loss: 0.3485 - acc: 0.6512 - val_loss: 0.4993 - val_acc: 0.6000\n",
            "Epoch 12/100\n",
            "22/22 [==============================] - 9s 400ms/step - loss: 0.3000 - acc: 0.7442 - val_loss: 0.4999 - val_acc: 0.6000\n",
            "Epoch 13/100\n",
            "22/22 [==============================] - 9s 398ms/step - loss: 0.2846 - acc: 0.6977 - val_loss: 0.5007 - val_acc: 0.6000\n",
            "Epoch 14/100\n",
            "22/22 [==============================] - 9s 400ms/step - loss: 0.2070 - acc: 0.8140 - val_loss: 0.5009 - val_acc: 0.6000\n",
            "Epoch 15/100\n",
            "22/22 [==============================] - 9s 399ms/step - loss: 0.2331 - acc: 0.8140 - val_loss: 0.5014 - val_acc: 0.6000\n",
            "Epoch 16/100\n",
            "22/22 [==============================] - 9s 400ms/step - loss: 0.2240 - acc: 0.8140 - val_loss: 0.5017 - val_acc: 0.6000\n",
            "Epoch 17/100\n",
            "22/22 [==============================] - 9s 399ms/step - loss: 0.2029 - acc: 0.8140 - val_loss: 0.4978 - val_acc: 0.6000\n",
            "Epoch 18/100\n",
            "22/22 [==============================] - 9s 400ms/step - loss: 0.1915 - acc: 0.8372 - val_loss: 0.4943 - val_acc: 0.6000\n",
            "Epoch 19/100\n",
            "22/22 [==============================] - 9s 399ms/step - loss: 0.1151 - acc: 0.9070 - val_loss: 0.4929 - val_acc: 0.6000\n",
            "Epoch 20/100\n",
            "22/22 [==============================] - 9s 401ms/step - loss: 0.0838 - acc: 0.9535 - val_loss: 0.4904 - val_acc: 0.8000\n",
            "Epoch 21/100\n",
            "22/22 [==============================] - 9s 398ms/step - loss: 0.1108 - acc: 0.9302 - val_loss: 0.4840 - val_acc: 0.8000\n",
            "Epoch 22/100\n",
            "22/22 [==============================] - 9s 401ms/step - loss: 0.1205 - acc: 0.9070 - val_loss: 0.4753 - val_acc: 0.8000\n",
            "Epoch 23/100\n",
            "22/22 [==============================] - 9s 399ms/step - loss: 0.0565 - acc: 0.9767 - val_loss: 0.4672 - val_acc: 0.8000\n",
            "Epoch 24/100\n",
            "22/22 [==============================] - 9s 400ms/step - loss: 0.0574 - acc: 1.0000 - val_loss: 0.4656 - val_acc: 0.6000\n",
            "Epoch 25/100\n",
            "22/22 [==============================] - 9s 413ms/step - loss: 0.0688 - acc: 0.9767 - val_loss: 0.4582 - val_acc: 0.6000\n",
            "Epoch 26/100\n",
            "22/22 [==============================] - 9s 400ms/step - loss: 0.1072 - acc: 0.8837 - val_loss: 0.4455 - val_acc: 0.6000\n",
            "Epoch 27/100\n",
            "22/22 [==============================] - 9s 399ms/step - loss: 0.0410 - acc: 1.0000 - val_loss: 0.4469 - val_acc: 0.6000\n",
            "Epoch 28/100\n",
            "22/22 [==============================] - 9s 401ms/step - loss: 0.0741 - acc: 0.9302 - val_loss: 0.4550 - val_acc: 0.4000\n",
            "Epoch 29/100\n",
            "22/22 [==============================] - 9s 399ms/step - loss: 0.0828 - acc: 0.9535 - val_loss: 0.4545 - val_acc: 0.6000\n",
            "Epoch 30/100\n",
            "22/22 [==============================] - 9s 400ms/step - loss: 0.0716 - acc: 0.9535 - val_loss: 0.4436 - val_acc: 0.6000\n",
            "Epoch 31/100\n",
            "22/22 [==============================] - 9s 400ms/step - loss: 0.0582 - acc: 1.0000 - val_loss: 0.4325 - val_acc: 0.6000\n",
            "Epoch 32/100\n",
            "22/22 [==============================] - 9s 401ms/step - loss: 0.0511 - acc: 0.9767 - val_loss: 0.4185 - val_acc: 0.6000\n",
            "Epoch 33/100\n",
            "22/22 [==============================] - 9s 399ms/step - loss: 0.0461 - acc: 0.9767 - val_loss: 0.4019 - val_acc: 0.6000\n",
            "Epoch 34/100\n",
            "22/22 [==============================] - 9s 414ms/step - loss: 0.0275 - acc: 1.0000 - val_loss: 0.3811 - val_acc: 0.6000\n",
            "Epoch 35/100\n",
            "22/22 [==============================] - 9s 399ms/step - loss: 0.0584 - acc: 0.9767 - val_loss: 0.3723 - val_acc: 0.6000\n",
            "Epoch 36/100\n",
            "22/22 [==============================] - 9s 401ms/step - loss: 0.0163 - acc: 1.0000 - val_loss: 0.3564 - val_acc: 0.6000\n",
            "Epoch 37/100\n",
            "22/22 [==============================] - 9s 399ms/step - loss: 0.0442 - acc: 0.9767 - val_loss: 0.3431 - val_acc: 0.6000\n",
            "Epoch 38/100\n",
            "22/22 [==============================] - 9s 399ms/step - loss: 0.0139 - acc: 1.0000 - val_loss: 0.3397 - val_acc: 0.6000\n",
            "Epoch 39/100\n",
            "22/22 [==============================] - 9s 399ms/step - loss: 0.0307 - acc: 1.0000 - val_loss: 0.3438 - val_acc: 0.6000\n",
            "Epoch 40/100\n",
            "22/22 [==============================] - 9s 399ms/step - loss: 0.0495 - acc: 0.9767 - val_loss: 0.3558 - val_acc: 0.8000\n",
            "Epoch 41/100\n",
            "22/22 [==============================] - 9s 402ms/step - loss: 0.0159 - acc: 1.0000 - val_loss: 0.3882 - val_acc: 0.6000\n",
            "Epoch 42/100\n",
            "22/22 [==============================] - 9s 400ms/step - loss: 0.0408 - acc: 1.0000 - val_loss: 0.4281 - val_acc: 0.6000\n",
            "Epoch 43/100\n",
            "22/22 [==============================] - 9s 400ms/step - loss: 0.0217 - acc: 1.0000 - val_loss: 0.4516 - val_acc: 0.6000\n",
            "Epoch 44/100\n",
            "22/22 [==============================] - 9s 399ms/step - loss: 0.0232 - acc: 1.0000 - val_loss: 0.4565 - val_acc: 0.6000\n",
            "Epoch 45/100\n",
            "22/22 [==============================] - 9s 398ms/step - loss: 0.0118 - acc: 1.0000 - val_loss: 0.4467 - val_acc: 0.6000\n",
            "Epoch 46/100\n",
            "22/22 [==============================] - 9s 399ms/step - loss: 0.0302 - acc: 1.0000 - val_loss: 0.4261 - val_acc: 0.6000\n",
            "Epoch 47/100\n",
            "22/22 [==============================] - 9s 398ms/step - loss: 0.0312 - acc: 1.0000 - val_loss: 0.4163 - val_acc: 0.6000\n",
            "Epoch 48/100\n",
            "22/22 [==============================] - 9s 397ms/step - loss: 0.0246 - acc: 1.0000 - val_loss: 0.4131 - val_acc: 0.6000\n",
            "Epoch 49/100\n",
            "22/22 [==============================] - 9s 398ms/step - loss: 0.0133 - acc: 1.0000 - val_loss: 0.4191 - val_acc: 0.6000\n",
            "Epoch 50/100\n",
            "22/22 [==============================] - 9s 398ms/step - loss: 0.0245 - acc: 1.0000 - val_loss: 0.4236 - val_acc: 0.6000\n",
            "Epoch 51/100\n",
            "22/22 [==============================] - 9s 399ms/step - loss: 0.0357 - acc: 0.9767 - val_loss: 0.4182 - val_acc: 0.6000\n",
            "Epoch 52/100\n",
            "22/22 [==============================] - 9s 398ms/step - loss: 0.0126 - acc: 1.0000 - val_loss: 0.4117 - val_acc: 0.6000\n",
            "Epoch 53/100\n",
            "22/22 [==============================] - 9s 399ms/step - loss: 0.0158 - acc: 1.0000 - val_loss: 0.4055 - val_acc: 0.6000\n",
            "Epoch 54/100\n",
            "22/22 [==============================] - 9s 399ms/step - loss: 0.0111 - acc: 1.0000 - val_loss: 0.4021 - val_acc: 0.6000\n",
            "Epoch 55/100\n",
            "22/22 [==============================] - 9s 399ms/step - loss: 0.0062 - acc: 1.0000 - val_loss: 0.3990 - val_acc: 0.6000\n",
            "Epoch 56/100\n",
            "22/22 [==============================] - 9s 398ms/step - loss: 0.0123 - acc: 1.0000 - val_loss: 0.4007 - val_acc: 0.6000\n",
            "Epoch 57/100\n",
            "22/22 [==============================] - 9s 398ms/step - loss: 0.0277 - acc: 1.0000 - val_loss: 0.4012 - val_acc: 0.6000\n",
            "Epoch 58/100\n",
            "22/22 [==============================] - 9s 400ms/step - loss: 0.0031 - acc: 1.0000 - val_loss: 0.4028 - val_acc: 0.6000\n",
            "Epoch 59/100\n",
            "22/22 [==============================] - 9s 399ms/step - loss: 0.0277 - acc: 0.9767 - val_loss: 0.4105 - val_acc: 0.6000\n",
            "Epoch 60/100\n",
            "22/22 [==============================] - 9s 399ms/step - loss: 0.0422 - acc: 0.9767 - val_loss: 0.4145 - val_acc: 0.6000\n",
            "Epoch 61/100\n",
            "22/22 [==============================] - 9s 398ms/step - loss: 0.0090 - acc: 1.0000 - val_loss: 0.4078 - val_acc: 0.6000\n",
            "Epoch 62/100\n",
            "22/22 [==============================] - 9s 398ms/step - loss: 0.0111 - acc: 1.0000 - val_loss: 0.4090 - val_acc: 0.6000\n",
            "Epoch 63/100\n",
            "22/22 [==============================] - 9s 398ms/step - loss: 0.0221 - acc: 1.0000 - val_loss: 0.4117 - val_acc: 0.6000\n",
            "Epoch 64/100\n",
            "22/22 [==============================] - 9s 399ms/step - loss: 0.0132 - acc: 1.0000 - val_loss: 0.4315 - val_acc: 0.6000\n",
            "Epoch 65/100\n",
            "22/22 [==============================] - 9s 398ms/step - loss: 0.0098 - acc: 1.0000 - val_loss: 0.4349 - val_acc: 0.6000\n",
            "Epoch 66/100\n",
            "22/22 [==============================] - 9s 399ms/step - loss: 0.0235 - acc: 0.9767 - val_loss: 0.4357 - val_acc: 0.6000\n",
            "Epoch 67/100\n",
            "22/22 [==============================] - 9s 398ms/step - loss: 0.0095 - acc: 1.0000 - val_loss: 0.4374 - val_acc: 0.6000\n",
            "Epoch 68/100\n",
            "22/22 [==============================] - 9s 398ms/step - loss: 0.0041 - acc: 1.0000 - val_loss: 0.4387 - val_acc: 0.6000\n",
            "Epoch 69/100\n",
            "22/22 [==============================] - 9s 399ms/step - loss: 0.0042 - acc: 1.0000 - val_loss: 0.4430 - val_acc: 0.6000\n",
            "Epoch 70/100\n",
            "22/22 [==============================] - 9s 398ms/step - loss: 0.0053 - acc: 1.0000 - val_loss: 0.4450 - val_acc: 0.6000\n",
            "Epoch 71/100\n",
            "22/22 [==============================] - 9s 398ms/step - loss: 0.0139 - acc: 1.0000 - val_loss: 0.4418 - val_acc: 0.6000\n",
            "Epoch 72/100\n",
            "22/22 [==============================] - 9s 399ms/step - loss: 0.0060 - acc: 1.0000 - val_loss: 0.4303 - val_acc: 0.6000\n",
            "Epoch 73/100\n",
            "22/22 [==============================] - 9s 397ms/step - loss: 0.0227 - acc: 1.0000 - val_loss: 0.4282 - val_acc: 0.6000\n",
            "Epoch 74/100\n",
            "22/22 [==============================] - 9s 399ms/step - loss: 0.0048 - acc: 1.0000 - val_loss: 0.4258 - val_acc: 0.6000\n",
            "Epoch 75/100\n",
            "22/22 [==============================] - 9s 399ms/step - loss: 0.0131 - acc: 1.0000 - val_loss: 0.4283 - val_acc: 0.6000\n",
            "Epoch 76/100\n",
            "22/22 [==============================] - 9s 399ms/step - loss: 0.0097 - acc: 1.0000 - val_loss: 0.4290 - val_acc: 0.6000\n",
            "Epoch 77/100\n",
            "22/22 [==============================] - 9s 398ms/step - loss: 0.0075 - acc: 1.0000 - val_loss: 0.4382 - val_acc: 0.6000\n",
            "Epoch 78/100\n",
            "22/22 [==============================] - 9s 399ms/step - loss: 0.0027 - acc: 1.0000 - val_loss: 0.4470 - val_acc: 0.6000\n",
            "Epoch 79/100\n",
            "22/22 [==============================] - 9s 400ms/step - loss: 0.0118 - acc: 1.0000 - val_loss: 0.4602 - val_acc: 0.6000\n",
            "Epoch 80/100\n",
            "22/22 [==============================] - 9s 401ms/step - loss: 0.0061 - acc: 1.0000 - val_loss: 0.4769 - val_acc: 0.6000\n",
            "Epoch 81/100\n",
            "22/22 [==============================] - 9s 399ms/step - loss: 0.0055 - acc: 1.0000 - val_loss: 0.4865 - val_acc: 0.4000\n",
            "Epoch 82/100\n",
            "22/22 [==============================] - 9s 400ms/step - loss: 0.0100 - acc: 1.0000 - val_loss: 0.4933 - val_acc: 0.4000\n",
            "Epoch 83/100\n",
            "22/22 [==============================] - 9s 399ms/step - loss: 0.0060 - acc: 1.0000 - val_loss: 0.4959 - val_acc: 0.4000\n",
            "Epoch 84/100\n",
            "22/22 [==============================] - 9s 400ms/step - loss: 0.0085 - acc: 1.0000 - val_loss: 0.4961 - val_acc: 0.4000\n",
            "Epoch 85/100\n",
            "22/22 [==============================] - 9s 400ms/step - loss: 0.0046 - acc: 1.0000 - val_loss: 0.4911 - val_acc: 0.4000\n",
            "Epoch 86/100\n",
            "22/22 [==============================] - 9s 400ms/step - loss: 0.0052 - acc: 1.0000 - val_loss: 0.4856 - val_acc: 0.4000\n",
            "Epoch 87/100\n",
            "22/22 [==============================] - 9s 400ms/step - loss: 0.0122 - acc: 1.0000 - val_loss: 0.4772 - val_acc: 0.6000\n",
            "Epoch 88/100\n",
            "22/22 [==============================] - 9s 400ms/step - loss: 0.0021 - acc: 1.0000 - val_loss: 0.4695 - val_acc: 0.6000\n",
            "Epoch 89/100\n",
            "22/22 [==============================] - 9s 399ms/step - loss: 0.0079 - acc: 1.0000 - val_loss: 0.4637 - val_acc: 0.6000\n",
            "Epoch 90/100\n",
            "22/22 [==============================] - 9s 414ms/step - loss: 0.0037 - acc: 1.0000 - val_loss: 0.4515 - val_acc: 0.6000\n",
            "Epoch 91/100\n",
            "22/22 [==============================] - 9s 399ms/step - loss: 0.0037 - acc: 1.0000 - val_loss: 0.4403 - val_acc: 0.6000\n",
            "Epoch 92/100\n",
            "22/22 [==============================] - 9s 402ms/step - loss: 0.0076 - acc: 1.0000 - val_loss: 0.4304 - val_acc: 0.6000\n",
            "Epoch 93/100\n",
            "22/22 [==============================] - 9s 399ms/step - loss: 0.0055 - acc: 1.0000 - val_loss: 0.4228 - val_acc: 0.6000\n",
            "Epoch 94/100\n",
            "22/22 [==============================] - 9s 401ms/step - loss: 0.0064 - acc: 1.0000 - val_loss: 0.4187 - val_acc: 0.6000\n",
            "Epoch 95/100\n",
            "22/22 [==============================] - 9s 399ms/step - loss: 0.0034 - acc: 1.0000 - val_loss: 0.4188 - val_acc: 0.6000\n",
            "Epoch 96/100\n",
            "22/22 [==============================] - 9s 401ms/step - loss: 0.0069 - acc: 1.0000 - val_loss: 0.4198 - val_acc: 0.6000\n",
            "Epoch 97/100\n",
            "22/22 [==============================] - 9s 399ms/step - loss: 0.0058 - acc: 1.0000 - val_loss: 0.4177 - val_acc: 0.6000\n",
            "Epoch 98/100\n",
            "22/22 [==============================] - 9s 402ms/step - loss: 0.0077 - acc: 1.0000 - val_loss: 0.4155 - val_acc: 0.6000\n",
            "Epoch 99/100\n",
            "22/22 [==============================] - 9s 399ms/step - loss: 0.0074 - acc: 1.0000 - val_loss: 0.4141 - val_acc: 0.6000\n",
            "Epoch 100/100\n",
            "22/22 [==============================] - 9s 401ms/step - loss: 0.0081 - acc: 1.0000 - val_loss: 0.4140 - val_acc: 0.6000\n",
            "Fold 3 accuracy : 60.0\n",
            "Fold - 4 (43, 128, 128, 64, 1) (43,) (5, 128, 128, 64, 1) (5,)\n"
          ]
        },
        {
          "name": "stderr",
          "output_type": "stream",
          "text": [
            "/usr/local/lib/python3.7/dist-packages/keras/optimizer_v2/gradient_descent.py:102: UserWarning: The `lr` argument is deprecated, use `learning_rate` instead.\n",
            "  super(SGD, self).__init__(name, **kwargs)\n"
          ]
        },
        {
          "name": "stdout",
          "output_type": "stream",
          "text": [
            "Epoch 1/100\n",
            "22/22 [==============================] - 10s 408ms/step - loss: 0.4728 - acc: 0.5581 - val_loss: 0.4866 - val_acc: 0.6000\n",
            "Epoch 2/100\n",
            "22/22 [==============================] - 9s 401ms/step - loss: 0.4405 - acc: 0.6047 - val_loss: 0.4749 - val_acc: 0.6000\n",
            "Epoch 3/100\n",
            "22/22 [==============================] - 9s 401ms/step - loss: 0.5197 - acc: 0.4884 - val_loss: 0.4652 - val_acc: 0.6000\n",
            "Epoch 4/100\n",
            "22/22 [==============================] - 9s 401ms/step - loss: 0.3981 - acc: 0.6279 - val_loss: 0.4575 - val_acc: 0.6000\n",
            "Epoch 5/100\n",
            "22/22 [==============================] - 9s 400ms/step - loss: 0.4034 - acc: 0.5814 - val_loss: 0.4515 - val_acc: 0.6000\n",
            "Epoch 6/100\n",
            "22/22 [==============================] - 9s 400ms/step - loss: 0.3858 - acc: 0.6047 - val_loss: 0.4469 - val_acc: 0.6000\n",
            "Epoch 7/100\n",
            "22/22 [==============================] - 9s 400ms/step - loss: 0.3358 - acc: 0.6744 - val_loss: 0.4431 - val_acc: 0.6000\n",
            "Epoch 8/100\n",
            "22/22 [==============================] - 9s 399ms/step - loss: 0.3235 - acc: 0.6977 - val_loss: 0.4398 - val_acc: 0.6000\n",
            "Epoch 9/100\n",
            "22/22 [==============================] - 9s 399ms/step - loss: 0.3110 - acc: 0.6744 - val_loss: 0.4371 - val_acc: 0.6000\n",
            "Epoch 10/100\n",
            "22/22 [==============================] - 9s 400ms/step - loss: 0.1882 - acc: 0.8372 - val_loss: 0.4360 - val_acc: 0.6000\n",
            "Epoch 11/100\n",
            "22/22 [==============================] - 9s 400ms/step - loss: 0.2066 - acc: 0.7907 - val_loss: 0.4353 - val_acc: 0.6000\n",
            "Epoch 12/100\n",
            "22/22 [==============================] - 9s 401ms/step - loss: 0.2027 - acc: 0.8372 - val_loss: 0.4355 - val_acc: 0.6000\n",
            "Epoch 13/100\n",
            "22/22 [==============================] - 9s 399ms/step - loss: 0.2665 - acc: 0.7442 - val_loss: 0.4361 - val_acc: 0.6000\n",
            "Epoch 14/100\n",
            "22/22 [==============================] - 9s 400ms/step - loss: 0.1455 - acc: 0.9070 - val_loss: 0.4372 - val_acc: 0.6000\n",
            "Epoch 15/100\n",
            "22/22 [==============================] - 9s 400ms/step - loss: 0.1440 - acc: 0.8837 - val_loss: 0.4390 - val_acc: 0.6000\n",
            "Epoch 16/100\n",
            "22/22 [==============================] - 9s 400ms/step - loss: 0.1287 - acc: 0.9302 - val_loss: 0.4393 - val_acc: 0.6000\n",
            "Epoch 17/100\n",
            "22/22 [==============================] - 9s 400ms/step - loss: 0.1150 - acc: 0.9302 - val_loss: 0.4405 - val_acc: 0.6000\n",
            "Epoch 18/100\n",
            "22/22 [==============================] - 9s 400ms/step - loss: 0.0777 - acc: 1.0000 - val_loss: 0.4430 - val_acc: 0.6000\n",
            "Epoch 19/100\n",
            "22/22 [==============================] - 9s 399ms/step - loss: 0.0916 - acc: 0.9535 - val_loss: 0.4460 - val_acc: 0.6000\n",
            "Epoch 20/100\n",
            "22/22 [==============================] - 9s 400ms/step - loss: 0.1131 - acc: 0.9535 - val_loss: 0.4555 - val_acc: 0.6000\n",
            "Epoch 21/100\n",
            "22/22 [==============================] - 9s 400ms/step - loss: 0.0943 - acc: 0.9535 - val_loss: 0.4674 - val_acc: 0.6000\n",
            "Epoch 22/100\n",
            "22/22 [==============================] - 9s 400ms/step - loss: 0.0963 - acc: 0.9070 - val_loss: 0.4821 - val_acc: 0.6000\n",
            "Epoch 23/100\n",
            "22/22 [==============================] - 9s 399ms/step - loss: 0.0758 - acc: 0.9535 - val_loss: 0.4915 - val_acc: 0.4000\n",
            "Epoch 24/100\n",
            "22/22 [==============================] - 9s 401ms/step - loss: 0.0937 - acc: 0.9302 - val_loss: 0.4936 - val_acc: 0.4000\n",
            "Epoch 25/100\n",
            "22/22 [==============================] - 9s 400ms/step - loss: 0.0802 - acc: 0.9767 - val_loss: 0.4873 - val_acc: 0.4000\n",
            "Epoch 26/100\n",
            "22/22 [==============================] - 9s 400ms/step - loss: 0.0500 - acc: 1.0000 - val_loss: 0.4715 - val_acc: 0.4000\n",
            "Epoch 27/100\n",
            "22/22 [==============================] - 9s 399ms/step - loss: 0.0417 - acc: 1.0000 - val_loss: 0.4553 - val_acc: 0.4000\n",
            "Epoch 28/100\n",
            "22/22 [==============================] - 9s 400ms/step - loss: 0.0549 - acc: 0.9535 - val_loss: 0.4193 - val_acc: 0.8000\n",
            "Epoch 29/100\n",
            "22/22 [==============================] - 9s 399ms/step - loss: 0.0492 - acc: 0.9767 - val_loss: 0.3868 - val_acc: 0.8000\n",
            "Epoch 30/100\n",
            "22/22 [==============================] - 9s 400ms/step - loss: 0.0383 - acc: 1.0000 - val_loss: 0.3736 - val_acc: 0.8000\n",
            "Epoch 31/100\n",
            "22/22 [==============================] - 9s 399ms/step - loss: 0.0205 - acc: 1.0000 - val_loss: 0.3703 - val_acc: 0.8000\n",
            "Epoch 32/100\n",
            "22/22 [==============================] - 9s 401ms/step - loss: 0.0269 - acc: 1.0000 - val_loss: 0.3818 - val_acc: 0.8000\n",
            "Epoch 33/100\n",
            "22/22 [==============================] - 9s 399ms/step - loss: 0.0132 - acc: 1.0000 - val_loss: 0.3983 - val_acc: 0.8000\n",
            "Epoch 34/100\n",
            "22/22 [==============================] - 9s 400ms/step - loss: 0.0317 - acc: 0.9767 - val_loss: 0.4072 - val_acc: 0.6000\n",
            "Epoch 35/100\n",
            "22/22 [==============================] - 9s 398ms/step - loss: 0.0426 - acc: 1.0000 - val_loss: 0.4080 - val_acc: 0.8000\n",
            "Epoch 36/100\n",
            "22/22 [==============================] - 9s 401ms/step - loss: 0.0204 - acc: 1.0000 - val_loss: 0.4030 - val_acc: 0.8000\n",
            "Epoch 37/100\n",
            "22/22 [==============================] - 9s 398ms/step - loss: 0.0555 - acc: 0.9767 - val_loss: 0.3981 - val_acc: 0.8000\n",
            "Epoch 38/100\n",
            "22/22 [==============================] - 9s 401ms/step - loss: 0.0463 - acc: 1.0000 - val_loss: 0.3947 - val_acc: 0.8000\n",
            "Epoch 39/100\n",
            "22/22 [==============================] - 9s 399ms/step - loss: 0.0250 - acc: 1.0000 - val_loss: 0.3899 - val_acc: 0.8000\n",
            "Epoch 40/100\n",
            "22/22 [==============================] - 9s 400ms/step - loss: 0.0543 - acc: 0.9535 - val_loss: 0.3709 - val_acc: 0.8000\n",
            "Epoch 41/100\n",
            "22/22 [==============================] - 9s 398ms/step - loss: 0.0271 - acc: 1.0000 - val_loss: 0.3578 - val_acc: 0.8000\n",
            "Epoch 42/100\n",
            "22/22 [==============================] - 9s 400ms/step - loss: 0.0163 - acc: 1.0000 - val_loss: 0.3464 - val_acc: 0.8000\n",
            "Epoch 43/100\n",
            "22/22 [==============================] - 9s 398ms/step - loss: 0.0240 - acc: 1.0000 - val_loss: 0.3289 - val_acc: 0.8000\n",
            "Epoch 44/100\n",
            "22/22 [==============================] - 9s 400ms/step - loss: 0.0166 - acc: 1.0000 - val_loss: 0.3230 - val_acc: 0.8000\n",
            "Epoch 45/100\n",
            "22/22 [==============================] - 9s 399ms/step - loss: 0.0206 - acc: 1.0000 - val_loss: 0.3188 - val_acc: 0.8000\n",
            "Epoch 46/100\n",
            "22/22 [==============================] - 9s 402ms/step - loss: 0.0177 - acc: 1.0000 - val_loss: 0.3162 - val_acc: 0.8000\n",
            "Epoch 47/100\n",
            "22/22 [==============================] - 9s 399ms/step - loss: 0.0088 - acc: 1.0000 - val_loss: 0.3113 - val_acc: 0.8000\n",
            "Epoch 48/100\n",
            "22/22 [==============================] - 9s 401ms/step - loss: 0.0207 - acc: 1.0000 - val_loss: 0.3102 - val_acc: 0.8000\n",
            "Epoch 49/100\n",
            "22/22 [==============================] - 9s 398ms/step - loss: 0.0162 - acc: 1.0000 - val_loss: 0.3187 - val_acc: 0.8000\n",
            "Epoch 50/100\n",
            "22/22 [==============================] - 9s 401ms/step - loss: 0.0266 - acc: 1.0000 - val_loss: 0.3252 - val_acc: 0.8000\n",
            "Epoch 51/100\n",
            "22/22 [==============================] - 9s 399ms/step - loss: 0.0073 - acc: 1.0000 - val_loss: 0.3359 - val_acc: 0.8000\n",
            "Epoch 52/100\n",
            "22/22 [==============================] - 9s 401ms/step - loss: 0.0065 - acc: 1.0000 - val_loss: 0.3433 - val_acc: 0.8000\n",
            "Epoch 53/100\n",
            "22/22 [==============================] - 9s 399ms/step - loss: 0.0196 - acc: 1.0000 - val_loss: 0.3497 - val_acc: 0.8000\n",
            "Epoch 54/100\n",
            "22/22 [==============================] - 9s 400ms/step - loss: 0.0236 - acc: 1.0000 - val_loss: 0.3547 - val_acc: 0.8000\n",
            "Epoch 55/100\n",
            "22/22 [==============================] - 9s 399ms/step - loss: 0.0213 - acc: 1.0000 - val_loss: 0.3585 - val_acc: 0.8000\n",
            "Epoch 56/100\n",
            "22/22 [==============================] - 9s 401ms/step - loss: 0.0313 - acc: 0.9767 - val_loss: 0.3619 - val_acc: 0.8000\n",
            "Epoch 57/100\n",
            "22/22 [==============================] - 9s 399ms/step - loss: 0.0147 - acc: 1.0000 - val_loss: 0.3526 - val_acc: 0.8000\n",
            "Epoch 58/100\n",
            "22/22 [==============================] - 9s 400ms/step - loss: 0.0093 - acc: 1.0000 - val_loss: 0.3503 - val_acc: 0.8000\n",
            "Epoch 59/100\n",
            "22/22 [==============================] - 9s 399ms/step - loss: 0.0283 - acc: 0.9767 - val_loss: 0.3470 - val_acc: 0.8000\n",
            "Epoch 60/100\n",
            "22/22 [==============================] - 9s 402ms/step - loss: 0.0043 - acc: 1.0000 - val_loss: 0.3434 - val_acc: 0.8000\n",
            "Epoch 61/100\n",
            "22/22 [==============================] - 9s 399ms/step - loss: 0.0103 - acc: 1.0000 - val_loss: 0.3414 - val_acc: 0.8000\n",
            "Epoch 62/100\n",
            "22/22 [==============================] - 9s 400ms/step - loss: 0.0037 - acc: 1.0000 - val_loss: 0.3436 - val_acc: 0.8000\n",
            "Epoch 63/100\n",
            "22/22 [==============================] - 9s 398ms/step - loss: 0.0114 - acc: 1.0000 - val_loss: 0.3446 - val_acc: 0.8000\n",
            "Epoch 64/100\n",
            "22/22 [==============================] - 9s 401ms/step - loss: 0.0054 - acc: 1.0000 - val_loss: 0.3437 - val_acc: 0.8000\n",
            "Epoch 65/100\n",
            "22/22 [==============================] - 9s 400ms/step - loss: 0.0081 - acc: 1.0000 - val_loss: 0.3420 - val_acc: 0.8000\n",
            "Epoch 66/100\n",
            "22/22 [==============================] - 9s 400ms/step - loss: 0.0146 - acc: 1.0000 - val_loss: 0.3410 - val_acc: 0.8000\n",
            "Epoch 67/100\n",
            "22/22 [==============================] - 9s 399ms/step - loss: 0.0138 - acc: 1.0000 - val_loss: 0.3366 - val_acc: 0.8000\n",
            "Epoch 68/100\n",
            "22/22 [==============================] - 9s 400ms/step - loss: 0.0089 - acc: 1.0000 - val_loss: 0.3328 - val_acc: 0.8000\n",
            "Epoch 69/100\n",
            "22/22 [==============================] - 9s 399ms/step - loss: 0.0132 - acc: 1.0000 - val_loss: 0.3324 - val_acc: 0.8000\n",
            "Epoch 70/100\n",
            "22/22 [==============================] - 9s 401ms/step - loss: 0.0365 - acc: 0.9767 - val_loss: 0.3340 - val_acc: 0.8000\n",
            "Epoch 71/100\n",
            "22/22 [==============================] - 9s 399ms/step - loss: 0.0043 - acc: 1.0000 - val_loss: 0.3340 - val_acc: 0.8000\n",
            "Epoch 72/100\n",
            "22/22 [==============================] - 9s 401ms/step - loss: 0.0083 - acc: 1.0000 - val_loss: 0.3370 - val_acc: 0.8000\n",
            "Epoch 73/100\n",
            "22/22 [==============================] - 9s 398ms/step - loss: 0.0058 - acc: 1.0000 - val_loss: 0.3424 - val_acc: 0.8000\n",
            "Epoch 74/100\n",
            "22/22 [==============================] - 9s 399ms/step - loss: 0.0064 - acc: 1.0000 - val_loss: 0.3456 - val_acc: 0.8000\n",
            "Epoch 75/100\n",
            "22/22 [==============================] - 9s 397ms/step - loss: 0.0033 - acc: 1.0000 - val_loss: 0.3467 - val_acc: 0.8000\n",
            "Epoch 76/100\n",
            "22/22 [==============================] - 9s 399ms/step - loss: 0.0068 - acc: 1.0000 - val_loss: 0.3486 - val_acc: 0.8000\n",
            "Epoch 77/100\n",
            "22/22 [==============================] - 9s 398ms/step - loss: 0.0028 - acc: 1.0000 - val_loss: 0.3492 - val_acc: 0.8000\n",
            "Epoch 78/100\n",
            "22/22 [==============================] - 9s 398ms/step - loss: 0.0148 - acc: 1.0000 - val_loss: 0.3579 - val_acc: 0.8000\n",
            "Epoch 79/100\n",
            "22/22 [==============================] - 9s 398ms/step - loss: 0.0021 - acc: 1.0000 - val_loss: 0.3658 - val_acc: 0.8000\n",
            "Epoch 80/100\n",
            "22/22 [==============================] - 9s 399ms/step - loss: 0.0104 - acc: 1.0000 - val_loss: 0.3760 - val_acc: 0.8000\n",
            "Epoch 81/100\n",
            "22/22 [==============================] - 9s 399ms/step - loss: 0.0082 - acc: 1.0000 - val_loss: 0.3791 - val_acc: 0.8000\n",
            "Epoch 82/100\n",
            "22/22 [==============================] - 9s 400ms/step - loss: 0.0050 - acc: 1.0000 - val_loss: 0.3793 - val_acc: 0.8000\n",
            "Epoch 83/100\n",
            "22/22 [==============================] - 9s 400ms/step - loss: 0.0031 - acc: 1.0000 - val_loss: 0.3768 - val_acc: 0.8000\n",
            "Epoch 84/100\n",
            "22/22 [==============================] - 9s 400ms/step - loss: 0.0049 - acc: 1.0000 - val_loss: 0.3738 - val_acc: 0.8000\n",
            "Epoch 85/100\n",
            "22/22 [==============================] - 9s 399ms/step - loss: 0.0132 - acc: 1.0000 - val_loss: 0.3707 - val_acc: 0.8000\n",
            "Epoch 86/100\n",
            "22/22 [==============================] - 9s 400ms/step - loss: 0.0195 - acc: 1.0000 - val_loss: 0.3732 - val_acc: 0.8000\n",
            "Epoch 87/100\n",
            "22/22 [==============================] - 9s 400ms/step - loss: 0.0114 - acc: 1.0000 - val_loss: 0.3722 - val_acc: 0.8000\n",
            "Epoch 88/100\n",
            "22/22 [==============================] - 9s 401ms/step - loss: 0.0149 - acc: 1.0000 - val_loss: 0.3661 - val_acc: 0.8000\n",
            "Epoch 89/100\n",
            "22/22 [==============================] - 9s 401ms/step - loss: 0.0088 - acc: 1.0000 - val_loss: 0.3622 - val_acc: 0.8000\n",
            "Epoch 90/100\n",
            "22/22 [==============================] - 9s 400ms/step - loss: 0.0138 - acc: 1.0000 - val_loss: 0.3612 - val_acc: 0.6000\n",
            "Epoch 91/100\n",
            "22/22 [==============================] - 9s 399ms/step - loss: 0.0022 - acc: 1.0000 - val_loss: 0.3611 - val_acc: 0.6000\n",
            "Epoch 92/100\n",
            "22/22 [==============================] - 9s 400ms/step - loss: 0.0114 - acc: 1.0000 - val_loss: 0.3587 - val_acc: 0.8000\n",
            "Epoch 93/100\n",
            "22/22 [==============================] - 9s 399ms/step - loss: 0.0047 - acc: 1.0000 - val_loss: 0.3527 - val_acc: 0.8000\n",
            "Epoch 94/100\n",
            "22/22 [==============================] - 9s 400ms/step - loss: 0.0025 - acc: 1.0000 - val_loss: 0.3432 - val_acc: 0.8000\n",
            "Epoch 95/100\n",
            "22/22 [==============================] - 9s 399ms/step - loss: 0.0077 - acc: 1.0000 - val_loss: 0.3357 - val_acc: 0.8000\n",
            "Epoch 96/100\n",
            "22/22 [==============================] - 9s 401ms/step - loss: 0.0064 - acc: 1.0000 - val_loss: 0.3312 - val_acc: 0.8000\n",
            "Epoch 97/100\n",
            "22/22 [==============================] - 9s 399ms/step - loss: 0.0126 - acc: 1.0000 - val_loss: 0.3250 - val_acc: 0.8000\n",
            "Epoch 98/100\n",
            "22/22 [==============================] - 9s 400ms/step - loss: 0.0027 - acc: 1.0000 - val_loss: 0.3223 - val_acc: 0.8000\n",
            "Epoch 99/100\n",
            "22/22 [==============================] - 9s 401ms/step - loss: 0.0023 - acc: 1.0000 - val_loss: 0.3193 - val_acc: 0.8000\n",
            "Epoch 100/100\n",
            "22/22 [==============================] - 9s 401ms/step - loss: 0.0081 - acc: 1.0000 - val_loss: 0.3195 - val_acc: 0.8000\n",
            "Fold 4 accuracy : 80.0\n",
            "Fold - 5 (43, 128, 128, 64, 1) (43,) (5, 128, 128, 64, 1) (5,)\n"
          ]
        },
        {
          "name": "stderr",
          "output_type": "stream",
          "text": [
            "/usr/local/lib/python3.7/dist-packages/keras/optimizer_v2/gradient_descent.py:102: UserWarning: The `lr` argument is deprecated, use `learning_rate` instead.\n",
            "  super(SGD, self).__init__(name, **kwargs)\n"
          ]
        },
        {
          "name": "stdout",
          "output_type": "stream",
          "text": [
            "Epoch 1/100\n",
            "22/22 [==============================] - 10s 409ms/step - loss: 0.5145 - acc: 0.4884 - val_loss: 0.5156 - val_acc: 0.4000\n",
            "Epoch 2/100\n",
            "22/22 [==============================] - 9s 401ms/step - loss: 0.4604 - acc: 0.5581 - val_loss: 0.5305 - val_acc: 0.4000\n",
            "Epoch 3/100\n",
            "22/22 [==============================] - 9s 401ms/step - loss: 0.4511 - acc: 0.5581 - val_loss: 0.5433 - val_acc: 0.4000\n",
            "Epoch 4/100\n",
            "22/22 [==============================] - 9s 402ms/step - loss: 0.4734 - acc: 0.6047 - val_loss: 0.5538 - val_acc: 0.4000\n",
            "Epoch 5/100\n",
            "22/22 [==============================] - 9s 399ms/step - loss: 0.4541 - acc: 0.5581 - val_loss: 0.5620 - val_acc: 0.4000\n",
            "Epoch 6/100\n",
            "22/22 [==============================] - 9s 415ms/step - loss: 0.3664 - acc: 0.6512 - val_loss: 0.5685 - val_acc: 0.4000\n",
            "Epoch 7/100\n",
            "22/22 [==============================] - 9s 399ms/step - loss: 0.3514 - acc: 0.6744 - val_loss: 0.5737 - val_acc: 0.4000\n",
            "Epoch 8/100\n",
            "22/22 [==============================] - 9s 400ms/step - loss: 0.4286 - acc: 0.6279 - val_loss: 0.5777 - val_acc: 0.4000\n",
            "Epoch 9/100\n",
            "22/22 [==============================] - 9s 399ms/step - loss: 0.3559 - acc: 0.6279 - val_loss: 0.5806 - val_acc: 0.4000\n",
            "Epoch 10/100\n",
            "22/22 [==============================] - 9s 401ms/step - loss: 0.3035 - acc: 0.7209 - val_loss: 0.5827 - val_acc: 0.4000\n",
            "Epoch 11/100\n",
            "22/22 [==============================] - 9s 399ms/step - loss: 0.3534 - acc: 0.6279 - val_loss: 0.5845 - val_acc: 0.4000\n",
            "Epoch 12/100\n",
            "22/22 [==============================] - 9s 401ms/step - loss: 0.2696 - acc: 0.7442 - val_loss: 0.5856 - val_acc: 0.4000\n",
            "Epoch 13/100\n",
            "22/22 [==============================] - 9s 400ms/step - loss: 0.2282 - acc: 0.8140 - val_loss: 0.5863 - val_acc: 0.4000\n",
            "Epoch 14/100\n",
            "22/22 [==============================] - 9s 401ms/step - loss: 0.1575 - acc: 0.9070 - val_loss: 0.5872 - val_acc: 0.4000\n",
            "Epoch 15/100\n",
            "22/22 [==============================] - 9s 399ms/step - loss: 0.1896 - acc: 0.8140 - val_loss: 0.5880 - val_acc: 0.4000\n",
            "Epoch 16/100\n",
            "22/22 [==============================] - 9s 401ms/step - loss: 0.2026 - acc: 0.8605 - val_loss: 0.5887 - val_acc: 0.4000\n",
            "Epoch 17/100\n",
            "22/22 [==============================] - 9s 399ms/step - loss: 0.1185 - acc: 0.8837 - val_loss: 0.5888 - val_acc: 0.4000\n",
            "Epoch 18/100\n",
            "22/22 [==============================] - 9s 401ms/step - loss: 0.1129 - acc: 0.9070 - val_loss: 0.5889 - val_acc: 0.4000\n",
            "Epoch 19/100\n",
            "22/22 [==============================] - 9s 400ms/step - loss: 0.1025 - acc: 0.9767 - val_loss: 0.5887 - val_acc: 0.4000\n",
            "Epoch 20/100\n",
            "22/22 [==============================] - 9s 401ms/step - loss: 0.0999 - acc: 0.9302 - val_loss: 0.5870 - val_acc: 0.4000\n",
            "Epoch 21/100\n",
            "22/22 [==============================] - 9s 399ms/step - loss: 0.1218 - acc: 0.8837 - val_loss: 0.5836 - val_acc: 0.4000\n",
            "Epoch 22/100\n",
            "22/22 [==============================] - 9s 401ms/step - loss: 0.1218 - acc: 0.9070 - val_loss: 0.5772 - val_acc: 0.4000\n",
            "Epoch 23/100\n",
            "22/22 [==============================] - 9s 399ms/step - loss: 0.0819 - acc: 0.9535 - val_loss: 0.5689 - val_acc: 0.4000\n",
            "Epoch 24/100\n",
            "22/22 [==============================] - 9s 401ms/step - loss: 0.0852 - acc: 0.9302 - val_loss: 0.5559 - val_acc: 0.4000\n",
            "Epoch 25/100\n",
            "22/22 [==============================] - 9s 400ms/step - loss: 0.0752 - acc: 0.9767 - val_loss: 0.5407 - val_acc: 0.4000\n",
            "Epoch 26/100\n",
            "22/22 [==============================] - 9s 401ms/step - loss: 0.0817 - acc: 0.9767 - val_loss: 0.5302 - val_acc: 0.4000\n",
            "Epoch 27/100\n",
            "22/22 [==============================] - 9s 399ms/step - loss: 0.0794 - acc: 0.9535 - val_loss: 0.5149 - val_acc: 0.4000\n",
            "Epoch 28/100\n",
            "22/22 [==============================] - 9s 400ms/step - loss: 0.0593 - acc: 1.0000 - val_loss: 0.5086 - val_acc: 0.4000\n",
            "Epoch 29/100\n",
            "22/22 [==============================] - 9s 398ms/step - loss: 0.0528 - acc: 0.9767 - val_loss: 0.4903 - val_acc: 0.4000\n",
            "Epoch 30/100\n",
            "22/22 [==============================] - 9s 400ms/step - loss: 0.0600 - acc: 0.9767 - val_loss: 0.4777 - val_acc: 0.4000\n",
            "Epoch 31/100\n",
            "22/22 [==============================] - 9s 398ms/step - loss: 0.0467 - acc: 0.9767 - val_loss: 0.4743 - val_acc: 0.4000\n",
            "Epoch 32/100\n",
            "22/22 [==============================] - 9s 400ms/step - loss: 0.0236 - acc: 1.0000 - val_loss: 0.4788 - val_acc: 0.6000\n",
            "Epoch 33/100\n",
            "22/22 [==============================] - 9s 399ms/step - loss: 0.0734 - acc: 0.9302 - val_loss: 0.4766 - val_acc: 0.6000\n",
            "Epoch 34/100\n",
            "22/22 [==============================] - 9s 401ms/step - loss: 0.0434 - acc: 0.9535 - val_loss: 0.4633 - val_acc: 0.6000\n",
            "Epoch 35/100\n",
            "22/22 [==============================] - 9s 399ms/step - loss: 0.0587 - acc: 0.9535 - val_loss: 0.4525 - val_acc: 0.6000\n",
            "Epoch 36/100\n",
            "22/22 [==============================] - 9s 399ms/step - loss: 0.0454 - acc: 1.0000 - val_loss: 0.4495 - val_acc: 0.6000\n",
            "Epoch 37/100\n",
            "22/22 [==============================] - 9s 398ms/step - loss: 0.0218 - acc: 0.9767 - val_loss: 0.4475 - val_acc: 0.6000\n",
            "Epoch 38/100\n",
            "22/22 [==============================] - 9s 400ms/step - loss: 0.0384 - acc: 0.9767 - val_loss: 0.4300 - val_acc: 0.6000\n",
            "Epoch 39/100\n",
            "22/22 [==============================] - 9s 399ms/step - loss: 0.0460 - acc: 1.0000 - val_loss: 0.4285 - val_acc: 0.8000\n",
            "Epoch 40/100\n",
            "22/22 [==============================] - 9s 400ms/step - loss: 0.0582 - acc: 0.9535 - val_loss: 0.4323 - val_acc: 0.6000\n",
            "Epoch 41/100\n",
            "22/22 [==============================] - 9s 399ms/step - loss: 0.0290 - acc: 1.0000 - val_loss: 0.4526 - val_acc: 0.6000\n",
            "Epoch 42/100\n",
            "22/22 [==============================] - 9s 400ms/step - loss: 0.0213 - acc: 1.0000 - val_loss: 0.4638 - val_acc: 0.6000\n",
            "Epoch 43/100\n",
            "22/22 [==============================] - 9s 399ms/step - loss: 0.0119 - acc: 1.0000 - val_loss: 0.4665 - val_acc: 0.6000\n",
            "Epoch 44/100\n",
            "22/22 [==============================] - 9s 400ms/step - loss: 0.0212 - acc: 1.0000 - val_loss: 0.4651 - val_acc: 0.6000\n",
            "Epoch 45/100\n",
            "22/22 [==============================] - 9s 399ms/step - loss: 0.0201 - acc: 0.9767 - val_loss: 0.4663 - val_acc: 0.6000\n",
            "Epoch 46/100\n",
            "22/22 [==============================] - 9s 399ms/step - loss: 0.0211 - acc: 1.0000 - val_loss: 0.4668 - val_acc: 0.6000\n",
            "Epoch 47/100\n",
            "22/22 [==============================] - 9s 398ms/step - loss: 0.0184 - acc: 1.0000 - val_loss: 0.4576 - val_acc: 0.6000\n",
            "Epoch 48/100\n",
            "22/22 [==============================] - 9s 400ms/step - loss: 0.0181 - acc: 1.0000 - val_loss: 0.4348 - val_acc: 0.6000\n",
            "Epoch 49/100\n",
            "22/22 [==============================] - 9s 400ms/step - loss: 0.0049 - acc: 1.0000 - val_loss: 0.4203 - val_acc: 0.6000\n",
            "Epoch 50/100\n",
            "22/22 [==============================] - 9s 401ms/step - loss: 0.0125 - acc: 1.0000 - val_loss: 0.4117 - val_acc: 0.8000\n",
            "Epoch 51/100\n",
            "22/22 [==============================] - 9s 399ms/step - loss: 0.0103 - acc: 1.0000 - val_loss: 0.4117 - val_acc: 0.8000\n",
            "Epoch 52/100\n",
            "22/22 [==============================] - 9s 399ms/step - loss: 0.0166 - acc: 1.0000 - val_loss: 0.4055 - val_acc: 0.8000\n",
            "Epoch 53/100\n",
            "22/22 [==============================] - 9s 398ms/step - loss: 0.0209 - acc: 0.9767 - val_loss: 0.4045 - val_acc: 0.8000\n",
            "Epoch 54/100\n",
            "22/22 [==============================] - 9s 400ms/step - loss: 0.0315 - acc: 0.9767 - val_loss: 0.4100 - val_acc: 0.8000\n",
            "Epoch 55/100\n",
            "22/22 [==============================] - 9s 399ms/step - loss: 0.0230 - acc: 0.9767 - val_loss: 0.4104 - val_acc: 0.8000\n",
            "Epoch 56/100\n",
            "22/22 [==============================] - 9s 401ms/step - loss: 0.0128 - acc: 1.0000 - val_loss: 0.4114 - val_acc: 0.6000\n",
            "Epoch 57/100\n",
            "22/22 [==============================] - 9s 398ms/step - loss: 0.0101 - acc: 1.0000 - val_loss: 0.4184 - val_acc: 0.6000\n",
            "Epoch 58/100\n",
            "22/22 [==============================] - 9s 400ms/step - loss: 0.0081 - acc: 1.0000 - val_loss: 0.4241 - val_acc: 0.6000\n",
            "Epoch 59/100\n",
            "22/22 [==============================] - 9s 398ms/step - loss: 0.0108 - acc: 1.0000 - val_loss: 0.4287 - val_acc: 0.6000\n",
            "Epoch 60/100\n",
            "22/22 [==============================] - 9s 400ms/step - loss: 0.0182 - acc: 1.0000 - val_loss: 0.4286 - val_acc: 0.6000\n",
            "Epoch 61/100\n",
            "22/22 [==============================] - 9s 413ms/step - loss: 0.0148 - acc: 1.0000 - val_loss: 0.4300 - val_acc: 0.6000\n",
            "Epoch 62/100\n",
            "22/22 [==============================] - 9s 400ms/step - loss: 0.0270 - acc: 0.9767 - val_loss: 0.4200 - val_acc: 0.6000\n",
            "Epoch 63/100\n",
            "22/22 [==============================] - 9s 397ms/step - loss: 0.0118 - acc: 1.0000 - val_loss: 0.4076 - val_acc: 0.6000\n",
            "Epoch 64/100\n",
            "22/22 [==============================] - 9s 400ms/step - loss: 0.0111 - acc: 1.0000 - val_loss: 0.3883 - val_acc: 0.6000\n",
            "Epoch 65/100\n",
            "22/22 [==============================] - 9s 398ms/step - loss: 0.0402 - acc: 0.9535 - val_loss: 0.3969 - val_acc: 0.6000\n",
            "Epoch 66/100\n",
            "22/22 [==============================] - 9s 400ms/step - loss: 0.0094 - acc: 1.0000 - val_loss: 0.4137 - val_acc: 0.6000\n",
            "Epoch 67/100\n",
            "22/22 [==============================] - 9s 399ms/step - loss: 0.0260 - acc: 1.0000 - val_loss: 0.4200 - val_acc: 0.6000\n",
            "Epoch 68/100\n",
            "22/22 [==============================] - 9s 401ms/step - loss: 0.0071 - acc: 1.0000 - val_loss: 0.4245 - val_acc: 0.8000\n",
            "Epoch 69/100\n",
            "22/22 [==============================] - 9s 398ms/step - loss: 0.0094 - acc: 1.0000 - val_loss: 0.4215 - val_acc: 0.8000\n",
            "Epoch 70/100\n",
            "22/22 [==============================] - 9s 400ms/step - loss: 0.0296 - acc: 0.9767 - val_loss: 0.4106 - val_acc: 0.8000\n",
            "Epoch 71/100\n",
            "22/22 [==============================] - 9s 399ms/step - loss: 0.0103 - acc: 1.0000 - val_loss: 0.3993 - val_acc: 0.8000\n",
            "Epoch 72/100\n",
            "22/22 [==============================] - 9s 399ms/step - loss: 0.0192 - acc: 1.0000 - val_loss: 0.3951 - val_acc: 0.8000\n",
            "Epoch 73/100\n",
            "22/22 [==============================] - 9s 399ms/step - loss: 0.0171 - acc: 1.0000 - val_loss: 0.4008 - val_acc: 0.6000\n",
            "Epoch 74/100\n",
            "22/22 [==============================] - 9s 399ms/step - loss: 0.0058 - acc: 1.0000 - val_loss: 0.4173 - val_acc: 0.6000\n",
            "Epoch 75/100\n",
            "22/22 [==============================] - 9s 399ms/step - loss: 0.0102 - acc: 1.0000 - val_loss: 0.4390 - val_acc: 0.6000\n",
            "Epoch 76/100\n",
            "22/22 [==============================] - 9s 400ms/step - loss: 0.0122 - acc: 1.0000 - val_loss: 0.4584 - val_acc: 0.6000\n",
            "Epoch 77/100\n",
            "22/22 [==============================] - 9s 399ms/step - loss: 0.0088 - acc: 1.0000 - val_loss: 0.4645 - val_acc: 0.6000\n",
            "Epoch 78/100\n",
            "22/22 [==============================] - 9s 399ms/step - loss: 0.0093 - acc: 1.0000 - val_loss: 0.4745 - val_acc: 0.6000\n",
            "Epoch 79/100\n",
            "22/22 [==============================] - 9s 399ms/step - loss: 0.0058 - acc: 1.0000 - val_loss: 0.4760 - val_acc: 0.6000\n",
            "Epoch 80/100\n",
            "22/22 [==============================] - 9s 401ms/step - loss: 0.0077 - acc: 1.0000 - val_loss: 0.4731 - val_acc: 0.6000\n",
            "Epoch 81/100\n",
            "22/22 [==============================] - 9s 398ms/step - loss: 0.0161 - acc: 1.0000 - val_loss: 0.4629 - val_acc: 0.6000\n",
            "Epoch 82/100\n",
            "22/22 [==============================] - 9s 400ms/step - loss: 0.0029 - acc: 1.0000 - val_loss: 0.4460 - val_acc: 0.6000\n",
            "Epoch 83/100\n",
            "22/22 [==============================] - 9s 398ms/step - loss: 0.0077 - acc: 1.0000 - val_loss: 0.4365 - val_acc: 0.6000\n",
            "Epoch 84/100\n",
            "22/22 [==============================] - 9s 399ms/step - loss: 0.0030 - acc: 1.0000 - val_loss: 0.4265 - val_acc: 0.8000\n",
            "Epoch 85/100\n",
            "22/22 [==============================] - 9s 398ms/step - loss: 0.0029 - acc: 1.0000 - val_loss: 0.4199 - val_acc: 0.8000\n",
            "Epoch 86/100\n",
            "22/22 [==============================] - 9s 399ms/step - loss: 0.0041 - acc: 1.0000 - val_loss: 0.4134 - val_acc: 0.8000\n",
            "Epoch 87/100\n",
            "22/22 [==============================] - 9s 398ms/step - loss: 0.0027 - acc: 1.0000 - val_loss: 0.4046 - val_acc: 0.8000\n",
            "Epoch 88/100\n",
            "22/22 [==============================] - 9s 399ms/step - loss: 0.0089 - acc: 1.0000 - val_loss: 0.3987 - val_acc: 0.8000\n",
            "Epoch 89/100\n",
            "22/22 [==============================] - 9s 399ms/step - loss: 0.0119 - acc: 1.0000 - val_loss: 0.3902 - val_acc: 0.8000\n",
            "Epoch 90/100\n",
            "22/22 [==============================] - 9s 399ms/step - loss: 0.0072 - acc: 1.0000 - val_loss: 0.3907 - val_acc: 0.8000\n",
            "Epoch 91/100\n",
            "22/22 [==============================] - 9s 398ms/step - loss: 0.0134 - acc: 1.0000 - val_loss: 0.3945 - val_acc: 0.8000\n",
            "Epoch 92/100\n",
            "22/22 [==============================] - 9s 400ms/step - loss: 0.0147 - acc: 1.0000 - val_loss: 0.4056 - val_acc: 0.8000\n",
            "Epoch 93/100\n",
            "22/22 [==============================] - 9s 398ms/step - loss: 0.0023 - acc: 1.0000 - val_loss: 0.4153 - val_acc: 0.8000\n",
            "Epoch 94/100\n",
            "22/22 [==============================] - 9s 400ms/step - loss: 0.0132 - acc: 1.0000 - val_loss: 0.4128 - val_acc: 0.8000\n",
            "Epoch 95/100\n",
            "22/22 [==============================] - 9s 398ms/step - loss: 0.0180 - acc: 1.0000 - val_loss: 0.4135 - val_acc: 0.8000\n",
            "Epoch 96/100\n",
            "22/22 [==============================] - 9s 399ms/step - loss: 0.0072 - acc: 1.0000 - val_loss: 0.4165 - val_acc: 0.8000\n",
            "Epoch 97/100\n",
            "22/22 [==============================] - 9s 397ms/step - loss: 0.0070 - acc: 1.0000 - val_loss: 0.4168 - val_acc: 0.8000\n",
            "Epoch 98/100\n",
            "22/22 [==============================] - 9s 401ms/step - loss: 0.0027 - acc: 1.0000 - val_loss: 0.4131 - val_acc: 0.8000\n",
            "Epoch 99/100\n",
            "22/22 [==============================] - 9s 400ms/step - loss: 0.0080 - acc: 1.0000 - val_loss: 0.4085 - val_acc: 0.8000\n",
            "Epoch 100/100\n",
            "22/22 [==============================] - 9s 400ms/step - loss: 0.0065 - acc: 1.0000 - val_loss: 0.3990 - val_acc: 0.8000\n",
            "Fold 5 accuracy : 80.0\n",
            "Fold - 6 (43, 128, 128, 64, 1) (43,) (5, 128, 128, 64, 1) (5,)\n"
          ]
        },
        {
          "name": "stderr",
          "output_type": "stream",
          "text": [
            "/usr/local/lib/python3.7/dist-packages/keras/optimizer_v2/gradient_descent.py:102: UserWarning: The `lr` argument is deprecated, use `learning_rate` instead.\n",
            "  super(SGD, self).__init__(name, **kwargs)\n"
          ]
        },
        {
          "name": "stdout",
          "output_type": "stream",
          "text": [
            "Epoch 1/100\n",
            "22/22 [==============================] - 10s 422ms/step - loss: 0.4399 - acc: 0.5814 - val_loss: 0.5028 - val_acc: 0.4000\n",
            "Epoch 2/100\n",
            "22/22 [==============================] - 9s 398ms/step - loss: 0.4634 - acc: 0.5349 - val_loss: 0.5066 - val_acc: 0.4000\n",
            "Epoch 3/100\n",
            "22/22 [==============================] - 9s 411ms/step - loss: 0.5391 - acc: 0.4651 - val_loss: 0.5105 - val_acc: 0.4000\n",
            "Epoch 4/100\n",
            "22/22 [==============================] - 9s 411ms/step - loss: 0.4265 - acc: 0.5814 - val_loss: 0.5138 - val_acc: 0.4000\n",
            "Epoch 5/100\n",
            "22/22 [==============================] - 9s 398ms/step - loss: 0.3902 - acc: 0.6512 - val_loss: 0.5169 - val_acc: 0.4000\n",
            "Epoch 6/100\n",
            "22/22 [==============================] - 9s 400ms/step - loss: 0.4112 - acc: 0.6512 - val_loss: 0.5202 - val_acc: 0.4000\n",
            "Epoch 7/100\n",
            "22/22 [==============================] - 9s 398ms/step - loss: 0.3037 - acc: 0.6977 - val_loss: 0.5232 - val_acc: 0.4000\n",
            "Epoch 8/100\n",
            "22/22 [==============================] - 9s 398ms/step - loss: 0.3569 - acc: 0.6977 - val_loss: 0.5266 - val_acc: 0.4000\n",
            "Epoch 9/100\n",
            "22/22 [==============================] - 9s 399ms/step - loss: 0.2910 - acc: 0.7674 - val_loss: 0.5302 - val_acc: 0.4000\n",
            "Epoch 10/100\n",
            "22/22 [==============================] - 9s 400ms/step - loss: 0.2720 - acc: 0.7442 - val_loss: 0.5344 - val_acc: 0.4000\n",
            "Epoch 11/100\n",
            "22/22 [==============================] - 9s 398ms/step - loss: 0.2185 - acc: 0.8372 - val_loss: 0.5387 - val_acc: 0.4000\n",
            "Epoch 12/100\n",
            "22/22 [==============================] - 9s 399ms/step - loss: 0.1724 - acc: 0.8605 - val_loss: 0.5417 - val_acc: 0.4000\n",
            "Epoch 13/100\n",
            "22/22 [==============================] - 9s 400ms/step - loss: 0.1853 - acc: 0.8372 - val_loss: 0.5455 - val_acc: 0.4000\n",
            "Epoch 14/100\n",
            "22/22 [==============================] - 9s 400ms/step - loss: 0.1689 - acc: 0.8605 - val_loss: 0.5485 - val_acc: 0.4000\n",
            "Epoch 15/100\n",
            "22/22 [==============================] - 9s 399ms/step - loss: 0.1048 - acc: 0.9302 - val_loss: 0.5513 - val_acc: 0.4000\n",
            "Epoch 16/100\n",
            "22/22 [==============================] - 9s 400ms/step - loss: 0.1555 - acc: 0.8605 - val_loss: 0.5524 - val_acc: 0.4000\n",
            "Epoch 17/100\n",
            "22/22 [==============================] - 9s 399ms/step - loss: 0.1314 - acc: 0.8605 - val_loss: 0.5523 - val_acc: 0.4000\n",
            "Epoch 18/100\n",
            "22/22 [==============================] - 9s 400ms/step - loss: 0.0805 - acc: 0.9767 - val_loss: 0.5534 - val_acc: 0.4000\n",
            "Epoch 19/100\n",
            "22/22 [==============================] - 9s 398ms/step - loss: 0.1297 - acc: 0.9070 - val_loss: 0.5550 - val_acc: 0.4000\n",
            "Epoch 20/100\n",
            "22/22 [==============================] - 9s 399ms/step - loss: 0.1638 - acc: 0.8605 - val_loss: 0.5528 - val_acc: 0.4000\n",
            "Epoch 21/100\n",
            "22/22 [==============================] - 9s 399ms/step - loss: 0.0729 - acc: 0.9302 - val_loss: 0.5451 - val_acc: 0.4000\n",
            "Epoch 22/100\n",
            "22/22 [==============================] - 9s 399ms/step - loss: 0.0546 - acc: 0.9767 - val_loss: 0.5442 - val_acc: 0.4000\n",
            "Epoch 23/100\n",
            "22/22 [==============================] - 9s 399ms/step - loss: 0.0538 - acc: 0.9767 - val_loss: 0.5433 - val_acc: 0.4000\n",
            "Epoch 24/100\n",
            "22/22 [==============================] - 9s 400ms/step - loss: 0.0964 - acc: 0.9535 - val_loss: 0.5530 - val_acc: 0.4000\n",
            "Epoch 25/100\n",
            "22/22 [==============================] - 9s 398ms/step - loss: 0.0535 - acc: 0.9535 - val_loss: 0.5516 - val_acc: 0.4000\n",
            "Epoch 26/100\n",
            "22/22 [==============================] - 9s 398ms/step - loss: 0.0335 - acc: 1.0000 - val_loss: 0.5533 - val_acc: 0.4000\n",
            "Epoch 27/100\n",
            "22/22 [==============================] - 9s 398ms/step - loss: 0.0246 - acc: 1.0000 - val_loss: 0.5584 - val_acc: 0.4000\n",
            "Epoch 28/100\n",
            "22/22 [==============================] - 9s 399ms/step - loss: 0.0484 - acc: 1.0000 - val_loss: 0.5547 - val_acc: 0.2000\n",
            "Epoch 29/100\n",
            "22/22 [==============================] - 9s 398ms/step - loss: 0.0650 - acc: 0.9767 - val_loss: 0.5526 - val_acc: 0.2000\n",
            "Epoch 30/100\n",
            "22/22 [==============================] - 9s 400ms/step - loss: 0.0388 - acc: 0.9767 - val_loss: 0.5319 - val_acc: 0.2000\n",
            "Epoch 31/100\n",
            "22/22 [==============================] - 9s 399ms/step - loss: 0.0457 - acc: 1.0000 - val_loss: 0.4911 - val_acc: 0.8000\n",
            "Epoch 32/100\n",
            "22/22 [==============================] - 9s 400ms/step - loss: 0.0128 - acc: 1.0000 - val_loss: 0.4616 - val_acc: 0.8000\n",
            "Epoch 33/100\n",
            "22/22 [==============================] - 9s 399ms/step - loss: 0.0385 - acc: 0.9767 - val_loss: 0.4314 - val_acc: 0.8000\n",
            "Epoch 34/100\n",
            "22/22 [==============================] - 9s 399ms/step - loss: 0.0514 - acc: 0.9767 - val_loss: 0.4029 - val_acc: 0.8000\n",
            "Epoch 35/100\n",
            "22/22 [==============================] - 9s 398ms/step - loss: 0.0215 - acc: 1.0000 - val_loss: 0.3957 - val_acc: 0.8000\n",
            "Epoch 36/100\n",
            "22/22 [==============================] - 9s 399ms/step - loss: 0.0973 - acc: 0.9070 - val_loss: 0.3880 - val_acc: 0.6000\n",
            "Epoch 37/100\n",
            "22/22 [==============================] - 9s 398ms/step - loss: 0.0598 - acc: 0.9535 - val_loss: 0.3856 - val_acc: 0.6000\n",
            "Epoch 38/100\n",
            "22/22 [==============================] - 9s 399ms/step - loss: 0.0331 - acc: 0.9767 - val_loss: 0.3853 - val_acc: 0.6000\n",
            "Epoch 39/100\n",
            "22/22 [==============================] - 9s 398ms/step - loss: 0.0471 - acc: 1.0000 - val_loss: 0.3813 - val_acc: 0.6000\n",
            "Epoch 40/100\n",
            "22/22 [==============================] - 9s 399ms/step - loss: 0.0076 - acc: 1.0000 - val_loss: 0.3695 - val_acc: 0.6000\n",
            "Epoch 41/100\n",
            "22/22 [==============================] - 9s 398ms/step - loss: 0.0309 - acc: 0.9767 - val_loss: 0.3621 - val_acc: 0.8000\n",
            "Epoch 42/100\n",
            "22/22 [==============================] - 9s 398ms/step - loss: 0.0176 - acc: 1.0000 - val_loss: 0.3674 - val_acc: 0.6000\n",
            "Epoch 43/100\n",
            "22/22 [==============================] - 9s 398ms/step - loss: 0.0241 - acc: 0.9767 - val_loss: 0.3685 - val_acc: 0.6000\n",
            "Epoch 44/100\n",
            "22/22 [==============================] - 9s 399ms/step - loss: 0.0131 - acc: 1.0000 - val_loss: 0.3656 - val_acc: 0.6000\n",
            "Epoch 45/100\n",
            "22/22 [==============================] - 9s 399ms/step - loss: 0.0219 - acc: 0.9767 - val_loss: 0.3589 - val_acc: 0.6000\n",
            "Epoch 46/100\n",
            "22/22 [==============================] - 9s 400ms/step - loss: 0.0381 - acc: 0.9767 - val_loss: 0.3599 - val_acc: 0.6000\n",
            "Epoch 47/100\n",
            "22/22 [==============================] - 9s 398ms/step - loss: 0.0173 - acc: 1.0000 - val_loss: 0.3567 - val_acc: 0.6000\n",
            "Epoch 48/100\n",
            "22/22 [==============================] - 9s 399ms/step - loss: 0.0213 - acc: 1.0000 - val_loss: 0.3574 - val_acc: 0.6000\n",
            "Epoch 49/100\n",
            "22/22 [==============================] - 9s 398ms/step - loss: 0.0149 - acc: 1.0000 - val_loss: 0.3543 - val_acc: 0.6000\n",
            "Epoch 50/100\n",
            "22/22 [==============================] - 9s 399ms/step - loss: 0.0075 - acc: 1.0000 - val_loss: 0.3518 - val_acc: 0.6000\n",
            "Epoch 51/100\n",
            "22/22 [==============================] - 9s 399ms/step - loss: 0.0264 - acc: 0.9767 - val_loss: 0.3484 - val_acc: 0.6000\n",
            "Epoch 52/100\n",
            "22/22 [==============================] - 9s 400ms/step - loss: 0.0075 - acc: 1.0000 - val_loss: 0.3509 - val_acc: 0.6000\n",
            "Epoch 53/100\n",
            "22/22 [==============================] - 9s 398ms/step - loss: 0.0091 - acc: 1.0000 - val_loss: 0.3545 - val_acc: 0.6000\n",
            "Epoch 54/100\n",
            "22/22 [==============================] - 9s 413ms/step - loss: 0.0392 - acc: 0.9535 - val_loss: 0.3620 - val_acc: 0.6000\n",
            "Epoch 55/100\n",
            "22/22 [==============================] - 9s 397ms/step - loss: 0.0119 - acc: 1.0000 - val_loss: 0.3617 - val_acc: 0.6000\n",
            "Epoch 56/100\n",
            "22/22 [==============================] - 9s 399ms/step - loss: 0.0046 - acc: 1.0000 - val_loss: 0.3652 - val_acc: 0.6000\n",
            "Epoch 57/100\n",
            "22/22 [==============================] - 9s 397ms/step - loss: 0.0210 - acc: 1.0000 - val_loss: 0.3680 - val_acc: 0.6000\n",
            "Epoch 58/100\n",
            "22/22 [==============================] - 9s 400ms/step - loss: 0.0037 - acc: 1.0000 - val_loss: 0.3696 - val_acc: 0.6000\n",
            "Epoch 59/100\n",
            "22/22 [==============================] - 9s 398ms/step - loss: 0.0104 - acc: 1.0000 - val_loss: 0.3732 - val_acc: 0.6000\n",
            "Epoch 60/100\n",
            "22/22 [==============================] - 9s 399ms/step - loss: 0.0081 - acc: 1.0000 - val_loss: 0.3759 - val_acc: 0.6000\n",
            "Epoch 61/100\n",
            "22/22 [==============================] - 9s 397ms/step - loss: 0.0314 - acc: 1.0000 - val_loss: 0.3804 - val_acc: 0.6000\n",
            "Epoch 62/100\n",
            "22/22 [==============================] - 9s 399ms/step - loss: 0.0067 - acc: 1.0000 - val_loss: 0.3832 - val_acc: 0.6000\n",
            "Epoch 63/100\n",
            "22/22 [==============================] - 9s 399ms/step - loss: 0.0237 - acc: 1.0000 - val_loss: 0.3830 - val_acc: 0.6000\n",
            "Epoch 64/100\n",
            "22/22 [==============================] - 9s 398ms/step - loss: 0.0115 - acc: 1.0000 - val_loss: 0.3800 - val_acc: 0.6000\n",
            "Epoch 65/100\n",
            "22/22 [==============================] - 9s 397ms/step - loss: 0.0227 - acc: 0.9767 - val_loss: 0.3779 - val_acc: 0.6000\n",
            "Epoch 66/100\n",
            "22/22 [==============================] - 9s 399ms/step - loss: 0.0105 - acc: 1.0000 - val_loss: 0.3737 - val_acc: 0.6000\n",
            "Epoch 67/100\n",
            "22/22 [==============================] - 9s 398ms/step - loss: 0.0067 - acc: 1.0000 - val_loss: 0.3732 - val_acc: 0.6000\n",
            "Epoch 68/100\n",
            "22/22 [==============================] - 9s 400ms/step - loss: 0.0041 - acc: 1.0000 - val_loss: 0.3734 - val_acc: 0.6000\n",
            "Epoch 69/100\n",
            "22/22 [==============================] - 9s 398ms/step - loss: 0.0093 - acc: 1.0000 - val_loss: 0.3750 - val_acc: 0.6000\n",
            "Epoch 70/100\n",
            "22/22 [==============================] - 9s 400ms/step - loss: 0.0091 - acc: 1.0000 - val_loss: 0.3761 - val_acc: 0.6000\n",
            "Epoch 71/100\n",
            "22/22 [==============================] - 9s 398ms/step - loss: 0.0113 - acc: 1.0000 - val_loss: 0.3775 - val_acc: 0.6000\n",
            "Epoch 72/100\n",
            "22/22 [==============================] - 9s 398ms/step - loss: 0.0130 - acc: 1.0000 - val_loss: 0.3766 - val_acc: 0.6000\n",
            "Epoch 73/100\n",
            "22/22 [==============================] - 9s 398ms/step - loss: 0.0159 - acc: 1.0000 - val_loss: 0.3730 - val_acc: 0.6000\n",
            "Epoch 74/100\n",
            "22/22 [==============================] - 9s 399ms/step - loss: 0.0069 - acc: 1.0000 - val_loss: 0.3715 - val_acc: 0.6000\n",
            "Epoch 75/100\n",
            "22/22 [==============================] - 9s 399ms/step - loss: 0.0112 - acc: 1.0000 - val_loss: 0.3750 - val_acc: 0.6000\n",
            "Epoch 76/100\n",
            "22/22 [==============================] - 9s 399ms/step - loss: 0.0043 - acc: 1.0000 - val_loss: 0.3788 - val_acc: 0.6000\n",
            "Epoch 77/100\n",
            "22/22 [==============================] - 9s 398ms/step - loss: 0.0129 - acc: 1.0000 - val_loss: 0.3820 - val_acc: 0.6000\n",
            "Epoch 78/100\n",
            "22/22 [==============================] - 9s 400ms/step - loss: 0.0033 - acc: 1.0000 - val_loss: 0.3798 - val_acc: 0.6000\n",
            "Epoch 79/100\n",
            "22/22 [==============================] - 9s 398ms/step - loss: 0.0026 - acc: 1.0000 - val_loss: 0.3808 - val_acc: 0.6000\n",
            "Epoch 80/100\n",
            "22/22 [==============================] - 9s 400ms/step - loss: 0.0034 - acc: 1.0000 - val_loss: 0.3820 - val_acc: 0.6000\n",
            "Epoch 81/100\n",
            "22/22 [==============================] - 9s 398ms/step - loss: 0.0024 - acc: 1.0000 - val_loss: 0.3826 - val_acc: 0.6000\n",
            "Epoch 82/100\n",
            "22/22 [==============================] - 9s 399ms/step - loss: 0.0065 - acc: 1.0000 - val_loss: 0.3844 - val_acc: 0.6000\n",
            "Epoch 83/100\n",
            "22/22 [==============================] - 9s 398ms/step - loss: 0.0039 - acc: 1.0000 - val_loss: 0.3852 - val_acc: 0.6000\n",
            "Epoch 84/100\n",
            "22/22 [==============================] - 9s 401ms/step - loss: 0.0101 - acc: 1.0000 - val_loss: 0.3878 - val_acc: 0.6000\n",
            "Epoch 85/100\n",
            "22/22 [==============================] - 9s 399ms/step - loss: 0.0066 - acc: 1.0000 - val_loss: 0.3900 - val_acc: 0.6000\n",
            "Epoch 86/100\n",
            "22/22 [==============================] - 9s 400ms/step - loss: 0.0131 - acc: 1.0000 - val_loss: 0.3915 - val_acc: 0.6000\n",
            "Epoch 87/100\n",
            "22/22 [==============================] - 9s 399ms/step - loss: 0.0064 - acc: 1.0000 - val_loss: 0.3913 - val_acc: 0.6000\n",
            "Epoch 88/100\n",
            "22/22 [==============================] - 9s 400ms/step - loss: 0.0142 - acc: 1.0000 - val_loss: 0.3898 - val_acc: 0.6000\n",
            "Epoch 89/100\n",
            "22/22 [==============================] - 9s 398ms/step - loss: 0.0122 - acc: 1.0000 - val_loss: 0.3877 - val_acc: 0.6000\n",
            "Epoch 90/100\n",
            "22/22 [==============================] - 9s 399ms/step - loss: 0.0093 - acc: 1.0000 - val_loss: 0.3874 - val_acc: 0.6000\n",
            "Epoch 91/100\n",
            "22/22 [==============================] - 9s 398ms/step - loss: 0.0109 - acc: 1.0000 - val_loss: 0.3886 - val_acc: 0.6000\n",
            "Epoch 92/100\n",
            "22/22 [==============================] - 9s 401ms/step - loss: 0.0078 - acc: 1.0000 - val_loss: 0.3901 - val_acc: 0.6000\n",
            "Epoch 93/100\n",
            "22/22 [==============================] - 9s 399ms/step - loss: 0.0209 - acc: 0.9767 - val_loss: 0.3899 - val_acc: 0.6000\n",
            "Epoch 94/100\n",
            "22/22 [==============================] - 9s 400ms/step - loss: 0.0102 - acc: 1.0000 - val_loss: 0.3903 - val_acc: 0.6000\n",
            "Epoch 95/100\n",
            "22/22 [==============================] - 9s 398ms/step - loss: 0.0190 - acc: 0.9767 - val_loss: 0.3915 - val_acc: 0.6000\n",
            "Epoch 96/100\n",
            "22/22 [==============================] - 9s 399ms/step - loss: 0.0092 - acc: 1.0000 - val_loss: 0.3926 - val_acc: 0.6000\n",
            "Epoch 97/100\n",
            "22/22 [==============================] - 9s 399ms/step - loss: 0.0043 - acc: 1.0000 - val_loss: 0.3930 - val_acc: 0.6000\n",
            "Epoch 98/100\n",
            "22/22 [==============================] - 9s 400ms/step - loss: 0.0045 - acc: 1.0000 - val_loss: 0.3930 - val_acc: 0.6000\n",
            "Epoch 99/100\n",
            "22/22 [==============================] - 9s 398ms/step - loss: 0.0174 - acc: 0.9767 - val_loss: 0.3925 - val_acc: 0.6000\n",
            "Epoch 100/100\n",
            "22/22 [==============================] - 9s 399ms/step - loss: 0.0070 - acc: 1.0000 - val_loss: 0.3908 - val_acc: 0.6000\n",
            "Fold 6 accuracy : 60.0\n",
            "Fold - 7 (43, 128, 128, 64, 1) (43,) (5, 128, 128, 64, 1) (5,)\n"
          ]
        },
        {
          "name": "stderr",
          "output_type": "stream",
          "text": [
            "/usr/local/lib/python3.7/dist-packages/keras/optimizer_v2/gradient_descent.py:102: UserWarning: The `lr` argument is deprecated, use `learning_rate` instead.\n",
            "  super(SGD, self).__init__(name, **kwargs)\n"
          ]
        },
        {
          "name": "stdout",
          "output_type": "stream",
          "text": [
            "Epoch 1/100\n",
            "22/22 [==============================] - 10s 409ms/step - loss: 0.4649 - acc: 0.5349 - val_loss: 0.4868 - val_acc: 0.6000\n",
            "Epoch 2/100\n",
            "22/22 [==============================] - 9s 400ms/step - loss: 0.4463 - acc: 0.6047 - val_loss: 0.4759 - val_acc: 0.6000\n",
            "Epoch 3/100\n",
            "22/22 [==============================] - 9s 400ms/step - loss: 0.4575 - acc: 0.5581 - val_loss: 0.4673 - val_acc: 0.6000\n",
            "Epoch 4/100\n",
            "22/22 [==============================] - 9s 401ms/step - loss: 0.4426 - acc: 0.5814 - val_loss: 0.4609 - val_acc: 0.6000\n",
            "Epoch 5/100\n",
            "22/22 [==============================] - 9s 399ms/step - loss: 0.4681 - acc: 0.5349 - val_loss: 0.4560 - val_acc: 0.6000\n",
            "Epoch 6/100\n",
            "22/22 [==============================] - 9s 401ms/step - loss: 0.4105 - acc: 0.6047 - val_loss: 0.4526 - val_acc: 0.6000\n",
            "Epoch 7/100\n",
            "22/22 [==============================] - 9s 413ms/step - loss: 0.3204 - acc: 0.6977 - val_loss: 0.4514 - val_acc: 0.6000\n",
            "Epoch 8/100\n",
            "22/22 [==============================] - 9s 401ms/step - loss: 0.3622 - acc: 0.6977 - val_loss: 0.4519 - val_acc: 0.6000\n",
            "Epoch 9/100\n",
            "22/22 [==============================] - 9s 398ms/step - loss: 0.2448 - acc: 0.7674 - val_loss: 0.4530 - val_acc: 0.6000\n",
            "Epoch 10/100\n",
            "22/22 [==============================] - 9s 401ms/step - loss: 0.2216 - acc: 0.7907 - val_loss: 0.4540 - val_acc: 0.6000\n",
            "Epoch 11/100\n",
            "22/22 [==============================] - 9s 399ms/step - loss: 0.3263 - acc: 0.6977 - val_loss: 0.4548 - val_acc: 0.6000\n",
            "Epoch 12/100\n",
            "22/22 [==============================] - 9s 401ms/step - loss: 0.1947 - acc: 0.8372 - val_loss: 0.4562 - val_acc: 0.6000\n",
            "Epoch 13/100\n",
            "22/22 [==============================] - 9s 399ms/step - loss: 0.1544 - acc: 0.8837 - val_loss: 0.4593 - val_acc: 0.6000\n",
            "Epoch 14/100\n",
            "22/22 [==============================] - 9s 399ms/step - loss: 0.2106 - acc: 0.8372 - val_loss: 0.4626 - val_acc: 0.6000\n",
            "Epoch 15/100\n",
            "22/22 [==============================] - 9s 400ms/step - loss: 0.1640 - acc: 0.8605 - val_loss: 0.4677 - val_acc: 0.6000\n",
            "Epoch 16/100\n",
            "22/22 [==============================] - 9s 400ms/step - loss: 0.0832 - acc: 0.9302 - val_loss: 0.4736 - val_acc: 0.6000\n",
            "Epoch 17/100\n",
            "22/22 [==============================] - 9s 398ms/step - loss: 0.2207 - acc: 0.7907 - val_loss: 0.4738 - val_acc: 0.6000\n",
            "Epoch 18/100\n",
            "22/22 [==============================] - 9s 400ms/step - loss: 0.1173 - acc: 0.9070 - val_loss: 0.4734 - val_acc: 0.6000\n",
            "Epoch 19/100\n",
            "22/22 [==============================] - 9s 399ms/step - loss: 0.1158 - acc: 0.9070 - val_loss: 0.4700 - val_acc: 0.6000\n",
            "Epoch 20/100\n",
            "22/22 [==============================] - 9s 400ms/step - loss: 0.0939 - acc: 0.9302 - val_loss: 0.4642 - val_acc: 0.6000\n",
            "Epoch 21/100\n",
            "22/22 [==============================] - 9s 398ms/step - loss: 0.0962 - acc: 0.9070 - val_loss: 0.4606 - val_acc: 0.6000\n",
            "Epoch 22/100\n",
            "22/22 [==============================] - 9s 399ms/step - loss: 0.0967 - acc: 0.9070 - val_loss: 0.4569 - val_acc: 0.6000\n",
            "Epoch 23/100\n",
            "22/22 [==============================] - 9s 399ms/step - loss: 0.1210 - acc: 0.8837 - val_loss: 0.4535 - val_acc: 0.4000\n",
            "Epoch 24/100\n",
            "22/22 [==============================] - 9s 400ms/step - loss: 0.0869 - acc: 0.9767 - val_loss: 0.4581 - val_acc: 0.4000\n",
            "Epoch 25/100\n",
            "22/22 [==============================] - 9s 399ms/step - loss: 0.0960 - acc: 0.9302 - val_loss: 0.4612 - val_acc: 0.4000\n",
            "Epoch 26/100\n",
            "22/22 [==============================] - 9s 400ms/step - loss: 0.0643 - acc: 0.9302 - val_loss: 0.4315 - val_acc: 0.4000\n",
            "Epoch 27/100\n",
            "22/22 [==============================] - 9s 398ms/step - loss: 0.0999 - acc: 0.9070 - val_loss: 0.4071 - val_acc: 0.8000\n",
            "Epoch 28/100\n",
            "22/22 [==============================] - 9s 400ms/step - loss: 0.0599 - acc: 0.9767 - val_loss: 0.4003 - val_acc: 0.6000\n",
            "Epoch 29/100\n",
            "22/22 [==============================] - 9s 413ms/step - loss: 0.0502 - acc: 0.9535 - val_loss: 0.4012 - val_acc: 0.8000\n",
            "Epoch 30/100\n",
            "22/22 [==============================] - 9s 399ms/step - loss: 0.0476 - acc: 0.9767 - val_loss: 0.3942 - val_acc: 0.8000\n",
            "Epoch 31/100\n",
            "22/22 [==============================] - 9s 413ms/step - loss: 0.0456 - acc: 0.9767 - val_loss: 0.3808 - val_acc: 0.8000\n",
            "Epoch 32/100\n",
            "22/22 [==============================] - 9s 399ms/step - loss: 0.0461 - acc: 0.9767 - val_loss: 0.3827 - val_acc: 0.8000\n",
            "Epoch 33/100\n",
            "22/22 [==============================] - 9s 399ms/step - loss: 0.0435 - acc: 0.9767 - val_loss: 0.3728 - val_acc: 0.6000\n",
            "Epoch 34/100\n",
            "22/22 [==============================] - 9s 399ms/step - loss: 0.0216 - acc: 1.0000 - val_loss: 0.3493 - val_acc: 0.6000\n",
            "Epoch 35/100\n",
            "22/22 [==============================] - 9s 398ms/step - loss: 0.0510 - acc: 0.9535 - val_loss: 0.3318 - val_acc: 0.8000\n",
            "Epoch 36/100\n",
            "22/22 [==============================] - 9s 399ms/step - loss: 0.0251 - acc: 1.0000 - val_loss: 0.3168 - val_acc: 1.0000\n",
            "Epoch 37/100\n",
            "22/22 [==============================] - 9s 398ms/step - loss: 0.0287 - acc: 1.0000 - val_loss: 0.3145 - val_acc: 1.0000\n",
            "Epoch 38/100\n",
            "22/22 [==============================] - 9s 399ms/step - loss: 0.0181 - acc: 1.0000 - val_loss: 0.3381 - val_acc: 0.8000\n",
            "Epoch 39/100\n",
            "22/22 [==============================] - 9s 400ms/step - loss: 0.0235 - acc: 0.9767 - val_loss: 0.3735 - val_acc: 0.6000\n",
            "Epoch 40/100\n",
            "22/22 [==============================] - 9s 399ms/step - loss: 0.0261 - acc: 1.0000 - val_loss: 0.3955 - val_acc: 0.6000\n",
            "Epoch 41/100\n",
            "22/22 [==============================] - 9s 399ms/step - loss: 0.0374 - acc: 0.9767 - val_loss: 0.3950 - val_acc: 0.6000\n",
            "Epoch 42/100\n",
            "22/22 [==============================] - 9s 400ms/step - loss: 0.0168 - acc: 1.0000 - val_loss: 0.4124 - val_acc: 0.6000\n",
            "Epoch 43/100\n",
            "22/22 [==============================] - 9s 399ms/step - loss: 0.0240 - acc: 0.9767 - val_loss: 0.4176 - val_acc: 0.8000\n",
            "Epoch 44/100\n",
            "22/22 [==============================] - 9s 401ms/step - loss: 0.0223 - acc: 1.0000 - val_loss: 0.4179 - val_acc: 0.6000\n",
            "Epoch 45/100\n",
            "22/22 [==============================] - 9s 399ms/step - loss: 0.0238 - acc: 0.9767 - val_loss: 0.4100 - val_acc: 0.6000\n",
            "Epoch 46/100\n",
            "22/22 [==============================] - 9s 401ms/step - loss: 0.0285 - acc: 1.0000 - val_loss: 0.4254 - val_acc: 0.6000\n",
            "Epoch 47/100\n",
            "22/22 [==============================] - 9s 399ms/step - loss: 0.0120 - acc: 1.0000 - val_loss: 0.4339 - val_acc: 0.6000\n",
            "Epoch 48/100\n",
            "22/22 [==============================] - 9s 399ms/step - loss: 0.0139 - acc: 1.0000 - val_loss: 0.4284 - val_acc: 0.6000\n",
            "Epoch 49/100\n",
            "22/22 [==============================] - 9s 400ms/step - loss: 0.0117 - acc: 1.0000 - val_loss: 0.4197 - val_acc: 0.6000\n",
            "Epoch 50/100\n",
            "22/22 [==============================] - 9s 400ms/step - loss: 0.0278 - acc: 0.9767 - val_loss: 0.4189 - val_acc: 0.6000\n",
            "Epoch 51/100\n",
            "22/22 [==============================] - 9s 397ms/step - loss: 0.0044 - acc: 1.0000 - val_loss: 0.4278 - val_acc: 0.6000\n",
            "Epoch 52/100\n",
            "22/22 [==============================] - 9s 399ms/step - loss: 0.0230 - acc: 1.0000 - val_loss: 0.4321 - val_acc: 0.6000\n",
            "Epoch 53/100\n",
            "22/22 [==============================] - 9s 399ms/step - loss: 0.0150 - acc: 1.0000 - val_loss: 0.4278 - val_acc: 0.6000\n",
            "Epoch 54/100\n",
            "22/22 [==============================] - 9s 399ms/step - loss: 0.0095 - acc: 1.0000 - val_loss: 0.4301 - val_acc: 0.6000\n",
            "Epoch 55/100\n",
            "22/22 [==============================] - 9s 399ms/step - loss: 0.0047 - acc: 1.0000 - val_loss: 0.4195 - val_acc: 0.6000\n",
            "Epoch 56/100\n",
            "22/22 [==============================] - 9s 400ms/step - loss: 0.0074 - acc: 1.0000 - val_loss: 0.4083 - val_acc: 0.6000\n",
            "Epoch 57/100\n",
            "22/22 [==============================] - 9s 399ms/step - loss: 0.0136 - acc: 1.0000 - val_loss: 0.3991 - val_acc: 0.6000\n",
            "Epoch 58/100\n",
            "22/22 [==============================] - 9s 399ms/step - loss: 0.0124 - acc: 1.0000 - val_loss: 0.3877 - val_acc: 0.6000\n",
            "Epoch 59/100\n",
            "22/22 [==============================] - 9s 400ms/step - loss: 0.0145 - acc: 1.0000 - val_loss: 0.3869 - val_acc: 0.6000\n",
            "Epoch 60/100\n",
            "22/22 [==============================] - 9s 400ms/step - loss: 0.0060 - acc: 1.0000 - val_loss: 0.3907 - val_acc: 0.6000\n",
            "Epoch 61/100\n",
            "22/22 [==============================] - 9s 399ms/step - loss: 0.0084 - acc: 1.0000 - val_loss: 0.3909 - val_acc: 0.6000\n",
            "Epoch 62/100\n",
            "22/22 [==============================] - 9s 399ms/step - loss: 0.0149 - acc: 1.0000 - val_loss: 0.3909 - val_acc: 0.6000\n",
            "Epoch 63/100\n",
            "22/22 [==============================] - 9s 399ms/step - loss: 0.0118 - acc: 1.0000 - val_loss: 0.3915 - val_acc: 0.6000\n",
            "Epoch 64/100\n",
            "22/22 [==============================] - 9s 400ms/step - loss: 0.0160 - acc: 1.0000 - val_loss: 0.3902 - val_acc: 0.6000\n",
            "Epoch 65/100\n",
            "22/22 [==============================] - 9s 399ms/step - loss: 0.0167 - acc: 1.0000 - val_loss: 0.3994 - val_acc: 0.6000\n",
            "Epoch 66/100\n",
            "22/22 [==============================] - 9s 400ms/step - loss: 0.0076 - acc: 1.0000 - val_loss: 0.4055 - val_acc: 0.6000\n",
            "Epoch 67/100\n",
            "22/22 [==============================] - 9s 399ms/step - loss: 0.0059 - acc: 1.0000 - val_loss: 0.4098 - val_acc: 0.6000\n",
            "Epoch 68/100\n",
            "22/22 [==============================] - 9s 400ms/step - loss: 0.0105 - acc: 1.0000 - val_loss: 0.4110 - val_acc: 0.6000\n",
            "Epoch 69/100\n",
            "22/22 [==============================] - 9s 399ms/step - loss: 0.0059 - acc: 1.0000 - val_loss: 0.4099 - val_acc: 0.6000\n",
            "Epoch 70/100\n",
            "22/22 [==============================] - 9s 398ms/step - loss: 0.0065 - acc: 1.0000 - val_loss: 0.4045 - val_acc: 0.6000\n",
            "Epoch 71/100\n",
            "22/22 [==============================] - 9s 397ms/step - loss: 0.0256 - acc: 1.0000 - val_loss: 0.3975 - val_acc: 0.6000\n",
            "Epoch 72/100\n",
            "22/22 [==============================] - 9s 399ms/step - loss: 0.0142 - acc: 1.0000 - val_loss: 0.3973 - val_acc: 0.6000\n",
            "Epoch 73/100\n",
            "22/22 [==============================] - 9s 398ms/step - loss: 0.0081 - acc: 1.0000 - val_loss: 0.3848 - val_acc: 0.8000\n",
            "Epoch 74/100\n",
            "22/22 [==============================] - 9s 399ms/step - loss: 0.0056 - acc: 1.0000 - val_loss: 0.3699 - val_acc: 0.8000\n",
            "Epoch 75/100\n",
            "22/22 [==============================] - 9s 399ms/step - loss: 0.0089 - acc: 1.0000 - val_loss: 0.3675 - val_acc: 0.8000\n",
            "Epoch 76/100\n",
            "22/22 [==============================] - 9s 399ms/step - loss: 0.0058 - acc: 1.0000 - val_loss: 0.3673 - val_acc: 0.8000\n",
            "Epoch 77/100\n",
            "22/22 [==============================] - 9s 399ms/step - loss: 0.0105 - acc: 1.0000 - val_loss: 0.3634 - val_acc: 0.8000\n",
            "Epoch 78/100\n",
            "22/22 [==============================] - 9s 400ms/step - loss: 0.0088 - acc: 1.0000 - val_loss: 0.3666 - val_acc: 0.8000\n",
            "Epoch 79/100\n",
            "22/22 [==============================] - 9s 398ms/step - loss: 0.0102 - acc: 1.0000 - val_loss: 0.3804 - val_acc: 0.8000\n",
            "Epoch 80/100\n",
            "22/22 [==============================] - 9s 400ms/step - loss: 0.0025 - acc: 1.0000 - val_loss: 0.3965 - val_acc: 0.8000\n",
            "Epoch 81/100\n",
            "22/22 [==============================] - 9s 399ms/step - loss: 0.0302 - acc: 0.9767 - val_loss: 0.4012 - val_acc: 0.8000\n",
            "Epoch 82/100\n",
            "22/22 [==============================] - 9s 399ms/step - loss: 0.0023 - acc: 1.0000 - val_loss: 0.4001 - val_acc: 0.8000\n",
            "Epoch 83/100\n",
            "22/22 [==============================] - 9s 398ms/step - loss: 0.0102 - acc: 1.0000 - val_loss: 0.4001 - val_acc: 0.8000\n",
            "Epoch 84/100\n",
            "22/22 [==============================] - 9s 399ms/step - loss: 0.0101 - acc: 1.0000 - val_loss: 0.4041 - val_acc: 0.6000\n",
            "Epoch 85/100\n",
            "22/22 [==============================] - 9s 399ms/step - loss: 0.0192 - acc: 0.9767 - val_loss: 0.4040 - val_acc: 0.6000\n",
            "Epoch 86/100\n",
            "22/22 [==============================] - 9s 400ms/step - loss: 0.0024 - acc: 1.0000 - val_loss: 0.4082 - val_acc: 0.6000\n",
            "Epoch 87/100\n",
            "22/22 [==============================] - 9s 399ms/step - loss: 0.0053 - acc: 1.0000 - val_loss: 0.4084 - val_acc: 0.6000\n",
            "Epoch 88/100\n",
            "22/22 [==============================] - 9s 400ms/step - loss: 0.0087 - acc: 1.0000 - val_loss: 0.4022 - val_acc: 0.6000\n",
            "Epoch 89/100\n",
            "22/22 [==============================] - 9s 398ms/step - loss: 0.0130 - acc: 1.0000 - val_loss: 0.3964 - val_acc: 0.6000\n",
            "Epoch 90/100\n",
            "22/22 [==============================] - 9s 400ms/step - loss: 0.0118 - acc: 1.0000 - val_loss: 0.3973 - val_acc: 0.6000\n",
            "Epoch 91/100\n",
            "22/22 [==============================] - 9s 398ms/step - loss: 0.0029 - acc: 1.0000 - val_loss: 0.4072 - val_acc: 0.6000\n",
            "Epoch 92/100\n",
            "22/22 [==============================] - 9s 414ms/step - loss: 0.0042 - acc: 1.0000 - val_loss: 0.4169 - val_acc: 0.6000\n",
            "Epoch 93/100\n",
            "22/22 [==============================] - 9s 398ms/step - loss: 0.0208 - acc: 0.9767 - val_loss: 0.4167 - val_acc: 0.6000\n",
            "Epoch 94/100\n",
            "22/22 [==============================] - 9s 400ms/step - loss: 0.0022 - acc: 1.0000 - val_loss: 0.4060 - val_acc: 0.8000\n",
            "Epoch 95/100\n",
            "22/22 [==============================] - 9s 411ms/step - loss: 0.0057 - acc: 1.0000 - val_loss: 0.3895 - val_acc: 0.8000\n",
            "Epoch 96/100\n",
            "22/22 [==============================] - 9s 398ms/step - loss: 0.0027 - acc: 1.0000 - val_loss: 0.3800 - val_acc: 0.8000\n",
            "Epoch 97/100\n",
            "22/22 [==============================] - 9s 398ms/step - loss: 0.0040 - acc: 1.0000 - val_loss: 0.3722 - val_acc: 0.8000\n",
            "Epoch 98/100\n",
            "22/22 [==============================] - 9s 401ms/step - loss: 0.0040 - acc: 1.0000 - val_loss: 0.3662 - val_acc: 0.8000\n",
            "Epoch 99/100\n",
            "22/22 [==============================] - 9s 399ms/step - loss: 0.0025 - acc: 1.0000 - val_loss: 0.3634 - val_acc: 0.8000\n",
            "Epoch 100/100\n",
            "22/22 [==============================] - 9s 400ms/step - loss: 0.0075 - acc: 1.0000 - val_loss: 0.3631 - val_acc: 0.8000\n",
            "Fold 7 accuracy : 80.0\n",
            "Fold - 8 (44, 128, 128, 64, 1) (44,) (4, 128, 128, 64, 1) (4,)\n"
          ]
        },
        {
          "name": "stderr",
          "output_type": "stream",
          "text": [
            "/usr/local/lib/python3.7/dist-packages/keras/optimizer_v2/gradient_descent.py:102: UserWarning: The `lr` argument is deprecated, use `learning_rate` instead.\n",
            "  super(SGD, self).__init__(name, **kwargs)\n"
          ]
        },
        {
          "name": "stdout",
          "output_type": "stream",
          "text": [
            "Epoch 1/100\n",
            "22/22 [==============================] - 10s 414ms/step - loss: 0.4795 - acc: 0.5455 - val_loss: 0.5003 - val_acc: 0.5000\n",
            "Epoch 2/100\n",
            "22/22 [==============================] - 9s 406ms/step - loss: 0.4943 - acc: 0.4773 - val_loss: 0.5003 - val_acc: 0.5000\n",
            "Epoch 3/100\n",
            "22/22 [==============================] - 9s 404ms/step - loss: 0.4682 - acc: 0.5455 - val_loss: 0.5004 - val_acc: 0.5000\n",
            "Epoch 4/100\n",
            "22/22 [==============================] - 9s 406ms/step - loss: 0.4366 - acc: 0.5909 - val_loss: 0.5005 - val_acc: 0.5000\n",
            "Epoch 5/100\n",
            "22/22 [==============================] - 9s 405ms/step - loss: 0.3373 - acc: 0.7045 - val_loss: 0.5008 - val_acc: 0.5000\n",
            "Epoch 6/100\n",
            "22/22 [==============================] - 9s 403ms/step - loss: 0.2994 - acc: 0.7500 - val_loss: 0.5011 - val_acc: 0.5000\n",
            "Epoch 7/100\n",
            "22/22 [==============================] - 9s 404ms/step - loss: 0.3355 - acc: 0.6818 - val_loss: 0.5016 - val_acc: 0.5000\n",
            "Epoch 8/100\n",
            "22/22 [==============================] - 9s 405ms/step - loss: 0.3690 - acc: 0.6364 - val_loss: 0.5021 - val_acc: 0.5000\n",
            "Epoch 9/100\n",
            "22/22 [==============================] - 9s 404ms/step - loss: 0.2694 - acc: 0.7727 - val_loss: 0.5028 - val_acc: 0.5000\n",
            "Epoch 10/100\n",
            "22/22 [==============================] - 9s 406ms/step - loss: 0.2674 - acc: 0.7500 - val_loss: 0.5035 - val_acc: 0.5000\n",
            "Epoch 11/100\n",
            "22/22 [==============================] - 9s 404ms/step - loss: 0.2151 - acc: 0.7955 - val_loss: 0.5050 - val_acc: 0.5000\n",
            "Epoch 12/100\n",
            "22/22 [==============================] - 9s 404ms/step - loss: 0.1959 - acc: 0.8409 - val_loss: 0.5071 - val_acc: 0.5000\n",
            "Epoch 13/100\n",
            "22/22 [==============================] - 9s 406ms/step - loss: 0.2355 - acc: 0.7727 - val_loss: 0.5109 - val_acc: 0.5000\n",
            "Epoch 14/100\n",
            "22/22 [==============================] - 9s 405ms/step - loss: 0.1699 - acc: 0.8636 - val_loss: 0.5152 - val_acc: 0.5000\n",
            "Epoch 15/100\n",
            "22/22 [==============================] - 9s 404ms/step - loss: 0.2369 - acc: 0.7727 - val_loss: 0.5177 - val_acc: 0.5000\n",
            "Epoch 16/100\n",
            "22/22 [==============================] - 9s 405ms/step - loss: 0.1340 - acc: 0.9091 - val_loss: 0.5204 - val_acc: 0.5000\n",
            "Epoch 17/100\n",
            "22/22 [==============================] - 9s 404ms/step - loss: 0.1626 - acc: 0.8409 - val_loss: 0.5252 - val_acc: 0.5000\n",
            "Epoch 18/100\n",
            "22/22 [==============================] - 9s 406ms/step - loss: 0.1457 - acc: 0.9091 - val_loss: 0.5251 - val_acc: 0.5000\n",
            "Epoch 19/100\n",
            "22/22 [==============================] - 9s 403ms/step - loss: 0.0888 - acc: 0.9545 - val_loss: 0.5220 - val_acc: 0.5000\n",
            "Epoch 20/100\n",
            "22/22 [==============================] - 9s 405ms/step - loss: 0.1376 - acc: 0.8636 - val_loss: 0.5225 - val_acc: 0.5000\n",
            "Epoch 21/100\n",
            "22/22 [==============================] - 9s 404ms/step - loss: 0.1185 - acc: 0.8864 - val_loss: 0.5244 - val_acc: 0.5000\n",
            "Epoch 22/100\n",
            "22/22 [==============================] - 9s 405ms/step - loss: 0.0643 - acc: 0.9773 - val_loss: 0.5201 - val_acc: 0.5000\n",
            "Epoch 23/100\n",
            "22/22 [==============================] - 9s 403ms/step - loss: 0.0851 - acc: 0.9545 - val_loss: 0.5119 - val_acc: 0.5000\n",
            "Epoch 24/100\n",
            "22/22 [==============================] - 9s 407ms/step - loss: 0.0308 - acc: 1.0000 - val_loss: 0.5024 - val_acc: 0.5000\n",
            "Epoch 25/100\n",
            "22/22 [==============================] - 9s 404ms/step - loss: 0.0918 - acc: 0.9318 - val_loss: 0.5068 - val_acc: 0.5000\n",
            "Epoch 26/100\n",
            "22/22 [==============================] - 9s 408ms/step - loss: 0.0287 - acc: 1.0000 - val_loss: 0.5198 - val_acc: 0.5000\n",
            "Epoch 27/100\n",
            "22/22 [==============================] - 9s 405ms/step - loss: 0.0814 - acc: 0.9318 - val_loss: 0.5314 - val_acc: 0.5000\n",
            "Epoch 28/100\n",
            "22/22 [==============================] - 9s 406ms/step - loss: 0.0437 - acc: 0.9773 - val_loss: 0.5384 - val_acc: 0.5000\n",
            "Epoch 29/100\n",
            "22/22 [==============================] - 9s 404ms/step - loss: 0.0434 - acc: 0.9773 - val_loss: 0.5564 - val_acc: 0.5000\n",
            "Epoch 30/100\n",
            "22/22 [==============================] - 9s 405ms/step - loss: 0.0704 - acc: 0.9545 - val_loss: 0.5885 - val_acc: 0.5000\n",
            "Epoch 31/100\n",
            "22/22 [==============================] - 9s 405ms/step - loss: 0.0331 - acc: 1.0000 - val_loss: 0.6287 - val_acc: 0.5000\n",
            "Epoch 32/100\n",
            "22/22 [==============================] - 9s 405ms/step - loss: 0.0507 - acc: 0.9773 - val_loss: 0.6717 - val_acc: 0.5000\n",
            "Epoch 33/100\n",
            "22/22 [==============================] - 9s 405ms/step - loss: 0.0120 - acc: 1.0000 - val_loss: 0.7133 - val_acc: 0.2500\n",
            "Epoch 34/100\n",
            "22/22 [==============================] - 9s 405ms/step - loss: 0.0322 - acc: 0.9773 - val_loss: 0.7510 - val_acc: 0.0000e+00\n",
            "Epoch 35/100\n",
            "22/22 [==============================] - 9s 403ms/step - loss: 0.0160 - acc: 1.0000 - val_loss: 0.7890 - val_acc: 0.0000e+00\n",
            "Epoch 36/100\n",
            "22/22 [==============================] - 9s 405ms/step - loss: 0.0342 - acc: 0.9773 - val_loss: 0.8074 - val_acc: 0.0000e+00\n",
            "Epoch 37/100\n",
            "22/22 [==============================] - 9s 404ms/step - loss: 0.0050 - acc: 1.0000 - val_loss: 0.8252 - val_acc: 0.0000e+00\n",
            "Epoch 38/100\n",
            "22/22 [==============================] - 9s 406ms/step - loss: 0.0182 - acc: 1.0000 - val_loss: 0.8444 - val_acc: 0.0000e+00\n",
            "Epoch 39/100\n",
            "22/22 [==============================] - 9s 404ms/step - loss: 0.0226 - acc: 1.0000 - val_loss: 0.8558 - val_acc: 0.0000e+00\n",
            "Epoch 40/100\n",
            "22/22 [==============================] - 9s 405ms/step - loss: 0.0261 - acc: 1.0000 - val_loss: 0.8579 - val_acc: 0.0000e+00\n",
            "Epoch 41/100\n",
            "22/22 [==============================] - 9s 406ms/step - loss: 0.0365 - acc: 0.9773 - val_loss: 0.8591 - val_acc: 0.0000e+00\n",
            "Epoch 42/100\n",
            "22/22 [==============================] - 9s 407ms/step - loss: 0.0752 - acc: 0.9318 - val_loss: 0.8455 - val_acc: 0.0000e+00\n",
            "Epoch 43/100\n",
            "22/22 [==============================] - 9s 405ms/step - loss: 0.0201 - acc: 1.0000 - val_loss: 0.8293 - val_acc: 0.0000e+00\n",
            "Epoch 44/100\n",
            "22/22 [==============================] - 9s 404ms/step - loss: 0.0150 - acc: 1.0000 - val_loss: 0.8193 - val_acc: 0.0000e+00\n",
            "Epoch 45/100\n",
            "22/22 [==============================] - 9s 404ms/step - loss: 0.0072 - acc: 1.0000 - val_loss: 0.8181 - val_acc: 0.0000e+00\n",
            "Epoch 46/100\n",
            "22/22 [==============================] - 9s 404ms/step - loss: 0.0253 - acc: 0.9773 - val_loss: 0.8192 - val_acc: 0.0000e+00\n",
            "Epoch 47/100\n",
            "22/22 [==============================] - 9s 404ms/step - loss: 0.0576 - acc: 0.9545 - val_loss: 0.8193 - val_acc: 0.0000e+00\n",
            "Epoch 48/100\n",
            "22/22 [==============================] - 9s 404ms/step - loss: 0.0181 - acc: 1.0000 - val_loss: 0.8236 - val_acc: 0.0000e+00\n",
            "Epoch 49/100\n",
            "22/22 [==============================] - 9s 406ms/step - loss: 0.0154 - acc: 1.0000 - val_loss: 0.8109 - val_acc: 0.0000e+00\n",
            "Epoch 50/100\n",
            "22/22 [==============================] - 9s 406ms/step - loss: 0.0207 - acc: 1.0000 - val_loss: 0.7828 - val_acc: 0.0000e+00\n",
            "Epoch 51/100\n",
            "22/22 [==============================] - 9s 406ms/step - loss: 0.0202 - acc: 1.0000 - val_loss: 0.7952 - val_acc: 0.0000e+00\n",
            "Epoch 52/100\n",
            "22/22 [==============================] - 9s 405ms/step - loss: 0.0107 - acc: 1.0000 - val_loss: 0.8071 - val_acc: 0.0000e+00\n",
            "Epoch 53/100\n",
            "22/22 [==============================] - 9s 407ms/step - loss: 0.0095 - acc: 1.0000 - val_loss: 0.8110 - val_acc: 0.0000e+00\n",
            "Epoch 54/100\n",
            "22/22 [==============================] - 9s 405ms/step - loss: 0.0143 - acc: 1.0000 - val_loss: 0.8039 - val_acc: 0.0000e+00\n",
            "Epoch 55/100\n",
            "22/22 [==============================] - 9s 405ms/step - loss: 0.0082 - acc: 1.0000 - val_loss: 0.7977 - val_acc: 0.0000e+00\n",
            "Epoch 56/100\n",
            "22/22 [==============================] - 9s 405ms/step - loss: 0.0055 - acc: 1.0000 - val_loss: 0.7913 - val_acc: 0.0000e+00\n",
            "Epoch 57/100\n",
            "22/22 [==============================] - 9s 404ms/step - loss: 0.0262 - acc: 0.9773 - val_loss: 0.7895 - val_acc: 0.0000e+00\n",
            "Epoch 58/100\n",
            "22/22 [==============================] - 9s 406ms/step - loss: 0.0076 - acc: 1.0000 - val_loss: 0.7976 - val_acc: 0.0000e+00\n",
            "Epoch 59/100\n",
            "22/22 [==============================] - 9s 404ms/step - loss: 0.0125 - acc: 1.0000 - val_loss: 0.8045 - val_acc: 0.0000e+00\n",
            "Epoch 60/100\n",
            "22/22 [==============================] - 9s 405ms/step - loss: 0.0035 - acc: 1.0000 - val_loss: 0.8129 - val_acc: 0.0000e+00\n",
            "Epoch 61/100\n",
            "22/22 [==============================] - 9s 406ms/step - loss: 0.0110 - acc: 1.0000 - val_loss: 0.8182 - val_acc: 0.0000e+00\n",
            "Epoch 62/100\n",
            "22/22 [==============================] - 9s 404ms/step - loss: 0.0095 - acc: 1.0000 - val_loss: 0.8207 - val_acc: 0.0000e+00\n",
            "Epoch 63/100\n",
            "22/22 [==============================] - 9s 405ms/step - loss: 0.0066 - acc: 1.0000 - val_loss: 0.8274 - val_acc: 0.0000e+00\n",
            "Epoch 64/100\n",
            "22/22 [==============================] - 9s 404ms/step - loss: 0.0094 - acc: 1.0000 - val_loss: 0.8347 - val_acc: 0.0000e+00\n",
            "Epoch 65/100\n",
            "22/22 [==============================] - 9s 404ms/step - loss: 0.0066 - acc: 1.0000 - val_loss: 0.8413 - val_acc: 0.0000e+00\n",
            "Epoch 66/100\n",
            "22/22 [==============================] - 9s 405ms/step - loss: 0.0024 - acc: 1.0000 - val_loss: 0.8474 - val_acc: 0.0000e+00\n",
            "Epoch 67/100\n",
            "22/22 [==============================] - 9s 404ms/step - loss: 0.0088 - acc: 1.0000 - val_loss: 0.8516 - val_acc: 0.0000e+00\n",
            "Epoch 68/100\n",
            "22/22 [==============================] - 9s 405ms/step - loss: 0.0091 - acc: 1.0000 - val_loss: 0.8570 - val_acc: 0.0000e+00\n",
            "Epoch 69/100\n",
            "22/22 [==============================] - 9s 404ms/step - loss: 0.0115 - acc: 1.0000 - val_loss: 0.8645 - val_acc: 0.0000e+00\n",
            "Epoch 70/100\n",
            "22/22 [==============================] - 9s 404ms/step - loss: 0.0175 - acc: 1.0000 - val_loss: 0.8694 - val_acc: 0.0000e+00\n",
            "Epoch 71/100\n",
            "22/22 [==============================] - 9s 405ms/step - loss: 0.0061 - acc: 1.0000 - val_loss: 0.8719 - val_acc: 0.0000e+00\n",
            "Epoch 72/100\n",
            "22/22 [==============================] - 9s 407ms/step - loss: 0.0025 - acc: 1.0000 - val_loss: 0.8755 - val_acc: 0.0000e+00\n",
            "Epoch 73/100\n",
            "22/22 [==============================] - 9s 405ms/step - loss: 0.0058 - acc: 1.0000 - val_loss: 0.8772 - val_acc: 0.0000e+00\n",
            "Epoch 74/100\n",
            "22/22 [==============================] - 9s 405ms/step - loss: 0.0079 - acc: 1.0000 - val_loss: 0.8768 - val_acc: 0.0000e+00\n",
            "Epoch 75/100\n",
            "22/22 [==============================] - 9s 404ms/step - loss: 0.0094 - acc: 1.0000 - val_loss: 0.8731 - val_acc: 0.0000e+00\n",
            "Epoch 76/100\n",
            "22/22 [==============================] - 9s 405ms/step - loss: 0.0090 - acc: 1.0000 - val_loss: 0.8675 - val_acc: 0.0000e+00\n",
            "Epoch 77/100\n",
            "22/22 [==============================] - 9s 404ms/step - loss: 0.0071 - acc: 1.0000 - val_loss: 0.8652 - val_acc: 0.0000e+00\n",
            "Epoch 78/100\n",
            "22/22 [==============================] - 9s 404ms/step - loss: 0.0027 - acc: 1.0000 - val_loss: 0.8645 - val_acc: 0.0000e+00\n",
            "Epoch 79/100\n",
            "22/22 [==============================] - 9s 403ms/step - loss: 0.0042 - acc: 1.0000 - val_loss: 0.8646 - val_acc: 0.0000e+00\n",
            "Epoch 80/100\n",
            "22/22 [==============================] - 9s 405ms/step - loss: 0.0105 - acc: 1.0000 - val_loss: 0.8626 - val_acc: 0.0000e+00\n",
            "Epoch 81/100\n",
            "22/22 [==============================] - 9s 404ms/step - loss: 0.0022 - acc: 1.0000 - val_loss: 0.8598 - val_acc: 0.0000e+00\n",
            "Epoch 82/100\n",
            "22/22 [==============================] - 9s 405ms/step - loss: 0.0086 - acc: 1.0000 - val_loss: 0.8608 - val_acc: 0.0000e+00\n",
            "Epoch 83/100\n",
            "22/22 [==============================] - 9s 404ms/step - loss: 0.0068 - acc: 1.0000 - val_loss: 0.8645 - val_acc: 0.0000e+00\n",
            "Epoch 84/100\n",
            "22/22 [==============================] - 9s 404ms/step - loss: 0.0110 - acc: 1.0000 - val_loss: 0.8685 - val_acc: 0.0000e+00\n",
            "Epoch 85/100\n",
            "22/22 [==============================] - 9s 404ms/step - loss: 0.0032 - acc: 1.0000 - val_loss: 0.8708 - val_acc: 0.0000e+00\n",
            "Epoch 86/100\n",
            "22/22 [==============================] - 9s 404ms/step - loss: 0.0041 - acc: 1.0000 - val_loss: 0.8727 - val_acc: 0.0000e+00\n",
            "Epoch 87/100\n",
            "22/22 [==============================] - 9s 403ms/step - loss: 0.0036 - acc: 1.0000 - val_loss: 0.8749 - val_acc: 0.0000e+00\n",
            "Epoch 88/100\n",
            "22/22 [==============================] - 9s 406ms/step - loss: 0.0215 - acc: 1.0000 - val_loss: 0.8802 - val_acc: 0.0000e+00\n",
            "Epoch 89/100\n",
            "22/22 [==============================] - 9s 404ms/step - loss: 0.0035 - acc: 1.0000 - val_loss: 0.8853 - val_acc: 0.0000e+00\n",
            "Epoch 90/100\n",
            "22/22 [==============================] - 9s 405ms/step - loss: 0.0010 - acc: 1.0000 - val_loss: 0.8888 - val_acc: 0.0000e+00\n",
            "Epoch 91/100\n",
            "22/22 [==============================] - 9s 404ms/step - loss: 0.0038 - acc: 1.0000 - val_loss: 0.8897 - val_acc: 0.0000e+00\n",
            "Epoch 92/100\n",
            "22/22 [==============================] - 9s 406ms/step - loss: 0.0184 - acc: 0.9773 - val_loss: 0.8899 - val_acc: 0.0000e+00\n",
            "Epoch 93/100\n",
            "22/22 [==============================] - 9s 406ms/step - loss: 0.0096 - acc: 1.0000 - val_loss: 0.8893 - val_acc: 0.0000e+00\n",
            "Epoch 94/100\n",
            "22/22 [==============================] - 9s 406ms/step - loss: 0.0071 - acc: 1.0000 - val_loss: 0.8835 - val_acc: 0.0000e+00\n",
            "Epoch 95/100\n",
            "22/22 [==============================] - 9s 405ms/step - loss: 0.0077 - acc: 1.0000 - val_loss: 0.8789 - val_acc: 0.0000e+00\n",
            "Epoch 96/100\n",
            "22/22 [==============================] - 9s 404ms/step - loss: 0.0033 - acc: 1.0000 - val_loss: 0.8702 - val_acc: 0.0000e+00\n",
            "Epoch 97/100\n",
            "22/22 [==============================] - 9s 404ms/step - loss: 0.0042 - acc: 1.0000 - val_loss: 0.8603 - val_acc: 0.0000e+00\n",
            "Epoch 98/100\n",
            "22/22 [==============================] - 9s 404ms/step - loss: 0.0028 - acc: 1.0000 - val_loss: 0.8552 - val_acc: 0.0000e+00\n",
            "Epoch 99/100\n",
            "22/22 [==============================] - 9s 403ms/step - loss: 0.0227 - acc: 0.9773 - val_loss: 0.8556 - val_acc: 0.0000e+00\n",
            "Epoch 100/100\n",
            "22/22 [==============================] - 9s 406ms/step - loss: 0.0041 - acc: 1.0000 - val_loss: 0.8491 - val_acc: 0.0000e+00\n",
            "Fold 8 accuracy : 0.0\n",
            "Fold - 9 (44, 128, 128, 64, 1) (44,) (4, 128, 128, 64, 1) (4,)\n"
          ]
        },
        {
          "name": "stderr",
          "output_type": "stream",
          "text": [
            "/usr/local/lib/python3.7/dist-packages/keras/optimizer_v2/gradient_descent.py:102: UserWarning: The `lr` argument is deprecated, use `learning_rate` instead.\n",
            "  super(SGD, self).__init__(name, **kwargs)\n"
          ]
        },
        {
          "name": "stdout",
          "output_type": "stream",
          "text": [
            "Epoch 1/100\n",
            "22/22 [==============================] - 10s 412ms/step - loss: 0.4820 - acc: 0.5000 - val_loss: 0.4999 - val_acc: 0.5000\n",
            "Epoch 2/100\n",
            "22/22 [==============================] - 9s 404ms/step - loss: 0.4443 - acc: 0.5909 - val_loss: 0.4997 - val_acc: 0.5000\n",
            "Epoch 3/100\n",
            "22/22 [==============================] - 9s 404ms/step - loss: 0.4339 - acc: 0.5682 - val_loss: 0.4999 - val_acc: 0.5000\n",
            "Epoch 4/100\n",
            "22/22 [==============================] - 9s 403ms/step - loss: 0.3905 - acc: 0.6364 - val_loss: 0.4996 - val_acc: 0.5000\n",
            "Epoch 5/100\n",
            "22/22 [==============================] - 9s 404ms/step - loss: 0.3338 - acc: 0.6591 - val_loss: 0.4994 - val_acc: 0.5000\n",
            "Epoch 6/100\n",
            "22/22 [==============================] - 9s 404ms/step - loss: 0.3507 - acc: 0.6591 - val_loss: 0.4990 - val_acc: 0.5000\n",
            "Epoch 7/100\n",
            "22/22 [==============================] - 9s 404ms/step - loss: 0.3726 - acc: 0.6818 - val_loss: 0.4989 - val_acc: 0.5000\n",
            "Epoch 8/100\n",
            "22/22 [==============================] - 9s 404ms/step - loss: 0.2637 - acc: 0.7727 - val_loss: 0.4991 - val_acc: 0.5000\n",
            "Epoch 9/100\n",
            "22/22 [==============================] - 9s 404ms/step - loss: 0.2772 - acc: 0.7727 - val_loss: 0.4986 - val_acc: 0.5000\n",
            "Epoch 10/100\n",
            "22/22 [==============================] - 9s 404ms/step - loss: 0.2703 - acc: 0.7955 - val_loss: 0.4974 - val_acc: 0.5000\n",
            "Epoch 11/100\n",
            "22/22 [==============================] - 9s 404ms/step - loss: 0.2335 - acc: 0.7727 - val_loss: 0.4966 - val_acc: 0.5000\n",
            "Epoch 12/100\n",
            "22/22 [==============================] - 9s 403ms/step - loss: 0.1919 - acc: 0.8636 - val_loss: 0.4953 - val_acc: 0.5000\n",
            "Epoch 13/100\n",
            "22/22 [==============================] - 9s 406ms/step - loss: 0.2159 - acc: 0.7727 - val_loss: 0.4942 - val_acc: 0.5000\n",
            "Epoch 14/100\n",
            "22/22 [==============================] - 9s 404ms/step - loss: 0.1953 - acc: 0.8182 - val_loss: 0.4936 - val_acc: 0.5000\n",
            "Epoch 15/100\n",
            "22/22 [==============================] - 9s 406ms/step - loss: 0.1528 - acc: 0.8864 - val_loss: 0.4912 - val_acc: 0.5000\n",
            "Epoch 16/100\n",
            "22/22 [==============================] - 9s 404ms/step - loss: 0.1286 - acc: 0.9318 - val_loss: 0.4903 - val_acc: 0.5000\n",
            "Epoch 17/100\n",
            "22/22 [==============================] - 9s 404ms/step - loss: 0.0979 - acc: 0.9318 - val_loss: 0.4899 - val_acc: 0.5000\n",
            "Epoch 18/100\n",
            "22/22 [==============================] - 9s 405ms/step - loss: 0.1146 - acc: 0.9545 - val_loss: 0.4915 - val_acc: 0.5000\n",
            "Epoch 19/100\n",
            "22/22 [==============================] - 9s 404ms/step - loss: 0.0945 - acc: 0.9318 - val_loss: 0.4955 - val_acc: 0.2500\n",
            "Epoch 20/100\n",
            "22/22 [==============================] - 9s 405ms/step - loss: 0.1123 - acc: 0.8864 - val_loss: 0.4978 - val_acc: 0.5000\n",
            "Epoch 21/100\n",
            "22/22 [==============================] - 9s 404ms/step - loss: 0.0558 - acc: 0.9773 - val_loss: 0.5027 - val_acc: 0.5000\n",
            "Epoch 22/100\n",
            "22/22 [==============================] - 9s 405ms/step - loss: 0.0761 - acc: 0.9773 - val_loss: 0.5015 - val_acc: 0.5000\n",
            "Epoch 23/100\n",
            "22/22 [==============================] - 9s 405ms/step - loss: 0.0483 - acc: 0.9773 - val_loss: 0.4945 - val_acc: 0.5000\n",
            "Epoch 24/100\n",
            "22/22 [==============================] - 9s 404ms/step - loss: 0.0541 - acc: 0.9773 - val_loss: 0.4957 - val_acc: 0.7500\n",
            "Epoch 25/100\n",
            "22/22 [==============================] - 9s 403ms/step - loss: 0.0759 - acc: 0.9545 - val_loss: 0.4933 - val_acc: 0.7500\n",
            "Epoch 26/100\n",
            "22/22 [==============================] - 9s 405ms/step - loss: 0.0928 - acc: 0.9318 - val_loss: 0.4918 - val_acc: 0.7500\n",
            "Epoch 27/100\n",
            "22/22 [==============================] - 9s 406ms/step - loss: 0.0382 - acc: 0.9773 - val_loss: 0.4753 - val_acc: 0.7500\n",
            "Epoch 28/100\n",
            "22/22 [==============================] - 9s 403ms/step - loss: 0.0882 - acc: 0.9318 - val_loss: 0.4585 - val_acc: 0.7500\n",
            "Epoch 29/100\n",
            "22/22 [==============================] - 9s 405ms/step - loss: 0.0605 - acc: 0.9318 - val_loss: 0.4619 - val_acc: 0.7500\n",
            "Epoch 30/100\n",
            "22/22 [==============================] - 9s 404ms/step - loss: 0.0777 - acc: 0.9545 - val_loss: 0.4816 - val_acc: 0.5000\n",
            "Epoch 31/100\n",
            "22/22 [==============================] - 9s 404ms/step - loss: 0.0538 - acc: 0.9773 - val_loss: 0.4843 - val_acc: 0.5000\n",
            "Epoch 32/100\n",
            "22/22 [==============================] - 9s 403ms/step - loss: 0.0439 - acc: 0.9773 - val_loss: 0.4962 - val_acc: 0.5000\n",
            "Epoch 33/100\n",
            "22/22 [==============================] - 9s 404ms/step - loss: 0.0444 - acc: 0.9773 - val_loss: 0.4919 - val_acc: 0.5000\n",
            "Epoch 34/100\n",
            "22/22 [==============================] - 9s 404ms/step - loss: 0.0304 - acc: 0.9773 - val_loss: 0.4872 - val_acc: 0.5000\n",
            "Epoch 35/100\n",
            "22/22 [==============================] - 9s 403ms/step - loss: 0.0486 - acc: 0.9545 - val_loss: 0.4855 - val_acc: 0.5000\n",
            "Epoch 36/100\n",
            "22/22 [==============================] - 9s 406ms/step - loss: 0.0320 - acc: 0.9773 - val_loss: 0.4929 - val_acc: 0.5000\n",
            "Epoch 37/100\n",
            "22/22 [==============================] - 9s 403ms/step - loss: 0.0595 - acc: 0.9545 - val_loss: 0.5016 - val_acc: 0.5000\n",
            "Epoch 38/100\n",
            "22/22 [==============================] - 9s 406ms/step - loss: 0.0385 - acc: 0.9773 - val_loss: 0.5223 - val_acc: 0.5000\n",
            "Epoch 39/100\n",
            "22/22 [==============================] - 9s 403ms/step - loss: 0.0194 - acc: 0.9773 - val_loss: 0.5270 - val_acc: 0.5000\n",
            "Epoch 40/100\n",
            "22/22 [==============================] - 9s 406ms/step - loss: 0.0233 - acc: 1.0000 - val_loss: 0.5368 - val_acc: 0.5000\n",
            "Epoch 41/100\n",
            "22/22 [==============================] - 9s 405ms/step - loss: 0.0640 - acc: 0.9545 - val_loss: 0.5456 - val_acc: 0.5000\n",
            "Epoch 42/100\n",
            "22/22 [==============================] - 9s 406ms/step - loss: 0.0388 - acc: 0.9773 - val_loss: 0.5545 - val_acc: 0.5000\n",
            "Epoch 43/100\n",
            "22/22 [==============================] - 9s 404ms/step - loss: 0.0281 - acc: 1.0000 - val_loss: 0.5444 - val_acc: 0.5000\n",
            "Epoch 44/100\n",
            "22/22 [==============================] - 9s 405ms/step - loss: 0.0223 - acc: 0.9773 - val_loss: 0.5362 - val_acc: 0.5000\n",
            "Epoch 45/100\n",
            "22/22 [==============================] - 9s 403ms/step - loss: 0.0159 - acc: 1.0000 - val_loss: 0.5279 - val_acc: 0.5000\n",
            "Epoch 46/100\n",
            "22/22 [==============================] - 9s 404ms/step - loss: 0.0223 - acc: 1.0000 - val_loss: 0.5324 - val_acc: 0.5000\n",
            "Epoch 47/100\n",
            "22/22 [==============================] - 9s 404ms/step - loss: 0.0282 - acc: 1.0000 - val_loss: 0.5330 - val_acc: 0.5000\n",
            "Epoch 48/100\n",
            "22/22 [==============================] - 9s 406ms/step - loss: 0.0262 - acc: 0.9773 - val_loss: 0.5334 - val_acc: 0.5000\n",
            "Epoch 49/100\n",
            "22/22 [==============================] - 9s 403ms/step - loss: 0.0255 - acc: 1.0000 - val_loss: 0.5330 - val_acc: 0.5000\n",
            "Epoch 50/100\n",
            "22/22 [==============================] - 9s 404ms/step - loss: 0.0178 - acc: 1.0000 - val_loss: 0.5360 - val_acc: 0.5000\n",
            "Epoch 51/100\n",
            "22/22 [==============================] - 9s 404ms/step - loss: 0.0231 - acc: 0.9773 - val_loss: 0.5358 - val_acc: 0.5000\n",
            "Epoch 52/100\n",
            "22/22 [==============================] - 9s 406ms/step - loss: 0.0322 - acc: 0.9773 - val_loss: 0.5321 - val_acc: 0.5000\n",
            "Epoch 53/100\n",
            "22/22 [==============================] - 9s 403ms/step - loss: 0.0329 - acc: 1.0000 - val_loss: 0.5309 - val_acc: 0.5000\n",
            "Epoch 54/100\n",
            "22/22 [==============================] - 9s 404ms/step - loss: 0.0207 - acc: 1.0000 - val_loss: 0.5273 - val_acc: 0.5000\n",
            "Epoch 55/100\n",
            "22/22 [==============================] - 9s 405ms/step - loss: 0.0116 - acc: 1.0000 - val_loss: 0.5211 - val_acc: 0.5000\n",
            "Epoch 56/100\n",
            "22/22 [==============================] - 9s 403ms/step - loss: 0.0216 - acc: 0.9773 - val_loss: 0.5144 - val_acc: 0.5000\n",
            "Epoch 57/100\n",
            "22/22 [==============================] - 9s 406ms/step - loss: 0.0247 - acc: 0.9773 - val_loss: 0.5160 - val_acc: 0.5000\n",
            "Epoch 58/100\n",
            "22/22 [==============================] - 9s 404ms/step - loss: 0.0321 - acc: 1.0000 - val_loss: 0.5193 - val_acc: 0.5000\n",
            "Epoch 59/100\n",
            "22/22 [==============================] - 9s 404ms/step - loss: 0.0185 - acc: 0.9773 - val_loss: 0.5231 - val_acc: 0.5000\n",
            "Epoch 60/100\n",
            "22/22 [==============================] - 9s 404ms/step - loss: 0.0093 - acc: 1.0000 - val_loss: 0.5237 - val_acc: 0.5000\n",
            "Epoch 61/100\n",
            "22/22 [==============================] - 9s 403ms/step - loss: 0.0089 - acc: 1.0000 - val_loss: 0.5233 - val_acc: 0.5000\n",
            "Epoch 62/100\n",
            "22/22 [==============================] - 9s 403ms/step - loss: 0.0160 - acc: 1.0000 - val_loss: 0.5266 - val_acc: 0.5000\n",
            "Epoch 63/100\n",
            "22/22 [==============================] - 9s 405ms/step - loss: 0.0150 - acc: 1.0000 - val_loss: 0.5299 - val_acc: 0.5000\n",
            "Epoch 64/100\n",
            "22/22 [==============================] - 9s 404ms/step - loss: 0.0193 - acc: 0.9773 - val_loss: 0.5313 - val_acc: 0.5000\n",
            "Epoch 65/100\n",
            "22/22 [==============================] - 9s 404ms/step - loss: 0.0103 - acc: 1.0000 - val_loss: 0.5318 - val_acc: 0.5000\n",
            "Epoch 66/100\n",
            "22/22 [==============================] - 9s 403ms/step - loss: 0.0214 - acc: 1.0000 - val_loss: 0.5398 - val_acc: 0.5000\n",
            "Epoch 67/100\n",
            "22/22 [==============================] - 9s 405ms/step - loss: 0.0075 - acc: 1.0000 - val_loss: 0.5547 - val_acc: 0.5000\n",
            "Epoch 68/100\n",
            "22/22 [==============================] - 9s 404ms/step - loss: 0.0211 - acc: 1.0000 - val_loss: 0.5572 - val_acc: 0.5000\n",
            "Epoch 69/100\n",
            "22/22 [==============================] - 9s 404ms/step - loss: 0.0070 - acc: 1.0000 - val_loss: 0.5656 - val_acc: 0.5000\n",
            "Epoch 70/100\n",
            "22/22 [==============================] - 9s 403ms/step - loss: 0.0189 - acc: 1.0000 - val_loss: 0.5621 - val_acc: 0.5000\n",
            "Epoch 71/100\n",
            "22/22 [==============================] - 9s 403ms/step - loss: 0.0080 - acc: 1.0000 - val_loss: 0.5585 - val_acc: 0.5000\n",
            "Epoch 72/100\n",
            "22/22 [==============================] - 9s 404ms/step - loss: 0.0043 - acc: 1.0000 - val_loss: 0.5529 - val_acc: 0.5000\n",
            "Epoch 73/100\n",
            "22/22 [==============================] - 9s 404ms/step - loss: 0.0121 - acc: 1.0000 - val_loss: 0.5545 - val_acc: 0.5000\n",
            "Epoch 74/100\n",
            "22/22 [==============================] - 9s 404ms/step - loss: 0.0185 - acc: 1.0000 - val_loss: 0.5575 - val_acc: 0.5000\n",
            "Epoch 75/100\n",
            "22/22 [==============================] - 9s 406ms/step - loss: 0.0045 - acc: 1.0000 - val_loss: 0.5532 - val_acc: 0.5000\n",
            "Epoch 76/100\n",
            "22/22 [==============================] - 9s 404ms/step - loss: 0.0057 - acc: 1.0000 - val_loss: 0.5523 - val_acc: 0.5000\n",
            "Epoch 77/100\n",
            "22/22 [==============================] - 9s 403ms/step - loss: 0.0086 - acc: 1.0000 - val_loss: 0.5488 - val_acc: 0.5000\n",
            "Epoch 78/100\n",
            "22/22 [==============================] - 9s 404ms/step - loss: 0.0074 - acc: 1.0000 - val_loss: 0.5453 - val_acc: 0.5000\n",
            "Epoch 79/100\n",
            "22/22 [==============================] - 9s 405ms/step - loss: 0.0131 - acc: 1.0000 - val_loss: 0.5457 - val_acc: 0.5000\n",
            "Epoch 80/100\n",
            "22/22 [==============================] - 9s 404ms/step - loss: 0.0056 - acc: 1.0000 - val_loss: 0.5458 - val_acc: 0.5000\n",
            "Epoch 81/100\n",
            "22/22 [==============================] - 9s 403ms/step - loss: 0.0027 - acc: 1.0000 - val_loss: 0.5442 - val_acc: 0.5000\n",
            "Epoch 82/100\n",
            "22/22 [==============================] - 9s 404ms/step - loss: 0.0088 - acc: 1.0000 - val_loss: 0.5448 - val_acc: 0.5000\n",
            "Epoch 83/100\n",
            "22/22 [==============================] - 9s 404ms/step - loss: 0.0237 - acc: 0.9773 - val_loss: 0.5456 - val_acc: 0.5000\n",
            "Epoch 84/100\n",
            "22/22 [==============================] - 9s 403ms/step - loss: 0.0118 - acc: 1.0000 - val_loss: 0.5456 - val_acc: 0.5000\n",
            "Epoch 85/100\n",
            "22/22 [==============================] - 9s 402ms/step - loss: 0.0037 - acc: 1.0000 - val_loss: 0.5459 - val_acc: 0.5000\n",
            "Epoch 86/100\n",
            "22/22 [==============================] - 9s 405ms/step - loss: 0.0059 - acc: 1.0000 - val_loss: 0.5466 - val_acc: 0.5000\n",
            "Epoch 87/100\n",
            "22/22 [==============================] - 9s 404ms/step - loss: 0.0098 - acc: 1.0000 - val_loss: 0.5472 - val_acc: 0.5000\n",
            "Epoch 88/100\n",
            "22/22 [==============================] - 9s 403ms/step - loss: 0.0064 - acc: 1.0000 - val_loss: 0.5486 - val_acc: 0.5000\n",
            "Epoch 89/100\n",
            "22/22 [==============================] - 9s 403ms/step - loss: 0.0068 - acc: 1.0000 - val_loss: 0.5493 - val_acc: 0.5000\n",
            "Epoch 90/100\n",
            "22/22 [==============================] - 9s 404ms/step - loss: 0.0071 - acc: 1.0000 - val_loss: 0.5477 - val_acc: 0.5000\n",
            "Epoch 91/100\n",
            "22/22 [==============================] - 9s 404ms/step - loss: 0.0115 - acc: 1.0000 - val_loss: 0.5435 - val_acc: 0.5000\n",
            "Epoch 92/100\n",
            "22/22 [==============================] - 9s 404ms/step - loss: 0.0080 - acc: 1.0000 - val_loss: 0.5429 - val_acc: 0.5000\n",
            "Epoch 93/100\n",
            "22/22 [==============================] - 9s 403ms/step - loss: 0.0104 - acc: 1.0000 - val_loss: 0.5446 - val_acc: 0.5000\n",
            "Epoch 94/100\n",
            "22/22 [==============================] - 9s 405ms/step - loss: 0.0055 - acc: 1.0000 - val_loss: 0.5473 - val_acc: 0.5000\n",
            "Epoch 95/100\n",
            "22/22 [==============================] - 9s 403ms/step - loss: 0.0047 - acc: 1.0000 - val_loss: 0.5499 - val_acc: 0.5000\n",
            "Epoch 96/100\n",
            "22/22 [==============================] - 9s 405ms/step - loss: 0.0018 - acc: 1.0000 - val_loss: 0.5507 - val_acc: 0.5000\n",
            "Epoch 97/100\n",
            "22/22 [==============================] - 9s 402ms/step - loss: 0.0107 - acc: 1.0000 - val_loss: 0.5502 - val_acc: 0.5000\n",
            "Epoch 98/100\n",
            "22/22 [==============================] - 9s 403ms/step - loss: 0.0038 - acc: 1.0000 - val_loss: 0.5511 - val_acc: 0.5000\n",
            "Epoch 99/100\n",
            "22/22 [==============================] - 9s 402ms/step - loss: 0.0059 - acc: 1.0000 - val_loss: 0.5529 - val_acc: 0.5000\n",
            "Epoch 100/100\n",
            "22/22 [==============================] - 9s 405ms/step - loss: 0.0052 - acc: 1.0000 - val_loss: 0.5544 - val_acc: 0.5000\n",
            "Fold 9 accuracy : 50.0\n",
            "--- Time taken to train : 0.0 hours ---\n"
          ]
        }
      ],
      "source": [
        "from sklearn.model_selection import StratifiedKFold\n",
        "\n",
        "kfold = StratifiedKFold(n_splits=10, shuffle=True, random_state=1)\n",
        "print(kfold)\n",
        "\n",
        "data = X_train\n",
        "labels = np.array([np.argmax(x) for x in y_train])\n",
        "print(data.shape, labels.shape)\n",
        "\n",
        "cross_val_scores = []\n",
        "\n",
        "start_time = time.time()\n",
        "\n",
        "for i, (train, test) in enumerate(kfold.split(data, labels)):\n",
        "\n",
        "    print(\"Fold - {}\".format(i), data[train].shape, labels[train].shape, data[test].shape, labels[test].shape)\n",
        "\n",
        "    K.clear_session()\n",
        "    model = None\n",
        "\n",
        "    start_time = time.time()\n",
        "\n",
        "    model = network_3d()\n",
        "\n",
        "    y_train_cv = keras.utils.np_utils.to_categorical(labels[train], 2)\n",
        "    y_val_cv = keras.utils.np_utils.to_categorical(labels[test], 2)\n",
        "\n",
        "    cb = None\n",
        "    cw = None\n",
        "\n",
        "    h=model.fit(x=data[train],\n",
        "                y=y_train_cv,\n",
        "                validation_data=(data[test], y_val_cv),\n",
        "                batch_size=2,\n",
        "                epochs=100,\n",
        "                verbose=1,\n",
        "                class_weight = cw,\n",
        "                callbacks=cb,\n",
        "                shuffle=False,\n",
        "                )\n",
        "\n",
        "    y_pred_cv = []\n",
        "\n",
        "    for img in data[test]:\n",
        "        img = np.expand_dims(img, axis=0)\n",
        "        y = model.predict(img)\n",
        "        y_pred_cv.append(y[:][0])\n",
        "\n",
        "    y_pred_cv = np.array(y_pred_cv)\n",
        "\n",
        "    y_val_cv_flat = np.argmax(y_val_cv, axis=1)\n",
        "    y_pred_cv_flat = np.array([np.argmax(pred) for pred in y_pred_cv])\n",
        "\n",
        "    acc = accuracy_score(y_val_cv_flat, y_pred_cv_flat) * 100\n",
        "    print(\"Fold {} accuracy :\".format(i), acc)\n",
        "\n",
        "    cross_val_scores.append(acc)\n",
        "\n",
        "\n",
        "end_time = time.time()\n",
        "print(\"--- Time taken to train : %s hours ---\" % ((end_time - start_time)//3600))"
      ]
    },
    {
      "cell_type": "markdown",
      "metadata": {
        "id": "n3ISERNlY5Uq"
      },
      "source": [
        "#### Mean and standard deviation"
      ]
    },
    {
      "cell_type": "code",
      "execution_count": null,
      "metadata": {
        "colab": {
          "base_uri": "https://localhost:8080/"
        },
        "id": "IpGKr9eu-e0M",
        "outputId": "0b267164-e938-416a-853c-1d5eb6d49b55"
      },
      "outputs": [
        {
          "name": "stdout",
          "output_type": "stream",
          "text": [
            "55.00% (+/- 25.00%)\n"
          ]
        }
      ],
      "source": [
        "print(\"%.2f%% (+/- %.2f%%)\" % (np.mean(cross_val_scores), np.std(cross_val_scores)))"
      ]
    },
    {
      "cell_type": "code",
      "execution_count": null,
      "metadata": {
        "colab": {
          "base_uri": "https://localhost:8080/"
        },
        "id": "9cGJRoH8iauF",
        "outputId": "0f975c3c-a9ff-4da7-803d-7683f3ec75d2"
      },
      "outputs": [
        {
          "name": "stdout",
          "output_type": "stream",
          "text": [
            "dict_keys(['loss', 'acc', 'val_loss', 'val_acc'])\n",
            "[0.4999277591705322, 0.49966198205947876, 0.4999476373195648, 0.499646931886673, 0.499433696269989, 0.4989624321460724, 0.4989268183708191, 0.4990898072719574, 0.49855685234069824, 0.4974120855331421, 0.49662718176841736, 0.49534034729003906, 0.4942165017127991, 0.49356016516685486, 0.49122992157936096, 0.49026796221733093, 0.4899458885192871, 0.49151843786239624, 0.4954996705055237, 0.4977559745311737, 0.5027148127555847, 0.5015344023704529, 0.4945009648799896, 0.49567103385925293, 0.4932624101638794, 0.4917961061000824, 0.4752740263938904, 0.45852455496788025, 0.4619207978248596, 0.48163846135139465, 0.4842751622200012, 0.496237576007843, 0.4918803870677948, 0.4871976673603058, 0.48550719022750854, 0.4929032027721405, 0.5016011595726013, 0.5222775936126709, 0.5269811153411865, 0.5368167161941528, 0.5455628633499146, 0.5545133352279663, 0.544394314289093, 0.536199688911438, 0.5278774499893188, 0.5323988795280457, 0.5330386161804199, 0.5334191918373108, 0.5329799652099609, 0.5360324382781982, 0.5358342528343201, 0.532074511051178, 0.5308666825294495, 0.5272822976112366, 0.5210666656494141, 0.5143686532974243, 0.5159837007522583, 0.5193023085594177, 0.5231115221977234, 0.5237201452255249, 0.5232601761817932, 0.5265986919403076, 0.5298712253570557, 0.5312786102294922, 0.5317621231079102, 0.5397956371307373, 0.5546934604644775, 0.557156503200531, 0.5656283497810364, 0.5620912313461304, 0.5585106015205383, 0.552923321723938, 0.5544796586036682, 0.5575480461120605, 0.5531525015830994, 0.5523393750190735, 0.5487968325614929, 0.5452761650085449, 0.5457487106323242, 0.545795738697052, 0.5442301034927368, 0.5448310375213623, 0.5456448793411255, 0.5456430315971375, 0.5459274053573608, 0.5465503334999084, 0.5471997261047363, 0.5486149787902832, 0.5493155121803284, 0.5476662516593933, 0.5434720516204834, 0.5428779721260071, 0.5445749759674072, 0.5472565293312073, 0.5498972535133362, 0.5507289171218872, 0.5501834154129028, 0.551069438457489, 0.552895188331604, 0.5543566942214966]\n"
          ]
        }
      ],
      "source": [
        "print(h.history.keys())\n",
        "print(h.history['val_loss'])"
      ]
    },
    {
      "cell_type": "code",
      "execution_count": null,
      "metadata": {
        "colab": {
          "base_uri": "https://localhost:8080/",
          "height": 312
        },
        "id": "bC3nKRDxUMm8",
        "outputId": "c7933c3e-3739-4997-ad01-aca2d33c1222"
      },
      "outputs": [
        {
          "data": {
            "image/png": "[encoded data removed]",
            "text/plain": [
              "<Figure size 432x288 with 1 Axes>"
            ]
          },
          "metadata": {
            "needs_background": "light"
          },
          "output_type": "display_data"
        },
        {
          "name": "stdout",
          "output_type": "stream",
          "text": [
            "Done training and logging!\n"
          ]
        }
      ],
      "source": [
        "def plot_loss_accu_all(his):\n",
        "\n",
        "    loss = his.history['loss']\n",
        "    val_loss = his.history['val_loss']\n",
        "    acc = his.history['acc']\n",
        "    val_acc = his.history['val_acc']\n",
        "    epochs = range(len(loss))\n",
        "\n",
        "    plt.plot(epochs, acc, 'r')\n",
        "    plt.plot(epochs, val_acc, 'b')\n",
        "    plt.plot(epochs, loss, 'g')\n",
        "    plt.plot(epochs, val_loss, 'y')\n",
        "    plt.title('Accuracy/Loss graph')\n",
        "\n",
        "    plt.ylabel('Performance Measure')\n",
        "    plt.xlabel('Epochs')\n",
        "\n",
        "    plt.legend(['trainacc', 'valacc', 'trainloss', 'valloss'], loc='lower right', fontsize=10)\n",
        "    plt.grid(True)\n",
        "    plt.savefig('{}/{}.png'.format(log_path+\"/\"+experiment_name, \"trainval_acc_loss\"), dpi=500)\n",
        "    plt.show()\n",
        "\n",
        "\n",
        "def plot_loss_accu(his):\n",
        "    loss = his.history['loss']\n",
        "    val_loss = his.history['val_loss']\n",
        "    epochs = range(len(loss))\n",
        "    plt.plot(epochs, loss, 'g')\n",
        "    plt.plot(epochs, val_loss, 'y')\n",
        "    plt.ylabel('Loss %')\n",
        "    plt.xlabel('Epoch')\n",
        "    plt.legend(['train', 'val'], loc='upper right')\n",
        "    plt.grid(True)\n",
        "    plt.show()\n",
        "\n",
        "    loss = his.history['acc']\n",
        "    val_loss = his.history['val_acc']\n",
        "    epochs = range(len(loss))\n",
        "    plt.plot(epochs, loss, 'r')\n",
        "    plt.plot(epochs, val_loss, 'b')\n",
        "    plt.ylabel('Accuracy %')\n",
        "    plt.xlabel('Epoch')\n",
        "    plt.legend(['train', 'val'], loc='lower right')\n",
        "    plt.grid(True)\n",
        "    plt.show()\n",
        "\n",
        "plot_loss_accu_all(h)\n",
        "print(\"Done training and logging!\")"
      ]
    },
    {
      "cell_type": "code",
      "execution_count": null,
      "metadata": {
        "id": "17qsdZzX3qcB"
      },
      "outputs": [],
      "source": [
        "model.save(\"{}/{}.h5\".format(log_path+\"/\"+experiment_name, experiment_name))"
      ]
    },
    {
      "cell_type": "code",
      "execution_count": null,
      "metadata": {
        "colab": {
          "base_uri": "https://localhost:8080/"
        },
        "id": "GaZPFgWYBjwR",
        "outputId": "298677d8-d667-4aa4-87c4-dfb74ba7fa39"
      },
      "outputs": [
        {
          "name": "stdout",
          "output_type": "stream",
          "text": [
            "Model: \"model\"\n",
            "_________________________________________________________________\n",
            " Layer (type)                Output Shape              Param #   \n",
            "=================================================================\n",
            " input_1 (InputLayer)        [(None, 128, 128, 64, 1)  0         \n",
            "                             ]                                   \n",
            "                                                                 \n",
            " conv3d (Conv3D)             (None, 126, 126, 62, 64)  1792      \n",
            "                                                                 \n",
            " max_pooling3d (MaxPooling3D  (None, 63, 63, 31, 64)   0         \n",
            " )                                                               \n",
            "                                                                 \n",
            " batch_normalization (BatchN  (None, 63, 63, 31, 64)   256       \n",
            " ormalization)                                                   \n",
            "                                                                 \n",
            " conv3d_2 (Conv3D)           (None, 61, 61, 29, 64)    110656    \n",
            "                                                                 \n",
            " max_pooling3d_2 (MaxPooling  (None, 30, 30, 14, 64)   0         \n",
            " 3D)                                                             \n",
            "                                                                 \n",
            " batch_normalization_2 (Batc  (None, 30, 30, 14, 64)   256       \n",
            " hNormalization)                                                 \n",
            "                                                                 \n",
            " conv3d_3 (Conv3D)           (None, 28, 28, 12, 128)   221312    \n",
            "                                                                 \n",
            " max_pooling3d_3 (MaxPooling  (None, 14, 14, 6, 128)   0         \n",
            " 3D)                                                             \n",
            "                                                                 \n",
            " batch_normalization_3 (Batc  (None, 14, 14, 6, 128)   512       \n",
            " hNormalization)                                                 \n",
            "                                                                 \n",
            " conv3d_4 (Conv3D)           (None, 12, 12, 4, 256)    884992    \n",
            "                                                                 \n",
            " max_pooling3d_4 (MaxPooling  (None, 6, 6, 2, 256)     0         \n",
            " 3D)                                                             \n",
            "                                                                 \n",
            " batch_normalization_4 (Batc  (None, 6, 6, 2, 256)     1024      \n",
            " hNormalization)                                                 \n",
            "                                                                 \n",
            " flatten (Flatten)           (None, 18432)             0         \n",
            "                                                                 \n",
            " dense (Dense)               (None, 512)               9437696   \n",
            "                                                                 \n",
            " dropout (Dropout)           (None, 512)               0         \n",
            "                                                                 \n",
            " dropout_1 (Dropout)         (None, 512)               0         \n",
            "                                                                 \n",
            " dense_2 (Dense)             (None, 2)                 1026      \n",
            "                                                                 \n",
            "=================================================================\n",
            "Total params: 10,659,522\n",
            "Trainable params: 10,658,498\n",
            "Non-trainable params: 1,024\n",
            "_________________________________________________________________\n"
          ]
        }
      ],
      "source": [
        "model = None\n",
        "model = load_model(\"{}/exp_siz_calcification/exp_siz_calcification.h5\".format(log_path))\n",
        "model.summary()"
      ]
    },
    {
      "cell_type": "code",
      "execution_count": null,
      "metadata": {
        "colab": {
          "base_uri": "https://localhost:8080/"
        },
        "id": "zGYJW-hwTUZw",
        "outputId": "3320dc76-6de0-4631-e937-a71d7fb14341"
      },
      "outputs": [
        {
          "name": "stdout",
          "output_type": "stream",
          "text": [
            "1/1 [==============================] - 3s 3s/step - loss: 0.3344 - acc: 0.7500\n",
            "Test loss: 0.334440141916275\n",
            "Test accuracy: 0.75\n"
          ]
        }
      ],
      "source": [
        "score = model.evaluate(X_test, y_test, verbose=1)\n",
        "print('Test loss:', score[0])\n",
        "print('Test accuracy:', score[1])"
      ]
    },
    {
      "cell_type": "code",
      "execution_count": null,
      "metadata": {
        "colab": {
          "base_uri": "https://localhost:8080/"
        },
        "id": "8YECSNf0vtTj",
        "outputId": "b47d59e6-6d39-4418-c273-b5f86b980b42"
      },
      "outputs": [
        {
          "name": "stdout",
          "output_type": "stream",
          "text": [
            "(12, 2)\n",
            "After flattening ground truth:  (12,)\n",
            "Binarize probability values:  (12,)\n",
            "Accuracy : 75.0\n"
          ]
        }
      ],
      "source": [
        "y_pred = []\n",
        "\n",
        "for img in X_test:\n",
        "    img = np.expand_dims(img, axis=0)\n",
        "    y = model.predict(img)\n",
        "    y_pred.append(y[:][0])\n",
        "\n",
        "y_pred = np.array(y_pred)\n",
        "print(y_pred.shape)\n",
        "\n",
        "y_test_flat = np.argmax(y_test, axis=1)\n",
        "print(\"After flattening ground truth: \", y_test_flat.shape)\n",
        "\n",
        "y_pred_flat = np.array([np.argmax(pred) for pred in y_pred])\n",
        "print(\"Binarize probability values: \", y_pred_flat.shape)\n",
        "\n",
        "acc = accuracy_score(y_test_flat, y_pred_flat) * 100\n",
        "print(\"Accuracy :\", acc)"
      ]
    },
    {
      "cell_type": "code",
      "execution_count": null,
      "metadata": {
        "colab": {
          "base_uri": "https://localhost:8080/"
        },
        "id": "YcLiZhvGChiu",
        "outputId": "b5bb57e5-fa2e-4e82-87f5-f0cbb6552c3a"
      },
      "outputs": [
        {
          "name": "stdout",
          "output_type": "stream",
          "text": [
            "[[0.14198878 0.85801125]\n",
            " [0.6559245  0.34407544]\n",
            " [0.7469147  0.25308535]\n",
            " [0.83460516 0.16539486]\n",
            " [0.65788114 0.3421189 ]\n",
            " [0.44094294 0.55905706]\n",
            " [0.27640876 0.72359127]\n",
            " [0.71195483 0.28804517]\n",
            " [0.10040498 0.8995951 ]\n",
            " [0.00559268 0.9944073 ]\n",
            " [0.17317893 0.826821  ]\n",
            " [0.02634692 0.973653  ]]\n",
            "[[1. 0.]\n",
            " [1. 0.]\n",
            " [1. 0.]\n",
            " [1. 0.]\n",
            " [0. 1.]\n",
            " [0. 1.]\n",
            " [0. 1.]\n",
            " [0. 1.]\n",
            " [0. 1.]\n",
            " [0. 1.]\n",
            " [0. 1.]\n",
            " [0. 1.]]\n",
            "[0 0 0 0 1 1 1 1 1 1 1 1]\n",
            "[1 0 0 0 0 1 1 0 1 1 1 1]\n"
          ]
        }
      ],
      "source": [
        "print(y_pred)\n",
        "print(y_test)\n",
        "print(y_test_flat)\n",
        "print(y_pred_flat)"
      ]
    },
    {
      "cell_type": "code",
      "execution_count": null,
      "metadata": {
        "colab": {
          "base_uri": "https://localhost:8080/"
        },
        "id": "UVAzZJlVEMJU",
        "outputId": "c7b2f527-9245-4bbe-d37a-2f5d51ac828c"
      },
      "outputs": [
        {
          "name": "stdout",
          "output_type": "stream",
          "text": [
            "[[[1.]\n",
            "  [1.]]\n",
            "\n",
            " [[1.]\n",
            "  [1.]]\n",
            "\n",
            " [[1.]\n",
            "  [1.]]\n",
            "\n",
            " [[1.]\n",
            "  [1.]]\n",
            "\n",
            " [[1.]\n",
            "  [1.]]\n",
            "\n",
            " [[1.]\n",
            "  [1.]]\n",
            "\n",
            " [[1.]\n",
            "  [1.]]\n",
            "\n",
            " [[1.]\n",
            "  [1.]]\n",
            "\n",
            " [[1.]\n",
            "  [1.]]\n",
            "\n",
            " [[1.]\n",
            "  [1.]]\n",
            "\n",
            " [[1.]\n",
            "  [1.]]\n",
            "\n",
            " [[1.]\n",
            "  [1.]]]\n"
          ]
        }
      ],
      "source": [
        "print(np_utils.to_categorical(y_pred))"
      ]
    },
    {
      "cell_type": "code",
      "execution_count": null,
      "metadata": {
        "colab": {
          "base_uri": "https://localhost:8080/"
        },
        "id": "rjI6pCCiCt4M",
        "outputId": "883d7ad8-016d-4eb3-801f-84479da091a6"
      },
      "outputs": [
        {
          "data": {
            "text/plain": [
              "12"
            ]
          },
          "execution_count": 29,
          "metadata": {},
          "output_type": "execute_result"
        }
      ],
      "source": [
        "len(X_test)"
      ]
    },
    {
      "cell_type": "code",
      "execution_count": null,
      "metadata": {
        "colab": {
          "base_uri": "https://localhost:8080/"
        },
        "id": "HmJnnW09kxCe",
        "outputId": "34509316-b657-4928-997f-15869b02ccef"
      },
      "outputs": [
        {
          "data": {
            "text/plain": [
              "(2, 2)"
            ]
          },
          "execution_count": 31,
          "metadata": {},
          "output_type": "execute_result"
        }
      ],
      "source": [
        "num_classes = 2\n",
        "target_names = ['0', '1']\n",
        "target_names = np_utils.to_categorical(target_names, num_classes)\n",
        "target_names.shape"
      ]
    },
    {
      "cell_type": "code",
      "execution_count": null,
      "metadata": {
        "colab": {
          "base_uri": "https://localhost:8080/"
        },
        "id": "szIqXSTylHsg",
        "outputId": "fb44da8c-bf22-4c9d-f2ec-61035fb3b1cc"
      },
      "outputs": [
        {
          "data": {
            "text/plain": [
              "array([[1., 0.],\n",
              "       [0., 1.]], dtype=float32)"
            ]
          },
          "execution_count": 32,
          "metadata": {},
          "output_type": "execute_result"
        }
      ],
      "source": [
        "target_names"
      ]
    },
    {
      "cell_type": "code",
      "execution_count": null,
      "metadata": {
        "colab": {
          "base_uri": "https://localhost:8080/"
        },
        "id": "AVImh-QHBQU9",
        "outputId": "f55f8e6b-1c56-4c7f-fcfb-30155c42bf66"
      },
      "outputs": [
        {
          "data": {
            "text/plain": [
              "array([0, 0, 0, 0, 1, 1, 1, 1, 1, 1, 1, 1])"
            ]
          },
          "execution_count": 33,
          "metadata": {},
          "output_type": "execute_result"
        }
      ],
      "source": [
        "y_test_flat"
      ]
    },
    {
      "cell_type": "code",
      "execution_count": null,
      "metadata": {
        "colab": {
          "base_uri": "https://localhost:8080/"
        },
        "id": "64nwLFXbw2Vm",
        "outputId": "c6f331cc-1ddd-4f04-b14e-4462e5dd3004"
      },
      "outputs": [
        {
          "name": "stdout",
          "output_type": "stream",
          "text": [
            "[[3 1]\n",
            " [2 6]]\n",
            "              precision    recall  f1-score   support\n",
            "\n",
            "         0.0       0.60      0.75      0.67         4\n",
            "         1.0       0.86      0.75      0.80         8\n",
            "\n",
            "    accuracy                           0.75        12\n",
            "   macro avg       0.73      0.75      0.73        12\n",
            "weighted avg       0.77      0.75      0.76        12\n",
            "\n"
          ]
        }
      ],
      "source": [
        "from sklearn.metrics import confusion_matrix, classification_report\n",
        "\n",
        "confusion_mtx = confusion_matrix(y_test_flat, y_pred_flat)\n",
        "print(confusion_mtx)\n",
        "print(classification_report(y_test_flat, y_pred_flat, labels=[0.,1.]))"
      ]
    },
    {
      "cell_type": "code",
      "execution_count": null,
      "metadata": {
        "colab": {
          "base_uri": "https://localhost:8080/"
        },
        "id": "IEPVB-Qqw2Pe",
        "outputId": "fe29fc55-866e-49f9-aed3-b27fa8f3d819"
      },
      "outputs": [
        {
          "name": "stdout",
          "output_type": "stream",
          "text": [
            "Area under ROC curve :  78.125\n"
          ]
        }
      ],
      "source": [
        "from sklearn.metrics import roc_auc_score\n",
        "print('Area under ROC curve : ', roc_auc_score(y_test, y_pred) *100 )"
      ]
    },
    {
      "cell_type": "code",
      "execution_count": null,
      "metadata": {
        "colab": {
          "base_uri": "https://localhost:8080/",
          "height": 312
        },
        "id": "6Hh61ucpx6_c",
        "outputId": "3af63599-44e6-41fb-8931-e6db3c0b8321"
      },
      "outputs": [
        {
          "name": "stdout",
          "output_type": "stream",
          "text": [
            "Area under the ROC curve for positive class: 0.78125\n"
          ]
        },
        {
          "data": {
            "image/png": "[encoded data removed]",
            "text/plain": [
              "<Figure size 432x288 with 1 Axes>"
            ]
          },
          "metadata": {
            "needs_background": "light"
          },
          "output_type": "display_data"
        }
      ],
      "source": [
        "import numpy as np\n",
        "import matplotlib.pyplot as plt\n",
        "from itertools import cycle\n",
        "from sklearn import svm, datasets\n",
        "from sklearn.metrics import roc_curve, auc\n",
        "from sklearn.model_selection import train_test_split\n",
        "from sklearn.preprocessing import label_binarize\n",
        "from sklearn.multiclass import OneVsRestClassifier\n",
        "from scipy import interp\n",
        "\n",
        "\n",
        "fpr = dict()\n",
        "tpr = dict()\n",
        "roc_auc = dict()\n",
        "for i in range(2):\n",
        "    fpr[i], tpr[i], _ = roc_curve(y_test[:, i], y_pred[:, i])\n",
        "    roc_auc[i] = auc(fpr[i], tpr[i])\n",
        "\n",
        "\n",
        "cls = 1\n",
        "fpr[\"micro\"], tpr[\"micro\"], _ = roc_curve(y_test.ravel(), y_pred.ravel())\n",
        "roc_auc[\"micro\"] = auc(fpr[\"micro\"], tpr[\"micro\"])\n",
        "\n",
        "print(\"Area under the ROC curve for positive class:\", roc_auc[1])\n",
        "\n",
        "\n",
        "plt.figure()\n",
        "lw = 2\n",
        "plt.plot(fpr[cls], tpr[cls], color='darkorange', lw=lw, label='ROC curve (area = %0.2f)' % roc_auc[cls])\n",
        "plt.plot([0, 1], [0, 1], color='navy', lw=lw, linestyle='--')\n",
        "plt.xlim([0.0, 1.0])\n",
        "plt.ylim([0.0, 1.05])\n",
        "plt.xlabel('False Positive Rate')\n",
        "plt.ylabel('True Positive Rate')\n",
        "plt.title('Receiver operating characteristic example')\n",
        "plt.legend(loc=\"lower right\")\n",
        "plt.savefig('{}/{}.png'.format(log_path+\"/\"+experiment_name, \"roc\"), dpi=500)\n",
        "plt.show()"
      ]
    },
    {
      "cell_type": "code",
      "execution_count": null,
      "metadata": {
        "colab": {
          "base_uri": "https://localhost:8080/"
        },
        "id": "ibMnW_4kbhpy",
        "outputId": "16d77c9a-bda2-4448-9ee5-a7dfba104b9e"
      },
      "outputs": [
        {
          "data": {
            "text/plain": [
              "(numpy.ndarray, 0.78125)"
            ]
          },
          "execution_count": 37,
          "metadata": {},
          "output_type": "execute_result"
        }
      ],
      "source": [
        "import pickle\n",
        "\n",
        "def save_obj(obj, name):\n",
        "    with open('{}'.format(log_path+\"/\") + name + '.pkl', 'wb') as f:\n",
        "        pickle.dump(obj, f, pickle.HIGHEST_PROTOCOL)\n",
        "\n",
        "def load_obj(name):\n",
        "    with open('{}'.format(log_path+\"/\") + name + '.pkl', 'rb') as f:\n",
        "        return pickle.load(f)\n",
        "\n",
        "ascore = {}\n",
        "ascore[\"fpr\"] = fpr[cls]\n",
        "ascore[\"tpr\"] = tpr[cls]\n",
        "ascore[\"roc_auc\"] = roc_auc[cls]\n",
        "save_obj(ascore, experiment_name)\n",
        "\n",
        "type(fpr[cls]), roc_auc[cls]"
      ]
    },
    {
      "cell_type": "markdown",
      "metadata": {
        "id": "qsBAJmom31Ep"
      },
      "source": [
        "### Creating inference submission files for ImageCLEF"
      ]
    },
    {
      "cell_type": "code",
      "execution_count": null,
      "metadata": {
        "colab": {
          "base_uri": "https://localhost:8080/"
        },
        "id": "Syi4HYH73qfX",
        "outputId": "3deac9ad-c20a-43eb-fa5d-11a95fa19197"
      },
      "outputs": [
        {
          "name": "stdout",
          "output_type": "stream",
          "text": [
            "Model: \"model\"\n",
            "_________________________________________________________________\n",
            " Layer (type)                Output Shape              Param #   \n",
            "=================================================================\n",
            " input_1 (InputLayer)        [(None, 128, 128, 64, 1)  0         \n",
            "                             ]                                   \n",
            "                                                                 \n",
            " conv3d (Conv3D)             (None, 126, 126, 62, 64)  1792      \n",
            "                                                                 \n",
            " max_pooling3d (MaxPooling3D  (None, 63, 63, 31, 64)   0         \n",
            " )                                                               \n",
            "                                                                 \n",
            " batch_normalization (BatchN  (None, 63, 63, 31, 64)   256       \n",
            " ormalization)                                                   \n",
            "                                                                 \n",
            " conv3d_2 (Conv3D)           (None, 61, 61, 29, 64)    110656    \n",
            "                                                                 \n",
            " max_pooling3d_2 (MaxPooling  (None, 30, 30, 14, 64)   0         \n",
            " 3D)                                                             \n",
            "                                                                 \n",
            " batch_normalization_2 (Batc  (None, 30, 30, 14, 64)   256       \n",
            " hNormalization)                                                 \n",
            "                                                                 \n",
            " conv3d_3 (Conv3D)           (None, 28, 28, 12, 128)   221312    \n",
            "                                                                 \n",
            " max_pooling3d_3 (MaxPooling  (None, 14, 14, 6, 128)   0         \n",
            " 3D)                                                             \n",
            "                                                                 \n",
            " batch_normalization_3 (Batc  (None, 14, 14, 6, 128)   512       \n",
            " hNormalization)                                                 \n",
            "                                                                 \n",
            " conv3d_4 (Conv3D)           (None, 12, 12, 4, 256)    884992    \n",
            "                                                                 \n",
            " max_pooling3d_4 (MaxPooling  (None, 6, 6, 2, 256)     0         \n",
            " 3D)                                                             \n",
            "                                                                 \n",
            " batch_normalization_4 (Batc  (None, 6, 6, 2, 256)     1024      \n",
            " hNormalization)                                                 \n",
            "                                                                 \n",
            " flatten (Flatten)           (None, 18432)             0         \n",
            "                                                                 \n",
            " dense (Dense)               (None, 512)               9437696   \n",
            "                                                                 \n",
            " dropout (Dropout)           (None, 512)               0         \n",
            "                                                                 \n",
            " dropout_1 (Dropout)         (None, 512)               0         \n",
            "                                                                 \n",
            " dense_2 (Dense)             (None, 2)                 1026      \n",
            "                                                                 \n",
            "=================================================================\n",
            "Total params: 10,659,522\n",
            "Trainable params: 10,658,498\n",
            "Non-trainable params: 1,024\n",
            "_________________________________________________________________\n"
          ]
        }
      ],
      "source": [
        "model = None\n",
        "model = load_model(\"{}/exp_siz_calcification/exp_siz_calcification.h5\".format(log_path))\n",
        "model.summary()"
      ]
    },
    {
      "cell_type": "code",
      "execution_count": null,
      "metadata": {
        "colab": {
          "base_uri": "https://localhost:8080/"
        },
        "id": "Meg0QPkQxw-h",
        "outputId": "ff86b854-2988-4a62-ea47-17a39f38aabf"
      },
      "outputs": [
        {
          "name": "stdout",
          "output_type": "stream",
          "text": [
            "Requirement already satisfied: tqdm in /usr/local/lib/python3.7/dist-packages (4.64.0)\n"
          ]
        }
      ],
      "source": [
        "!pip install tqdm"
      ]
    },
    {
      "cell_type": "code",
      "execution_count": null,
      "metadata": {
        "colab": {
          "base_uri": "https://localhost:8080/"
        },
        "id": "eCLXH8ni0Byg",
        "outputId": "302249da-e795-4e56-f1f2-a64330a74a3b"
      },
      "outputs": [
        {
          "name": "stdout",
          "output_type": "stream",
          "text": [
            "Collecting SimpleITK\n",
            "  Downloading SimpleITK-2.1.1.2-cp37-cp37m-manylinux_2_12_x86_64.manylinux2010_x86_64.whl (48.4 MB)\n",
            "\u001b[K     |████████████████████████████████| 48.4 MB 1.4 MB/s \n",
            "\u001b[?25hInstalling collected packages: SimpleITK\n",
            "Successfully installed SimpleITK-2.1.1.2\n"
          ]
        }
      ],
      "source": [
        "!pip install SimpleITK"
      ]
    },
    {
      "cell_type": "code",
      "execution_count": null,
      "metadata": {
        "id": "CYxyTb9M0syh"
      },
      "outputs": [],
      "source": [
        "w, h = 128, 128\n",
        "def rs_img(img):\n",
        "    '''W and H is 128 now\n",
        "    '''\n",
        "    img = np.transpose(img)\n",
        "    flatten = [cv2.resize(img[:,:,i], (w, h), interpolation=cv2.INTER_CUBIC) for i in range(img.shape[-1])]\n",
        "    img = np.array(np.dstack(flatten))\n",
        "    return img\n",
        "\n",
        "\n",
        "def change_depth_sss(img):\n",
        "    factor = 16\n",
        "    img_start = img[:,:,:factor]\n",
        "\n",
        "    mid = int(img.shape[-1]/2)\n",
        "    img_middle = img[:,:,mid-factor:mid+factor]\n",
        "\n",
        "    img_end = img[:,:,-factor:]\n",
        "    img = np.concatenate((img_start, img_middle, img_end), axis=2)\n",
        "    return img\n",
        "\n",
        "\n",
        "def change_depth_ess(img):\n",
        "    target_depth = 64\n",
        "    scan_depth = int(img.shape[-1])\n",
        "\n",
        "    if scan_depth < 64:\n",
        "        number = 64 - scan_depth\n",
        "        extend = [img[:,:,-1] for _ in range(number)]\n",
        "        extend = np.array(np.dstack(extend))\n",
        "        img = np.concatenate((img, extend), axis=2)\n",
        "\n",
        "    else:\n",
        "        factor = int(np.floor(scan_depth / target_depth))\n",
        "\n",
        "        flatten = []\n",
        "        idx = 0\n",
        "\n",
        "        for i in range(0, scan_depth, factor):\n",
        "          #print(idx)\n",
        "\n",
        "            if idx>=scan_depth:\n",
        "                break\n",
        "            else:\n",
        "                flatten.append(img[:,:,i])\n",
        "\n",
        "        img = np.array(np.dstack(flatten))\n",
        "\n",
        "    img = img[:,:,:target_depth]\n",
        "\n",
        "    assert img.shape[-1] == target_depth , \"Error\"\n",
        "    return img\n",
        "\n",
        "\n",
        "def change_depth_siz(img):\n",
        "    desired_depth = 64\n",
        "    current_depth = img.shape[-1]\n",
        "    depth = current_depth / desired_depth\n",
        "    depth_factor = 1 / depth\n",
        "    img_new = zoom(img, (1, 1, depth_factor), mode='nearest')\n",
        "    return img_new\n",
        "\n",
        "def normalize(image):\n",
        "    global MIN_BOUND\n",
        "    global MAX_BOUND\n",
        "\n",
        "    image = (image - MIN_BOUND) / (MAX_BOUND - MIN_BOUND)\n",
        "    image[image>1] = 1.\n",
        "    image[image<0] = 0.\n",
        "    return image\n",
        "\n",
        "\n",
        "def zero_center(image):\n",
        "    image = image - PIXEL_MEAN\n",
        "    return image\n",
        "\n",
        "\n",
        "def plot_seq(data, name):\n",
        "    a, b = 3, 20\n",
        "    data = np.reshape(data, (a, b, 128, 128))\n",
        "    test_data = data\n",
        "    r, c = test_data.shape[0], test_data.shape[1]\n",
        "\n",
        "    cmaps = [['viridis', 'binary'], ['plasma', 'coolwarm'], ['Greens', 'copper']]\n",
        "\n",
        "    heights = [a[0].shape[0] for a in test_data]\n",
        "    widths = [a.shape[1] for a in test_data[0]]\n",
        "\n",
        "    fig_width = 10.  # inches\n",
        "    fig_height = fig_width * sum(heights) / sum(widths)\n",
        "\n",
        "    f, axarr = plt.subplots(r,c, figsize=(fig_width, fig_height),\n",
        "          gridspec_kw={'height_ratios':heights})\n",
        "\n",
        "    for i in range(r):\n",
        "        for j in range(c):\n",
        "            axarr[i, j].imshow(test_data[i][j], cmap='gray')\n",
        "            axarr[i, j].axis('off')\n",
        "\n",
        "    plt.subplots_adjust(wspace=0, hspace=0, left=0, right=1, bottom=0, top=1)\n",
        "    plt.savefig('{}/{}.png'.format(log_path, name), dpi=1000)\n",
        "    plt.show()\n",
        "\n",
        "\n",
        "def resize_depth_wise(img3d):\n",
        "    p = img3d\n",
        "    p_2d = []\n",
        "\n",
        "    depth = 2\n",
        "\n",
        "    n = 0\n",
        "    c = 0\n",
        "\n",
        "    for c in range(70):\n",
        "        img = img3d[:,:,n+depth]\n",
        "        p_2d.append(img)\n",
        "        n = n+depth\n",
        "        c = c+1\n",
        "\n",
        "    p_3d_d64 = np.array(np.dstack(p_2d))\n",
        "    return p_3d_d64"
      ]
    },
    {
      "cell_type": "code",
      "execution_count": null,
      "metadata": {
        "colab": {
          "base_uri": "https://localhost:8080/"
        },
        "id": "rPlAbM0Qn9Xj",
        "outputId": "190ed35a-cdff-4023-8b60-5f7d391234e1"
      },
      "outputs": [
        {
          "name": "stdout",
          "output_type": "stream",
          "text": [
            "16\n",
            "['TST_00.nii.gz', 'TST_01.nii.gz']\n"
          ]
        },
        {
          "name": "stderr",
          "output_type": "stream",
          "text": [
            "\r  0%|          | 0/16 [00:00<?, ?it/s]"
          ]
        },
        {
          "name": "stdout",
          "output_type": "stream",
          "text": [
            "Image Name TST_00.nii.gz\n"
          ]
        },
        {
          "name": "stderr",
          "output_type": "stream",
          "text": [
            "\r  6%|▋         | 1/16 [00:01<00:16,  1.12s/it]"
          ]
        },
        {
          "name": "stdout",
          "output_type": "stream",
          "text": [
            "Image Name TST_01.nii.gz\n"
          ]
        },
        {
          "name": "stderr",
          "output_type": "stream",
          "text": [
            "\r 12%|█▎        | 2/16 [00:07<00:58,  4.17s/it]"
          ]
        },
        {
          "name": "stdout",
          "output_type": "stream",
          "text": [
            "Image Name TST_02.nii.gz\n"
          ]
        },
        {
          "name": "stderr",
          "output_type": "stream",
          "text": [
            "\r 19%|█▉        | 3/16 [00:16<01:20,  6.20s/it]"
          ]
        },
        {
          "name": "stdout",
          "output_type": "stream",
          "text": [
            "Image Name TST_03.nii.gz\n"
          ]
        },
        {
          "name": "stderr",
          "output_type": "stream",
          "text": [
            "\r 25%|██▌       | 4/16 [00:24<01:25,  7.10s/it]"
          ]
        },
        {
          "name": "stdout",
          "output_type": "stream",
          "text": [
            "Image Name TST_04.nii.gz\n"
          ]
        },
        {
          "name": "stderr",
          "output_type": "stream",
          "text": [
            "\r 31%|███▏      | 5/16 [00:33<01:24,  7.67s/it]"
          ]
        },
        {
          "name": "stdout",
          "output_type": "stream",
          "text": [
            "Image Name TST_05.nii.gz\n"
          ]
        },
        {
          "name": "stderr",
          "output_type": "stream",
          "text": [
            "\r 38%|███▊      | 6/16 [00:40<01:16,  7.62s/it]"
          ]
        },
        {
          "name": "stdout",
          "output_type": "stream",
          "text": [
            "Image Name TST_06.nii.gz\n"
          ]
        },
        {
          "name": "stderr",
          "output_type": "stream",
          "text": [
            "\r 44%|████▍     | 7/16 [00:47<01:04,  7.20s/it]"
          ]
        },
        {
          "name": "stdout",
          "output_type": "stream",
          "text": [
            "Image Name TST_07.nii.gz\n"
          ]
        },
        {
          "name": "stderr",
          "output_type": "stream",
          "text": [
            "\r 50%|█████     | 8/16 [00:53<00:55,  6.90s/it]"
          ]
        },
        {
          "name": "stdout",
          "output_type": "stream",
          "text": [
            "Image Name TST_08.nii.gz\n"
          ]
        },
        {
          "name": "stderr",
          "output_type": "stream",
          "text": [
            "\r 56%|█████▋    | 9/16 [00:54<00:36,  5.21s/it]"
          ]
        },
        {
          "name": "stdout",
          "output_type": "stream",
          "text": [
            "Image Name TST_09.nii.gz\n"
          ]
        },
        {
          "name": "stderr",
          "output_type": "stream",
          "text": [
            "\r 62%|██████▎   | 10/16 [00:59<00:30,  5.15s/it]"
          ]
        },
        {
          "name": "stdout",
          "output_type": "stream",
          "text": [
            "Image Name TST_10.nii.gz\n"
          ]
        },
        {
          "name": "stderr",
          "output_type": "stream",
          "text": [
            "\r 69%|██████▉   | 11/16 [01:04<00:24,  5.00s/it]"
          ]
        },
        {
          "name": "stdout",
          "output_type": "stream",
          "text": [
            "Image Name TST_11.nii.gz\n"
          ]
        },
        {
          "name": "stderr",
          "output_type": "stream",
          "text": [
            "\r 75%|███████▌  | 12/16 [01:09<00:20,  5.15s/it]"
          ]
        },
        {
          "name": "stdout",
          "output_type": "stream",
          "text": [
            "Image Name TST_12.nii.gz\n"
          ]
        },
        {
          "name": "stderr",
          "output_type": "stream",
          "text": [
            "\r 81%|████████▏ | 13/16 [01:11<00:11,  3.99s/it]"
          ]
        },
        {
          "name": "stdout",
          "output_type": "stream",
          "text": [
            "Image Name TST_13.nii.gz\n"
          ]
        },
        {
          "name": "stderr",
          "output_type": "stream",
          "text": [
            "\r 88%|████████▊ | 14/16 [01:15<00:07,  3.99s/it]"
          ]
        },
        {
          "name": "stdout",
          "output_type": "stream",
          "text": [
            "Image Name TST_14.nii.gz\n"
          ]
        },
        {
          "name": "stderr",
          "output_type": "stream",
          "text": [
            "\r 94%|█████████▍| 15/16 [01:21<00:04,  4.60s/it]"
          ]
        },
        {
          "name": "stdout",
          "output_type": "stream",
          "text": [
            "Image Name TST_15.nii.gz\n"
          ]
        },
        {
          "name": "stderr",
          "output_type": "stream",
          "text": [
            "100%|██████████| 16/16 [01:25<00:00,  5.37s/it]\n"
          ]
        },
        {
          "data": {
            "text/plain": [
              "(16, 128, 128, 64)"
            ]
          },
          "execution_count": 42,
          "metadata": {},
          "output_type": "execute_result"
        }
      ],
      "source": [
        "from tqdm import tqdm\n",
        "import SimpleITK as sitk\n",
        "INPUT_FOLDER = 'Test Data/'\n",
        "test_data_raw = os.path.join(dataset_path, INPUT_FOLDER)\n",
        "\n",
        "patients_test = sorted(os.listdir(test_data_raw))\n",
        "print(len(patients_test))\n",
        "print(patients_test[:2])\n",
        "\n",
        "pts_test = []\n",
        "\n",
        "for ps in tqdm(patients_test[:]):\n",
        "\n",
        "    print(\"Image Name\", ps)\n",
        "    img = sitk.ReadImage(test_data_raw + ps)\n",
        "    img = sitk.GetArrayFromImage(img)\n",
        "\n",
        "    img = rs_img(img)\n",
        "\n",
        "    img = change_depth_sss(img)\n",
        "\n",
        "    pts_test.append(img)\n",
        "    img=None\n",
        "\n",
        "test_data = np.array(pts_test)\n",
        "test_data.shape"
      ]
    },
    {
      "cell_type": "code",
      "execution_count": null,
      "metadata": {
        "colab": {
          "base_uri": "https://localhost:8080/"
        },
        "id": "lk7w14iZn-eV",
        "outputId": "9b4a0e4a-5fd6-4f41-bcef-d12db15a3e79"
      },
      "outputs": [
        {
          "name": "stdout",
          "output_type": "stream",
          "text": [
            "Min -2566\n",
            "Min 4676\n",
            "Mean -716.157154738903\n"
          ]
        }
      ],
      "source": [
        "MIN_BOUND = np.min(test_data)\n",
        "MAX_BOUND = np.max(test_data)\n",
        "PIXEL_MEAN = np.mean(test_data)\n",
        "\n",
        "print(\"Min\", MIN_BOUND)\n",
        "print(\"Min\", MAX_BOUND)\n",
        "print(\"Mean\", PIXEL_MEAN)"
      ]
    },
    {
      "cell_type": "code",
      "execution_count": null,
      "metadata": {
        "colab": {
          "base_uri": "https://localhost:8080/"
        },
        "id": "dq1ZJgukn-wm",
        "outputId": "b1c56a10-d62a-4671-e14b-0dd5007940fc"
      },
      "outputs": [
        {
          "data": {
            "text/plain": [
              "(1.0, 0.0)"
            ]
          },
          "execution_count": 44,
          "metadata": {},
          "output_type": "execute_result"
        }
      ],
      "source": [
        "x_test = normalize(test_data)\n",
        "np.max(x_test), np.min(x_test)"
      ]
    },
    {
      "cell_type": "code",
      "execution_count": null,
      "metadata": {
        "colab": {
          "base_uri": "https://localhost:8080/"
        },
        "id": "iBspNokTPTQz",
        "outputId": "1e7afbe2-fa4b-40f3-f75b-e90369d02b5b"
      },
      "outputs": [
        {
          "name": "stdout",
          "output_type": "stream",
          "text": [
            "Min 0.0\n",
            "Max 1.0\n",
            "Mean 0.2554325939327664\n"
          ]
        }
      ],
      "source": [
        "MIN_BOUND = np.min(x_test)\n",
        "MAX_BOUND = np.max(x_test)\n",
        "PIXEL_MEAN = np.mean(x_test)\n",
        "\n",
        "print(\"Min\", MIN_BOUND)\n",
        "print(\"Max\", MAX_BOUND)\n",
        "print(\"Mean\", PIXEL_MEAN)"
      ]
    },
    {
      "cell_type": "code",
      "execution_count": null,
      "metadata": {
        "id": "5WskninT1ooQ"
      },
      "outputs": [],
      "source": [
        "def expand_dims(val):\n",
        "    val_exp = np.expand_dims(val, axis=4)\n",
        "    return val_exp"
      ]
    },
    {
      "cell_type": "code",
      "execution_count": null,
      "metadata": {
        "colab": {
          "base_uri": "https://localhost:8080/"
        },
        "id": "0gZx8dyiN9cA",
        "outputId": "9e230a67-c6e0-4b2c-c7b7-eaa274d1fa34"
      },
      "outputs": [
        {
          "data": {
            "text/plain": [
              "16"
            ]
          },
          "execution_count": 48,
          "metadata": {},
          "output_type": "execute_result"
        }
      ],
      "source": [
        "len(x_test)"
      ]
    },
    {
      "cell_type": "code",
      "execution_count": null,
      "metadata": {
        "colab": {
          "base_uri": "https://localhost:8080/"
        },
        "id": "C8nMeMFDIuXQ",
        "outputId": "69463190-50d9-4d37-c404-2ee7ecdf0706"
      },
      "outputs": [
        {
          "name": "stdout",
          "output_type": "stream",
          "text": [
            "(16, 2)\n"
          ]
        }
      ],
      "source": [
        "y_pred = []\n",
        "\n",
        "for img in x_test:\n",
        "    img = np.expand_dims(img, axis=0)\n",
        "    y = model.predict(img)\n",
        "    y_pred.append(y[:][0])\n",
        "\n",
        "y_pred = np.array(y_pred)\n",
        "print(y_pred.shape)"
      ]
    },
    {
      "cell_type": "code",
      "execution_count": null,
      "metadata": {
        "colab": {
          "base_uri": "https://localhost:8080/"
        },
        "id": "6AKXjWJnI5AL",
        "outputId": "d54d59d9-856f-438e-a8a7-eb0e305fbaa6"
      },
      "outputs": [
        {
          "data": {
            "text/plain": [
              "array([[3.5873146e-03, 9.9641269e-01],\n",
              "       [1.6528033e-01, 8.3471966e-01],\n",
              "       [1.1590580e-02, 9.8840940e-01],\n",
              "       [8.9678133e-04, 9.9910331e-01],\n",
              "       [7.0008479e-02, 9.2999148e-01],\n",
              "       [1.8417996e-01, 8.1582010e-01],\n",
              "       [9.9634737e-02, 9.0036529e-01],\n",
              "       [3.9069018e-01, 6.0930979e-01],\n",
              "       [3.9454160e-04, 9.9960548e-01],\n",
              "       [2.7374342e-02, 9.7262561e-01],\n",
              "       [3.4893714e-02, 9.6510625e-01],\n",
              "       [1.7102275e-03, 9.9828976e-01],\n",
              "       [4.3020244e-03, 9.9569798e-01],\n",
              "       [8.4917992e-02, 9.1508198e-01],\n",
              "       [2.0501639e-01, 7.9498357e-01],\n",
              "       [1.3712871e-01, 8.6287129e-01]], dtype=float32)"
            ]
          },
          "execution_count": 50,
          "metadata": {},
          "output_type": "execute_result"
        }
      ],
      "source": [
        "y_pred"
      ]
    },
    {
      "cell_type": "code",
      "execution_count": null,
      "metadata": {
        "id": "jlYy17EB3qtG"
      },
      "outputs": [],
      "source": [
        "res = []\n",
        "for i in x_test:\n",
        "    i = np.expand_dims(i, axis=0)\n",
        "    y_pred = model.predict(i)\n",
        "    res.append(y_pred)\n",
        "    #print(i.shape)"
      ]
    },
    {
      "cell_type": "code",
      "execution_count": null,
      "metadata": {
        "colab": {
          "base_uri": "https://localhost:8080/"
        },
        "id": "gmPkM8aHIRzj",
        "outputId": "1a696593-9f21-4d93-8768-f2c9a846c791"
      },
      "outputs": [
        {
          "data": {
            "text/plain": [
              "[array([[0.00358731, 0.9964127 ]], dtype=float32),\n",
              " array([[0.16528033, 0.83471966]], dtype=float32),\n",
              " array([[0.01159058, 0.9884094 ]], dtype=float32),\n",
              " array([[8.9678133e-04, 9.9910331e-01]], dtype=float32),\n",
              " array([[0.07000848, 0.9299915 ]], dtype=float32),\n",
              " array([[0.18417996, 0.8158201 ]], dtype=float32),\n",
              " array([[0.09963474, 0.9003653 ]], dtype=float32),\n",
              " array([[0.39069018, 0.6093098 ]], dtype=float32),\n",
              " array([[3.945416e-04, 9.996055e-01]], dtype=float32),\n",
              " array([[0.02737434, 0.9726256 ]], dtype=float32),\n",
              " array([[0.03489371, 0.96510625]], dtype=float32),\n",
              " array([[0.00171023, 0.99828976]], dtype=float32),\n",
              " array([[0.00430202, 0.995698  ]], dtype=float32),\n",
              " array([[0.08491799, 0.915082  ]], dtype=float32),\n",
              " array([[0.20501639, 0.79498357]], dtype=float32),\n",
              " array([[0.13712871, 0.8628713 ]], dtype=float32)]"
            ]
          },
          "execution_count": 52,
          "metadata": {},
          "output_type": "execute_result"
        }
      ],
      "source": [
        "res"
      ]
    },
    {
      "cell_type": "code",
      "execution_count": null,
      "metadata": {
        "colab": {
          "base_uri": "https://localhost:8080/"
        },
        "id": "d2uoQDJK3qq9",
        "outputId": "b707ba1d-9d9c-4cd9-fbcc-c4735efa09fa"
      },
      "outputs": [
        {
          "data": {
            "text/plain": [
              "(16, 1, 2)"
            ]
          },
          "execution_count": 53,
          "metadata": {},
          "output_type": "execute_result"
        }
      ],
      "source": [
        "res = np.array(res)\n",
        "res.shape"
      ]
    },
    {
      "cell_type": "code",
      "execution_count": null,
      "metadata": {
        "colab": {
          "base_uri": "https://localhost:8080/"
        },
        "id": "MWtc_No1iI7p",
        "outputId": "f7ed57f0-5912-4b0c-b968-00bc3a61d4ed"
      },
      "outputs": [
        {
          "data": {
            "text/plain": [
              "array([[[0.00358731, 0.9964127 ]],\n",
              "\n",
              "       [[0.16528033, 0.83471966]]], dtype=float32)"
            ]
          },
          "execution_count": 54,
          "metadata": {},
          "output_type": "execute_result"
        }
      ],
      "source": [
        "res[:2]"
      ]
    },
    {
      "cell_type": "code",
      "execution_count": null,
      "metadata": {
        "colab": {
          "base_uri": "https://localhost:8080/"
        },
        "id": "95h2C3JlidGr",
        "outputId": "ce6dfe98-b564-4115-b785-993e329cb567"
      },
      "outputs": [
        {
          "data": {
            "text/plain": [
              "array([[[3.5873146e-03, 9.9641269e-01]],\n",
              "\n",
              "       [[1.6528033e-01, 8.3471966e-01]],\n",
              "\n",
              "       [[1.1590580e-02, 9.8840940e-01]],\n",
              "\n",
              "       [[8.9678133e-04, 9.9910331e-01]],\n",
              "\n",
              "       [[7.0008479e-02, 9.2999148e-01]],\n",
              "\n",
              "       [[1.8417996e-01, 8.1582010e-01]],\n",
              "\n",
              "       [[9.9634737e-02, 9.0036529e-01]],\n",
              "\n",
              "       [[3.9069018e-01, 6.0930979e-01]],\n",
              "\n",
              "       [[3.9454160e-04, 9.9960548e-01]],\n",
              "\n",
              "       [[2.7374342e-02, 9.7262561e-01]],\n",
              "\n",
              "       [[3.4893714e-02, 9.6510625e-01]],\n",
              "\n",
              "       [[1.7102275e-03, 9.9828976e-01]],\n",
              "\n",
              "       [[4.3020244e-03, 9.9569798e-01]],\n",
              "\n",
              "       [[8.4917992e-02, 9.1508198e-01]],\n",
              "\n",
              "       [[2.0501639e-01, 7.9498357e-01]],\n",
              "\n",
              "       [[1.3712871e-01, 8.6287129e-01]]], dtype=float32)"
            ]
          },
          "execution_count": 55,
          "metadata": {},
          "output_type": "execute_result"
        }
      ],
      "source": [
        "res"
      ]
    },
    {
      "cell_type": "code",
      "execution_count": null,
      "metadata": {
        "colab": {
          "base_uri": "https://localhost:8080/",
          "height": 206
        },
        "id": "BcoXaust3qkz",
        "outputId": "47eeadc3-2a0d-4dfe-d4b1-e6bd328a239a"
      },
      "outputs": [
        {
          "data": {
            "text/html": [
              "\n",
              "  <div id=\"df-9138d4b8-d2a7-4079-b00d-e044d4628111\">\n",
              "    <div class=\"colab-df-container\">\n",
              "      <div>\n",
              "<style scoped>\n",
              "    .dataframe tbody tr th:only-of-type {\n",
              "        vertical-align: middle;\n",
              "    }\n",
              "\n",
              "    .dataframe tbody tr th {\n",
              "        vertical-align: top;\n",
              "    }\n",
              "\n",
              "    .dataframe thead th {\n",
              "        text-align: right;\n",
              "    }\n",
              "</style>\n",
              "<table border=\"1\" class=\"dataframe\">\n",
              "  <thead>\n",
              "    <tr style=\"text-align: right;\">\n",
              "      <th></th>\n",
              "      <th>Filename</th>\n",
              "    </tr>\n",
              "  </thead>\n",
              "  <tbody>\n",
              "    <tr>\n",
              "      <th>0</th>\n",
              "      <td>TST_00.nii.gz</td>\n",
              "    </tr>\n",
              "    <tr>\n",
              "      <th>1</th>\n",
              "      <td>TST_01.nii.gz</td>\n",
              "    </tr>\n",
              "    <tr>\n",
              "      <th>2</th>\n",
              "      <td>TST_02.nii.gz</td>\n",
              "    </tr>\n",
              "    <tr>\n",
              "      <th>3</th>\n",
              "      <td>TST_03.nii.gz</td>\n",
              "    </tr>\n",
              "    <tr>\n",
              "      <th>4</th>\n",
              "      <td>TST_04.nii.gz</td>\n",
              "    </tr>\n",
              "  </tbody>\n",
              "</table>\n",
              "</div>\n",
              "      <button class=\"colab-df-convert\" onclick=\"convertToInteractive('df-9138d4b8-d2a7-4079-b00d-e044d4628111')\"\n",
              "              title=\"Convert this dataframe to an interactive table.\"\n",
              "              style=\"display:none;\">\n",
              "        \n",
              "  <svg xmlns=\"http://www.w3.org/2000/svg\" height=\"24px\"viewBox=\"0 0 24 24\"\n",
              "       width=\"24px\">\n",
              "    <path d=\"M0 0h24v24H0V0z\" fill=\"none\"/>\n",
              "    <path d=\"M18.56 5.44l.94 2.06.94-2.06 2.06-.94-2.06-.94-.94-2.06-.94 2.06-2.06.94zm-11 1L8.5 8.5l.94-2.06 2.06-.94-2.06-.94L8.5 2.5l-.94 2.06-2.06.94zm10 10l.94 2.06.94-2.06 2.06-.94-2.06-.94-.94-2.06-.94 2.06-2.06.94z\"/><path d=\"M17.41 7.96l-1.37-1.37c-.4-.4-.92-.59-1.43-.59-.52 0-1.04.2-1.43.59L10.3 9.45l-7.72 7.72c-.78.78-.78 2.05 0 2.83L4 21.41c.39.39.9.59 1.41.59.51 0 1.02-.2 1.41-.59l7.78-7.78 2.81-2.81c.8-.78.8-2.07 0-2.86zM5.41 20L4 18.59l7.72-7.72 1.47 1.35L5.41 20z\"/>\n",
              "  </svg>\n",
              "      </button>\n",
              "      \n",
              "  <style>\n",
              "    .colab-df-container {\n",
              "      display:flex;\n",
              "      flex-wrap:wrap;\n",
              "      gap: 12px;\n",
              "    }\n",
              "\n",
              "    .colab-df-convert {\n",
              "      background-color: #E8F0FE;\n",
              "      border: none;\n",
              "      border-radius: 50%;\n",
              "      cursor: pointer;\n",
              "      display: none;\n",
              "      fill: #1967D2;\n",
              "      height: 32px;\n",
              "      padding: 0 0 0 0;\n",
              "      width: 32px;\n",
              "    }\n",
              "\n",
              "    .colab-df-convert:hover {\n",
              "      background-color: #E2EBFA;\n",
              "      box-shadow: 0px 1px 2px rgba(60, 64, 67, 0.3), 0px 1px 3px 1px rgba(60, 64, 67, 0.15);\n",
              "      fill: #174EA6;\n",
              "    }\n",
              "\n",
              "    [theme=dark] .colab-df-convert {\n",
              "      background-color: #3B4455;\n",
              "      fill: #D2E3FC;\n",
              "    }\n",
              "\n",
              "    [theme=dark] .colab-df-convert:hover {\n",
              "      background-color: #434B5C;\n",
              "      box-shadow: 0px 1px 3px 1px rgba(0, 0, 0, 0.15);\n",
              "      filter: drop-shadow(0px 1px 2px rgba(0, 0, 0, 0.3));\n",
              "      fill: #FFFFFF;\n",
              "    }\n",
              "  </style>\n",
              "\n",
              "      <script>\n",
              "        const buttonEl =\n",
              "          document.querySelector('#df-9138d4b8-d2a7-4079-b00d-e044d4628111 button.colab-df-convert');\n",
              "        buttonEl.style.display =\n",
              "          google.colab.kernel.accessAllowed ? 'block' : 'none';\n",
              "\n",
              "        async function convertToInteractive(key) {\n",
              "          const element = document.querySelector('#df-9138d4b8-d2a7-4079-b00d-e044d4628111');\n",
              "          const dataTable =\n",
              "            await google.colab.kernel.invokeFunction('convertToInteractive',\n",
              "                                                     [key], {});\n",
              "          if (!dataTable) return;\n",
              "\n",
              "          const docLinkHtml = 'Like what you see? Visit the ' +\n",
              "            '<a target=\"_blank\" href=https://colab.research.google.com/notebooks/data_table.ipynb>data table notebook</a>'\n",
              "            + ' to learn more about interactive tables.';\n",
              "          element.innerHTML = '';\n",
              "          dataTable['output_type'] = 'display_data';\n",
              "          await google.colab.output.renderOutput(dataTable, element);\n",
              "          const docLink = document.createElement('div');\n",
              "          docLink.innerHTML = docLinkHtml;\n",
              "          element.appendChild(docLink);\n",
              "        }\n",
              "      </script>\n",
              "    </div>\n",
              "  </div>\n",
              "  "
            ],
            "text/plain": [
              "        Filename\n",
              "0  TST_00.nii.gz\n",
              "1  TST_01.nii.gz\n",
              "2  TST_02.nii.gz\n",
              "3  TST_03.nii.gz\n",
              "4  TST_04.nii.gz"
            ]
          },
          "execution_count": 57,
          "metadata": {},
          "output_type": "execute_result"
        }
      ],
      "source": [
        "import os\n",
        "import cv2\n",
        "import numpy as np\n",
        "import matplotlib.pyplot as plt\n",
        "from keras.models import load_model\n",
        "import pandas as pd\n",
        "\n",
        "dt = pd.read_csv('{}/TestSet_metaData.csv'.format(dataset_path))\n",
        "#dt = pd.read_csv('{}/TestSet_metaData.csv'.format(base_path))\n",
        "dt.head()"
      ]
    },
    {
      "cell_type": "code",
      "execution_count": null,
      "metadata": {
        "colab": {
          "base_uri": "https://localhost:8080/"
        },
        "id": "KJmy4-Nau4U4",
        "outputId": "ffce6aa1-bd2a-48a4-c53f-40d822bb7f63"
      },
      "outputs": [
        {
          "data": {
            "text/plain": [
              "16"
            ]
          },
          "execution_count": 58,
          "metadata": {},
          "output_type": "execute_result"
        }
      ],
      "source": [
        "len(dt)"
      ]
    },
    {
      "cell_type": "code",
      "execution_count": null,
      "metadata": {
        "colab": {
          "base_uri": "https://localhost:8080/"
        },
        "id": "bPBhkjsM3qiy",
        "outputId": "a95656bb-18fd-4dcd-9c2f-2866a76c6a10"
      },
      "outputs": [
        {
          "data": {
            "text/plain": [
              "[0.9964127, 0.83471966, 0.9884094, 0.9991033, 0.9299915]"
            ]
          },
          "execution_count": 59,
          "metadata": {},
          "output_type": "execute_result"
        }
      ],
      "source": [
        "patient_names = dt['Filename'].values\n",
        "len(patient_names)\n",
        "\n",
        "names = []\n",
        "\n",
        "for name in patient_names:\n",
        "    names.append(name[:-7])\n",
        "\n",
        "names[:5]\n",
        "\n",
        "probab = []\n",
        "\n",
        "for p in res:\n",
        "    probab.append(p[0][1])\n",
        "\n",
        "probab[:5]"
      ]
    },
    {
      "cell_type": "code",
      "execution_count": null,
      "metadata": {
        "colab": {
          "base_uri": "https://localhost:8080/"
        },
        "id": "7oyQ2uMD3qY-",
        "outputId": "61599497-e729-4af2-e001-badafd15b49e"
      },
      "outputs": [
        {
          "name": "stdout",
          "output_type": "stream",
          "text": [
            "TST_00 0.9964127\n",
            "TST_01 0.83471966\n",
            "TST_02 0.9884094\n",
            "TST_03 0.9991033\n",
            "TST_04 0.9299915\n",
            "TST_05 0.8158201\n",
            "TST_06 0.9003653\n",
            "TST_07 0.6093098\n",
            "TST_08 0.9996055\n",
            "TST_09 0.9726256\n",
            "TST_10 0.96510625\n",
            "TST_11 0.99828976\n",
            "TST_12 0.995698\n",
            "TST_13 0.915082\n",
            "TST_14 0.79498357\n",
            "TST_15 0.8628713\n"
          ]
        }
      ],
      "source": [
        "for n, p in zip(names, probab):\n",
        "    print(n, p)"
      ]
    },
    {
      "cell_type": "code",
      "execution_count": null,
      "metadata": {
        "colab": {
          "base_uri": "https://localhost:8080/"
        },
        "id": "qE_cR4n4tqMn",
        "outputId": "fc19a6a7-bf57-418f-b745-17d45804c8a3"
      },
      "outputs": [
        {
          "name": "stdout",
          "output_type": "stream",
          "text": [
            "TST_00 , 0.9964127\n",
            "TST_01 , 0.83471966\n",
            "TST_02 , 0.9884094\n",
            "TST_03 , 0.9991033\n",
            "TST_04 , 0.9299915\n",
            "TST_05 , 0.8158201\n",
            "TST_06 , 0.9003653\n",
            "TST_07 , 0.6093098\n",
            "TST_08 , 0.9996055\n",
            "TST_09 , 0.9726256\n",
            "TST_10 , 0.96510625\n",
            "TST_11 , 0.99828976\n",
            "TST_12 , 0.995698\n",
            "TST_13 , 0.915082\n",
            "TST_14 , 0.79498357\n",
            "TST_15 , 0.8628713\n"
          ]
        }
      ],
      "source": [
        "with open('{}/submission-calcification.txt'.format(base_path), 'w') as f:\n",
        "    for n, p in zip(names, probab):\n",
        "        print(n,\",\", p)\n",
        "        f.write(str(n))\n",
        "        f.write(\",\")\n",
        "        f.write(str(p))\n",
        "        f.write(\"\\n\")\n",
        "\n",
        "f.close()"
      ]
    }
  ],
  "metadata": {
    "accelerator": "GPU",
    "colab": {
      "provenance": []
    },
    "kernelspec": {
      "display_name": "Python 3",
      "language": "python",
      "name": "python3"
    },
    "language_info": {
      "codemirror_mode": {
        "name": "ipython",
        "version": 3
      },
      "file_extension": ".py",
      "mimetype": "text/x-python",
      "name": "python",
      "nbconvert_exporter": "python",
      "pygments_lexer": "ipython3",
      "version": "3.6.11"
    }
  },
  "nbformat": 4,
  "nbformat_minor": 0
}
